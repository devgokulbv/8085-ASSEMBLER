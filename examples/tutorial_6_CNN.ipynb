{
  "cells": [
    {
      "cell_type": "markdown",
      "metadata": {
        "id": "view-in-github",
        "colab_type": "text"
      },
      "source": [
        "<a href=\"https://colab.research.google.com/github/devgokulbv/8085-ASSEMBLER/blob/main/examples/tutorial_6_CNN.ipynb\" target=\"_parent\"><img src=\"https://colab.research.google.com/assets/colab-badge.svg\" alt=\"Open In Colab\"/></a>"
      ]
    },
    {
      "cell_type": "markdown",
      "metadata": {
        "collapsed": false,
        "id": "uSGZ6cdmpknm",
        "pycharm": {
          "name": "#%% md\n"
        }
      },
      "source": [
        "[<img src='https://github.com/jeshraghian/snntorch/blob/master/docs/_static/img/snntorch_alpha_w.png?raw=true' width=\"400\">](https://github.com/jeshraghian/snntorch/)\n",
        "\n",
        "# snnTorch - Surrogate Gradient Descent in a Convolutional Spiking Neural Network\n",
        "## Tutorial 6\n",
        "### By Jason K. Eshraghian (www.ncg.ucsc.edu)\n",
        "\n",
        "<a href=\"https://colab.research.google.com/github/jeshraghian/snntorch/blob/master/examples/tutorial_6_CNN.ipynb\">\n",
        "  <img src=\"https://colab.research.google.com/assets/colab-badge.svg\" alt=\"Open In Colab\"/>\n",
        "</a>\n",
        "\n",
        "[<img src='https://github.com/jeshraghian/snntorch/blob/master/docs/_static/img/GitHub-Mark-Light-120px-plus.png?raw=true' width=\"28\">](https://github.com/jeshraghian/snntorch/) [<img src='https://github.com/jeshraghian/snntorch/blob/master/docs/_static/img/GitHub_Logo_White.png?raw=true' width=\"80\">](https://github.com/jeshraghian/snntorch/)"
      ]
    },
    {
      "cell_type": "markdown",
      "metadata": {
        "id": "rugeYYiqsrlc"
      },
      "source": [
        "The snnTorch tutorial series is based on the following paper. If you find these resources or code useful in your work, please consider citing the following source:\n",
        "\n",
        "> <cite> [Jason K. Eshraghian, Max Ward, Emre Neftci, Xinxin Wang, Gregor Lenz, Girish Dwivedi, Mohammed Bennamoun, Doo Seok Jeong, and Wei D. Lu. \"Training Spiking Neural Networks Using Lessons From Deep Learning\". Proceedings of the IEEE, 111(9) September 2023.](https://ieeexplore.ieee.org/abstract/document/10242251) </cite>\n"
      ]
    },
    {
      "cell_type": "markdown",
      "metadata": {
        "id": "Ymi3sqJg28OQ"
      },
      "source": [
        "# Introduction\n",
        "In this tutorial, you will:\n",
        "* Learn how to modify surrogate gradient descent to overcome the dead neuron problem\n",
        "* Construct and train a convolutional spiking neural network\n",
        "* Use a sequential container, `nn.Sequential` to simplify model construction\n",
        "\n",
        "Part of this tutorial was inspired by Friedemann Zenke’s extensive\n",
        "work on SNNs. Check out his repo on surrogate gradients\n",
        "[here](https://github.com/fzenke/spytorch), and a favourite paper\n",
        "of mine: E. O. Neftci, H. Mostafa, F. Zenke, [Surrogate Gradient\n",
        "Learning in Spiking Neural Networks: Bringing the Power of\n",
        "Gradient-based optimization to spiking neural\n",
        "networks.](https://ieeexplore.ieee.org/document/8891809) IEEE\n",
        "Signal Processing Magazine 36, 51–63.\n",
        "\n",
        "At the end of the tutorial, we will train a convolutional spiking neural network (CSNN) using the MNIST dataset to perform image classification. The background theory follows on from [Tutorials 2, 4 and 5](https://snntorch.readthedocs.io/en/latest/tutorials/index.html), so feel free to go back if you need to brush up.\n",
        "\n",
        "If running in Google Colab:\n",
        "* You may connect to GPU by checking `Runtime` > `Change runtime type` > `Hardware accelerator: GPU`\n",
        "* Next, install the latest PyPi distribution of snnTorch by clicking into the following cell and pressing `Shift+Enter`."
      ]
    },
    {
      "cell_type": "code",
      "execution_count": 1,
      "metadata": {
        "id": "5tn_wUlopkon",
        "pycharm": {
          "name": "#%%\n"
        },
        "colab": {
          "base_uri": "https://localhost:8080/"
        },
        "outputId": "1a9040e2-05c4-4c13-c800-667f07cc0176"
      },
      "outputs": [
        {
          "output_type": "stream",
          "name": "stdout",
          "text": [
            "Collecting snntorch\n",
            "  Downloading snntorch-0.9.4-py2.py3-none-any.whl.metadata (15 kB)\n",
            "Downloading snntorch-0.9.4-py2.py3-none-any.whl (125 kB)\n",
            "\u001b[?25l   \u001b[90m━━━━━━━━━━━━━━━━━━━━━━━━━━━━━━━━━━━━━━━━\u001b[0m \u001b[32m0.0/125.6 kB\u001b[0m \u001b[31m?\u001b[0m eta \u001b[36m-:--:--\u001b[0m\r\u001b[2K   \u001b[90m━━━━━━━━━━━━━━━━━━━━━━━━━━━━━━━━━━━━━━━━\u001b[0m \u001b[32m125.6/125.6 kB\u001b[0m \u001b[31m4.7 MB/s\u001b[0m eta \u001b[36m0:00:00\u001b[0m\n",
            "\u001b[?25hInstalling collected packages: snntorch\n",
            "Successfully installed snntorch-0.9.4\n"
          ]
        }
      ],
      "source": [
        "!pip install snntorch"
      ]
    },
    {
      "cell_type": "code",
      "execution_count": 2,
      "metadata": {
        "id": "QXZ6Tuqc9Q-l",
        "colab": {
          "base_uri": "https://localhost:8080/"
        },
        "outputId": "3ba1453e-311b-4910-977b-3d1f04636b56"
      },
      "outputs": [
        {
          "output_type": "stream",
          "name": "stderr",
          "text": [
            "<ipython-input-2-bd886847109b>:4: DeprecationWarning: The module snntorch.backprop will be deprecated in  a future release. Writing out your own training loop will lead to substantially faster performance.\n",
            "  from snntorch import backprop\n"
          ]
        }
      ],
      "source": [
        "# imports\n",
        "import snntorch as snn\n",
        "from snntorch import surrogate\n",
        "from snntorch import backprop\n",
        "from snntorch import functional as SF\n",
        "from snntorch import utils\n",
        "from snntorch import spikeplot as splt\n",
        "\n",
        "import torch\n",
        "import torch.nn as nn\n",
        "from torch.utils.data import DataLoader\n",
        "from torchvision import datasets, transforms\n",
        "import torch.nn.functional as F\n",
        "\n",
        "import matplotlib.pyplot as plt\n",
        "import numpy as np\n",
        "import itertools"
      ]
    },
    {
      "cell_type": "markdown",
      "metadata": {
        "id": "gt2xMbLY9dVE"
      },
      "source": [
        "# 1. Surrogate Gradient Descent"
      ]
    },
    {
      "cell_type": "markdown",
      "metadata": {
        "id": "zJddJWoa0GT6"
      },
      "source": [
        "[Tutorial 5](https://snntorch.readthedocs.io/en/latest/tutorials/index.html) raised the **dead neuron problem**. This arises because of the non-differentiability of spikes:\n",
        "\n",
        "\n",
        "$$S[t] = \\Theta(U[t] - U_{\\rm thr}) \\tag{1}$$\n",
        "$$\\frac{\\partial S}{\\partial U} = \\delta(U - U_{\\rm thr}) \\in \\{0, \\infty\\} \\tag{2}$$\n",
        "\n",
        "where $\\Theta(\\cdot)$ is the Heaviside step function, and $\\delta(\\cdot)$ is the Dirac-Delta function. We previously overcame this using the gradient of the threshold-shifted *ArcTangent* function on the backward pass instead.\n",
        "\n",
        "Other common smoothing functions include the sigmoid function, or the fast sigmoid function. The sigmoidal functions must also be shifted such that they are centered at the threshold $U_{\\rm thr}$. Defining  the overdrive of the membrane potential as $U_{OD} = U - U_{\\rm thr}$:\n",
        "\n",
        "$$\\tilde{S} = \\frac{U_{OD}}{1+k|U_{OD}|} \\tag{3}$$\n",
        "$$\\frac{\\partial \\tilde{S}}{\\partial U} = \\frac{1}{(k|U_{OD}|+1)^2}\\tag{4}$$\n",
        "\n",
        "where $k$ modulates how smooth the surrogate function is, and is treated as a hyperparameter. As $k$ increases, the approximation converges towards the original derivative in $(2)$:  \n",
        "\n",
        "$$\\frac{\\partial \\tilde{S}}{\\partial U} \\Bigg|_{k \\rightarrow \\infty} = \\delta(U-U_{\\rm thr})$$\n",
        "\n",
        "\n",
        "<center>\n",
        "<img src='https://github.com/jeshraghian/snntorch/blob/master/docs/_static/img/examples/tutorial6/surrogate.png?raw=true' width=\"800\">\n",
        "</center>\n",
        "\n",
        "To summarize:\n",
        "\n",
        "* **Forward Pass**\n",
        "  - Determine $S$ using the shifted Heaviside function in $(1)$\n",
        "  - Store $U$ for later use during the backward pass\n",
        "* **Backward Pass**\n",
        "  - Pass $U$ into $(4)$ to calculate the derivative term\n",
        "\n",
        "In the same way the *ArcTangent* approach was used in [Tutorial 5](https://snntorch.readthedocs.io/en/latest/tutorials/index.html),\n",
        "the gradient of the fast sigmoid function can override the Dirac-Delta function in a Leaky Integrate-and-Fire\n",
        "(LIF) neuron model:"
      ]
    },
    {
      "cell_type": "code",
      "execution_count": 3,
      "metadata": {
        "id": "5lqpuT--bZmJ"
      },
      "outputs": [],
      "source": [
        "# Leaky neuron model, overriding the backward pass with a custom function\n",
        "class LeakySigmoidSurrogate(nn.Module):\n",
        "  def __init__(self, beta, threshold=1.0, k=25):\n",
        "\n",
        "      # Leaky_Surrogate is defined in the previous tutorial and not used here\n",
        "      super(Leaky_Surrogate, self).__init__()\n",
        "\n",
        "      # initialize decay rate beta and threshold\n",
        "      self.beta = beta\n",
        "      self.threshold = threshold\n",
        "      self.surrogate_func = self.FastSigmoid.apply\n",
        "\n",
        "  # the forward function is called each time we call Leaky\n",
        "  def forward(self, input_, mem):\n",
        "    spk = self.surrogate_func((mem-self.threshold))  # call the Heaviside function\n",
        "    reset = (spk - self.threshold).detach()\n",
        "    mem = self.beta * mem + input_ - reset\n",
        "    return spk, mem\n",
        "\n",
        "  # Forward pass: Heaviside function\n",
        "  # Backward pass: Override Dirac Delta with gradient of fast sigmoid\n",
        "  @staticmethod\n",
        "  class FastSigmoid(torch.autograd.Function):\n",
        "    @staticmethod\n",
        "    def forward(ctx, mem, k=25):\n",
        "        ctx.save_for_backward(mem) # store the membrane potential for use in the backward pass\n",
        "        ctx.k = k\n",
        "        out = (mem > 0).float() # Heaviside on the forward pass: Eq(1)\n",
        "        return out\n",
        "\n",
        "    @staticmethod\n",
        "    def backward(ctx, grad_output):\n",
        "        (mem,) = ctx.saved_tensors  # retrieve membrane potential\n",
        "        grad_input = grad_output.clone()\n",
        "        grad = grad_input / (ctx.k * torch.abs(mem) + 1.0) ** 2  # gradient of fast sigmoid on backward pass: Eq(4)\n",
        "        return grad, None"
      ]
    },
    {
      "cell_type": "markdown",
      "metadata": {
        "id": "4aQvFG7ajpzU"
      },
      "source": [
        "Better yet, all of that can be condensed by using the built-in module `snn.surrogate` from snnTorch, where $k$ from $(4)$ is denoted `slope`. The surrogate gradient is passed into `spike_grad` as an argument:"
      ]
    },
    {
      "cell_type": "code",
      "execution_count": 4,
      "metadata": {
        "id": "2dCWD_qajyLw"
      },
      "outputs": [],
      "source": [
        "spike_grad = surrogate.fast_sigmoid(slope=25)\n",
        "beta = 0.5\n",
        "\n",
        "lif1 = snn.Leaky(beta=beta, spike_grad=spike_grad)"
      ]
    },
    {
      "cell_type": "markdown",
      "metadata": {
        "id": "Ffn7D6omkj5r"
      },
      "source": [
        "To explore the other surrogate gradient functions available, [take a look at the documentation here.](https://snntorch.readthedocs.io/en/latest/snntorch.surrogate.html)"
      ]
    },
    {
      "cell_type": "markdown",
      "metadata": {
        "id": "Wgzf83HE2BeB"
      },
      "source": [
        "# 2. Setting up the CSNN\n",
        "## 2.1 DataLoaders"
      ]
    },
    {
      "cell_type": "code",
      "execution_count": 5,
      "metadata": {
        "id": "pxO32dntlOB2"
      },
      "outputs": [],
      "source": [
        "# dataloader arguments\n",
        "batch_size = 128\n",
        "data_path='/tmp/data/mnist'\n",
        "\n",
        "dtype = torch.float\n",
        "device = torch.device(\"cuda\") if torch.cuda.is_available() else torch.device(\"cpu\")"
      ]
    },
    {
      "cell_type": "code",
      "execution_count": 6,
      "metadata": {
        "id": "pE7eGTnulSBA",
        "colab": {
          "base_uri": "https://localhost:8080/"
        },
        "outputId": "7b8871c7-f9c6-4088-f69d-5c8942685e08"
      },
      "outputs": [
        {
          "output_type": "stream",
          "name": "stderr",
          "text": [
            "100%|██████████| 9.91M/9.91M [00:00<00:00, 16.0MB/s]\n",
            "100%|██████████| 28.9k/28.9k [00:00<00:00, 467kB/s]\n",
            "100%|██████████| 1.65M/1.65M [00:00<00:00, 3.93MB/s]\n",
            "100%|██████████| 4.54k/4.54k [00:00<00:00, 10.8MB/s]\n"
          ]
        }
      ],
      "source": [
        "# Define a transform\n",
        "transform = transforms.Compose([\n",
        "            transforms.Resize((28, 28)),\n",
        "            transforms.Grayscale(),\n",
        "            transforms.ToTensor(),\n",
        "            transforms.Normalize((0,), (1,))])\n",
        "\n",
        "mnist_train = datasets.MNIST(data_path, train=True, download=True, transform=transform)\n",
        "mnist_test = datasets.MNIST(data_path, train=False, download=True, transform=transform)\n",
        "\n",
        "# Create DataLoaders\n",
        "train_loader = DataLoader(mnist_train, batch_size=batch_size, shuffle=True, drop_last=True)\n",
        "test_loader = DataLoader(mnist_test, batch_size=batch_size, shuffle=True, drop_last=True)"
      ]
    },
    {
      "cell_type": "markdown",
      "metadata": {
        "id": "6v8fBXrVlY3f"
      },
      "source": [
        "## 2.2 Define the Network\n",
        "\n",
        "The convolutional network architecture to be used is: 12C5-MP2-64C5-MP2-1024FC10\n",
        "\n",
        "- 12C5 is a 5$\\times$5 convolutional kernel with 12 filters\n",
        "- MP2 is a 2$\\times$2 max-pooling function\n",
        "- 1024FC10 is a fully-connected layer that maps 1,024 neurons to 10 outputs"
      ]
    },
    {
      "cell_type": "code",
      "execution_count": 11,
      "metadata": {
        "id": "foos_NlopDrb"
      },
      "outputs": [],
      "source": [
        "# neuron and simulation parameters\n",
        "spike_grad = surrogate.fast_sigmoid(slope=25)\n",
        "beta = 0.5\n",
        "num_steps = 1"
      ]
    },
    {
      "cell_type": "code",
      "execution_count": 7,
      "metadata": {
        "id": "X4sd8PDSlGZb"
      },
      "outputs": [],
      "source": [
        "# Define Network\n",
        "class Net(nn.Module):\n",
        "    def __init__(self):\n",
        "        super().__init__()\n",
        "\n",
        "        # Initialize layers\n",
        "        self.conv1 = nn.Conv2d(1, 4, 5)\n",
        "        self.lif1 = snn.Leaky(beta=beta, spike_grad=spike_grad,reset_mechanism = \"zero\")\n",
        "        self.conv2 = nn.Conv2d(4, 8, 5)\n",
        "        self.lif2 = snn.Leaky(beta=beta, spike_grad=spike_grad,reset_mechanism = \"zero\")\n",
        "        self.fc1 = nn.Linear(8*4*4, 10)\n",
        "        self.lif3 = snn.Leaky(beta=beta, spike_grad=spike_grad,reset_mechanism = \"zero\")\n",
        "\n",
        "    def forward(self, x):\n",
        "\n",
        "        # Initialize hidden states and outputs at t=0\n",
        "        mem1 = self.lif1.init_leaky()\n",
        "        mem2 = self.lif2.init_leaky()\n",
        "        mem3 = self.lif3.init_leaky()\n",
        "\n",
        "        cur1 = F.max_pool2d(self.conv1(x), 2)\n",
        "        spk1, mem1 = self.lif1(cur1, mem1)\n",
        "\n",
        "        cur2 = F.max_pool2d(self.conv2(spk1), 2)\n",
        "        spk2, mem2 = self.lif2(cur2, mem2)\n",
        "\n",
        "        cur3 = self.fc1(spk2.view(batch_size, -1))\n",
        "        spk3, mem3 = self.lif3(cur3, mem3)\n",
        "        return spk3, mem3"
      ]
    },
    {
      "cell_type": "markdown",
      "metadata": {
        "id": "HVn3aYAUnWqH"
      },
      "source": [
        "In the previous tutorial, the network was wrapped inside of a class, as shown above.\n",
        "With increasing network complexity, this adds a lot of boilerplate code that we might wish to avoid. Alternatively, the `nn.Sequential` method can be used instead.\n",
        "\n",
        "> Note: the following code-block simulates over one single time-step, and requires a separate for-loop over time."
      ]
    },
    {
      "cell_type": "code",
      "execution_count": 8,
      "metadata": {
        "id": "AoYBY89angvp"
      },
      "outputs": [],
      "source": [
        "#  Initialize Network\n",
        "net = nn.Sequential(nn.Conv2d(1, 4, 5),\n",
        "                    nn.MaxPool2d(2),\n",
        "                    snn.Leaky(beta=beta, spike_grad=spike_grad, init_hidden=True,reset_mechanism = \"zero\"),\n",
        "                    nn.Conv2d(4, 8, 5),\n",
        "                    nn.MaxPool2d(2),\n",
        "                    snn.Leaky(beta=beta, spike_grad=spike_grad, init_hidden=True,reset_mechanism = \"zero\"),\n",
        "                    nn.Flatten(),\n",
        "                    nn.Linear(8*4*4, 10),\n",
        "                    snn.Leaky(beta=beta, spike_grad=spike_grad, init_hidden=True, output=True,reset_mechanism = \"zero\")\n",
        "                    ).to(device)\n",
        "\n",
        "for module in net.modules():\n",
        "    if isinstance(module, nn.Conv2d):\n",
        "        module.bias.requires_grad = False\n",
        "        module.bias.data.zero_()\n",
        "    elif isinstance(module, nn.Linear):\n",
        "        module.bias.requires_grad = False\n",
        "        module.bias.data.zero_()\n"
      ]
    },
    {
      "cell_type": "code",
      "source": [
        "bias_terms = [param for name, param in net.named_parameters() if \"bias\" in name]\n",
        "for bias in bias_terms:\n",
        "    print(bias)"
      ],
      "metadata": {
        "colab": {
          "base_uri": "https://localhost:8080/"
        },
        "id": "Y1fwmRjPhRcq",
        "outputId": "6309b6d9-267d-4d6b-e826-dfb47551d58a"
      },
      "execution_count": 9,
      "outputs": [
        {
          "output_type": "stream",
          "name": "stdout",
          "text": [
            "Parameter containing:\n",
            "tensor([0., 0., 0., 0.], device='cuda:0')\n",
            "Parameter containing:\n",
            "tensor([0., 0., 0., 0., 0., 0., 0., 0.], device='cuda:0')\n",
            "Parameter containing:\n",
            "tensor([0., 0., 0., 0., 0., 0., 0., 0., 0., 0.], device='cuda:0')\n"
          ]
        }
      ]
    },
    {
      "cell_type": "markdown",
      "metadata": {
        "id": "7Qgw1dRmpOlo"
      },
      "source": [
        "\n",
        "The `init_hidden` argument initializes the hidden states of the neuron (here, membrane potential). This takes place in the background as an instance variable.\n",
        "If `init_hidden` is activated, the membrane potential is not explicitly returned to the user, ensuring only the output spikes are sequentially passed through the layers wrapped in `nn.Sequential`.\n",
        "\n",
        "To train a model using the final layer's membrane potential, set the argument `output=True`.\n",
        "This enables the final layer to return both the spike and membrane potential response of the neuron."
      ]
    },
    {
      "cell_type": "markdown",
      "metadata": {
        "id": "A-bCSQmBstvd"
      },
      "source": [
        "## 2.3 Forward-Pass\n",
        "A forward pass across a simulation duration of `num_steps` looks like this:"
      ]
    },
    {
      "cell_type": "code",
      "execution_count": 12,
      "metadata": {
        "id": "IxPPMND-pMxE"
      },
      "outputs": [],
      "source": [
        "data, targets = next(iter(train_loader))\n",
        "data = data.to(device)\n",
        "targets = targets.to(device)\n",
        "\n",
        "for step in range(num_steps):\n",
        "    spk_out, mem_out = net(data)"
      ]
    },
    {
      "cell_type": "markdown",
      "metadata": {
        "id": "C3PxtCobuH_e"
      },
      "source": [
        "Wrap that in a function, recording the membrane potential and spike response over time:"
      ]
    },
    {
      "cell_type": "code",
      "execution_count": 13,
      "metadata": {
        "id": "ykdnD3tRuHcs"
      },
      "outputs": [],
      "source": [
        "def forward_pass(net, num_steps, data):\n",
        "  mem_rec = []\n",
        "  spk_rec = []\n",
        "  utils.reset(net)  # resets hidden states for all LIF neurons in net\n",
        "\n",
        "  for step in range(num_steps):\n",
        "      spk_out, mem_out = net(data)\n",
        "      spk_rec.append(spk_out)\n",
        "      mem_rec.append(mem_out)\n",
        "\n",
        "  return torch.stack(spk_rec), torch.stack(mem_rec)"
      ]
    },
    {
      "cell_type": "code",
      "execution_count": 14,
      "metadata": {
        "id": "unJrx3pXcXii"
      },
      "outputs": [],
      "source": [
        "spk_rec, mem_rec = forward_pass(net, num_steps, data)"
      ]
    },
    {
      "cell_type": "markdown",
      "metadata": {
        "id": "zqJdfllYbc16"
      },
      "source": [
        "# 3. Training Loop"
      ]
    },
    {
      "cell_type": "markdown",
      "metadata": {
        "id": "x-kquOWLY1Jo"
      },
      "source": [
        "## 3.1 Loss Using snn.Functional"
      ]
    },
    {
      "cell_type": "markdown",
      "metadata": {
        "id": "MlA56BgOYq1D"
      },
      "source": [
        "In the previous tutorial, the Cross Entropy Loss between the membrane potential of the output neurons and the target was used to train the network.\n",
        "This time, the total number of spikes from each neuron will be used to calculate the Cross Entropy instead.\n",
        "\n",
        "A variety of loss functions are included in the `snn.functional` module, which is analogous to `torch.nn.functional` in PyTorch.\n",
        "These implement a mix of cross entropy and mean square error losses, are applied to spikes and/or membrane potential, to train a rate or latency-coded network.\n",
        "\n",
        "The approach below applies the cross entropy loss to the output spike count in order train a rate-coded network:"
      ]
    },
    {
      "cell_type": "code",
      "execution_count": 15,
      "metadata": {
        "id": "UZ2BM6d6a11l"
      },
      "outputs": [],
      "source": [
        "# already imported snntorch.functional as SF\n",
        "loss_fn = SF.ce_rate_loss()"
      ]
    },
    {
      "cell_type": "markdown",
      "metadata": {
        "id": "q39HCIeOa4fC"
      },
      "source": [
        "The recordings of the spike are passed as the first argument to `loss_fn`, and the target neuron index as the second argument to generate a loss. [The documentation provides further information and exmaples.](https://snntorch.readthedocs.io/en/latest/snntorch.functional.html#snntorch.functional.ce_rate_loss)"
      ]
    },
    {
      "cell_type": "code",
      "execution_count": 16,
      "metadata": {
        "id": "xEVzMvujcjsE",
        "colab": {
          "base_uri": "https://localhost:8080/"
        },
        "outputId": "bc28a392-3e9f-4165-a590-182a5c9a6ab8"
      },
      "outputs": [
        {
          "output_type": "stream",
          "name": "stdout",
          "text": [
            "The loss from an untrained network is 2.303\n"
          ]
        }
      ],
      "source": [
        "loss_val = loss_fn(spk_rec, targets)\n",
        "\n",
        "print(f\"The loss from an untrained network is {loss_val.item():.3f}\")"
      ]
    },
    {
      "cell_type": "markdown",
      "metadata": {
        "id": "HS_zeb5mbqjw"
      },
      "source": [
        "## 3.2 Accuracy Using snn.Functional\n",
        "The `SF.accuracy_rate()` function works similarly, in that the predicted output spikes and actual targets are supplied as arguments. `accuracy_rate` assumes a rate code is used to interpret the output by checking if the index of the neuron with the highest spike count matches the target index."
      ]
    },
    {
      "cell_type": "code",
      "execution_count": 17,
      "metadata": {
        "id": "yq7_rly0c9b4",
        "colab": {
          "base_uri": "https://localhost:8080/"
        },
        "outputId": "16fb895b-0616-4545-bb1e-b1ec91a7542c"
      },
      "outputs": [
        {
          "output_type": "stream",
          "name": "stdout",
          "text": [
            "The accuracy of a single batch using an untrained network is 7.812%\n"
          ]
        }
      ],
      "source": [
        "acc = SF.accuracy_rate(spk_rec, targets)\n",
        "\n",
        "print(f\"The accuracy of a single batch using an untrained network is {acc*100:.3f}%\")"
      ]
    },
    {
      "cell_type": "markdown",
      "metadata": {
        "id": "r4Z6bnqCdL50"
      },
      "source": [
        "As the above function only returns the accuracy of a single batch of data, the following function returns the accuracy on the entire DataLoader object:"
      ]
    },
    {
      "cell_type": "code",
      "execution_count": 18,
      "metadata": {
        "id": "IqxDKFvrdXuF"
      },
      "outputs": [],
      "source": [
        "def batch_accuracy(train_loader, net, num_steps):\n",
        "  with torch.no_grad():\n",
        "    total = 0\n",
        "    acc = 0\n",
        "    net.eval()\n",
        "\n",
        "    train_loader = iter(train_loader)\n",
        "    for data, targets in train_loader:\n",
        "      data = data.to(device)\n",
        "      targets = targets.to(device)\n",
        "      spk_rec, _ = forward_pass(net, num_steps, data)\n",
        "\n",
        "      acc += SF.accuracy_rate(spk_rec, targets) * spk_rec.size(1)\n",
        "      total += spk_rec.size(1)\n",
        "\n",
        "  return acc/total"
      ]
    },
    {
      "cell_type": "code",
      "execution_count": 19,
      "metadata": {
        "id": "_u43hKAvefWM",
        "colab": {
          "base_uri": "https://localhost:8080/"
        },
        "outputId": "44ddfeb4-3c3f-4f93-d44f-468f836987e7"
      },
      "outputs": [
        {
          "output_type": "stream",
          "name": "stdout",
          "text": [
            "The total accuracy on the test set is: 9.82%\n"
          ]
        }
      ],
      "source": [
        "test_acc = batch_accuracy(test_loader, net, num_steps)\n",
        "\n",
        "print(f\"The total accuracy on the test set is: {test_acc * 100:.2f}%\")"
      ]
    },
    {
      "cell_type": "markdown",
      "metadata": {
        "id": "F1pzWXlsYoIu"
      },
      "source": [
        "## 3.3 Training Loop"
      ]
    },
    {
      "cell_type": "markdown",
      "metadata": {
        "id": "KAUDYl3gf0G-"
      },
      "source": [
        "The following training loop is qualitatively similar to the previous tutorial."
      ]
    },
    {
      "cell_type": "code",
      "execution_count": 20,
      "metadata": {
        "id": "y_VQ9es-gSO3",
        "colab": {
          "base_uri": "https://localhost:8080/"
        },
        "outputId": "4afa988e-140a-44b0-d693-e7057564f909"
      },
      "outputs": [
        {
          "output_type": "stream",
          "name": "stdout",
          "text": [
            "Iteration 0, Test Acc: 9.80%\n",
            "\n",
            "Iteration 50, Test Acc: 57.17%\n",
            "\n",
            "Iteration 100, Test Acc: 66.76%\n",
            "\n",
            "Iteration 150, Test Acc: 75.76%\n",
            "\n",
            "Iteration 200, Test Acc: 71.53%\n",
            "\n",
            "Iteration 250, Test Acc: 80.44%\n",
            "\n",
            "Iteration 300, Test Acc: 80.17%\n",
            "\n",
            "Iteration 350, Test Acc: 83.04%\n",
            "\n",
            "Iteration 400, Test Acc: 79.19%\n",
            "\n",
            "Iteration 450, Test Acc: 75.54%\n",
            "\n",
            "Iteration 500, Test Acc: 83.45%\n",
            "\n",
            "Iteration 550, Test Acc: 74.63%\n",
            "\n",
            "Iteration 600, Test Acc: 81.85%\n",
            "\n",
            "Iteration 650, Test Acc: 80.28%\n",
            "\n",
            "Iteration 700, Test Acc: 82.64%\n",
            "\n",
            "Iteration 750, Test Acc: 79.60%\n",
            "\n",
            "Iteration 800, Test Acc: 82.17%\n",
            "\n",
            "Iteration 850, Test Acc: 84.32%\n",
            "\n",
            "Iteration 900, Test Acc: 81.95%\n",
            "\n",
            "Iteration 950, Test Acc: 80.34%\n",
            "\n",
            "Iteration 1000, Test Acc: 76.56%\n",
            "\n",
            "Iteration 1050, Test Acc: 75.07%\n",
            "\n",
            "Iteration 1100, Test Acc: 81.07%\n",
            "\n",
            "Iteration 1150, Test Acc: 82.68%\n",
            "\n",
            "Iteration 1200, Test Acc: 80.32%\n",
            "\n",
            "Iteration 1250, Test Acc: 79.53%\n",
            "\n",
            "Iteration 1300, Test Acc: 82.64%\n",
            "\n",
            "Iteration 1350, Test Acc: 81.21%\n",
            "\n",
            "Iteration 1400, Test Acc: 74.73%\n",
            "\n",
            "Iteration 1450, Test Acc: 80.46%\n",
            "\n",
            "Iteration 1500, Test Acc: 77.56%\n",
            "\n",
            "Iteration 1550, Test Acc: 83.36%\n",
            "\n",
            "Iteration 1600, Test Acc: 75.81%\n",
            "\n",
            "Iteration 1650, Test Acc: 82.83%\n",
            "\n",
            "Iteration 1700, Test Acc: 81.69%\n",
            "\n",
            "Iteration 1750, Test Acc: 85.09%\n",
            "\n",
            "Iteration 1800, Test Acc: 85.79%\n",
            "\n",
            "Iteration 1850, Test Acc: 81.28%\n",
            "\n",
            "Iteration 1900, Test Acc: 85.77%\n",
            "\n",
            "Iteration 1950, Test Acc: 81.64%\n",
            "\n",
            "Iteration 2000, Test Acc: 85.01%\n",
            "\n",
            "Iteration 2050, Test Acc: 81.19%\n",
            "\n",
            "Iteration 2100, Test Acc: 79.17%\n",
            "\n",
            "Iteration 2150, Test Acc: 81.08%\n",
            "\n",
            "Iteration 2200, Test Acc: 78.22%\n",
            "\n",
            "Iteration 2250, Test Acc: 80.36%\n",
            "\n",
            "Iteration 2300, Test Acc: 82.67%\n",
            "\n",
            "Iteration 2350, Test Acc: 85.72%\n",
            "\n",
            "Iteration 2400, Test Acc: 76.30%\n",
            "\n",
            "Iteration 2450, Test Acc: 81.46%\n",
            "\n",
            "Iteration 2500, Test Acc: 78.47%\n",
            "\n",
            "Iteration 2550, Test Acc: 79.98%\n",
            "\n",
            "Iteration 2600, Test Acc: 80.60%\n",
            "\n",
            "Iteration 2650, Test Acc: 84.72%\n",
            "\n",
            "Iteration 2700, Test Acc: 83.07%\n",
            "\n",
            "Iteration 2750, Test Acc: 81.22%\n",
            "\n",
            "Iteration 2800, Test Acc: 83.13%\n",
            "\n",
            "Iteration 2850, Test Acc: 83.46%\n",
            "\n",
            "Iteration 2900, Test Acc: 79.80%\n",
            "\n",
            "Iteration 2950, Test Acc: 81.88%\n",
            "\n",
            "Iteration 3000, Test Acc: 85.95%\n",
            "\n",
            "Iteration 3050, Test Acc: 84.38%\n",
            "\n",
            "Iteration 3100, Test Acc: 80.42%\n",
            "\n",
            "Iteration 3150, Test Acc: 86.66%\n",
            "\n",
            "Iteration 3200, Test Acc: 85.20%\n",
            "\n",
            "Iteration 3250, Test Acc: 83.73%\n",
            "\n",
            "Iteration 3300, Test Acc: 86.35%\n",
            "\n",
            "Iteration 3350, Test Acc: 86.83%\n",
            "\n",
            "Iteration 3400, Test Acc: 85.99%\n",
            "\n",
            "Iteration 3450, Test Acc: 86.68%\n",
            "\n",
            "Iteration 3500, Test Acc: 87.47%\n",
            "\n",
            "Iteration 3550, Test Acc: 85.61%\n",
            "\n",
            "Iteration 3600, Test Acc: 86.08%\n",
            "\n",
            "Iteration 3650, Test Acc: 79.66%\n",
            "\n",
            "Iteration 3700, Test Acc: 84.92%\n",
            "\n",
            "Iteration 3750, Test Acc: 81.09%\n",
            "\n",
            "Iteration 3800, Test Acc: 85.67%\n",
            "\n",
            "Iteration 3850, Test Acc: 79.86%\n",
            "\n",
            "Iteration 3900, Test Acc: 80.32%\n",
            "\n",
            "Iteration 3950, Test Acc: 84.18%\n",
            "\n",
            "Iteration 4000, Test Acc: 80.93%\n",
            "\n",
            "Iteration 4050, Test Acc: 85.71%\n",
            "\n",
            "Iteration 4100, Test Acc: 82.69%\n",
            "\n",
            "Iteration 4150, Test Acc: 86.98%\n",
            "\n",
            "Iteration 4200, Test Acc: 77.96%\n",
            "\n",
            "Iteration 4250, Test Acc: 84.70%\n",
            "\n",
            "Iteration 4300, Test Acc: 87.48%\n",
            "\n",
            "Iteration 4350, Test Acc: 83.83%\n",
            "\n",
            "Iteration 4400, Test Acc: 88.17%\n",
            "\n",
            "Iteration 4450, Test Acc: 86.12%\n",
            "\n",
            "Iteration 4500, Test Acc: 88.05%\n",
            "\n",
            "Iteration 4550, Test Acc: 86.88%\n",
            "\n",
            "Iteration 4600, Test Acc: 76.77%\n",
            "\n",
            "Iteration 4650, Test Acc: 85.73%\n",
            "\n"
          ]
        }
      ],
      "source": [
        "optimizer = torch.optim.Adam(net.parameters(), lr=1e-2, betas=(0.9, 0.999))\n",
        "num_epochs = 10\n",
        "loss_hist = []\n",
        "test_acc_hist = []\n",
        "counter = 0\n",
        "\n",
        "# Outer training loop\n",
        "for epoch in range(num_epochs):\n",
        "\n",
        "    # Training loop\n",
        "    for data, targets in iter(train_loader):\n",
        "        data = data.to(device)\n",
        "        targets = targets.to(device)\n",
        "\n",
        "        # forward pass\n",
        "        net.train()\n",
        "        spk_rec, _ = forward_pass(net, num_steps, data)\n",
        "\n",
        "        # initialize the loss & sum over time\n",
        "        loss_val = loss_fn(spk_rec, targets)\n",
        "\n",
        "        # Gradient calculation + weight update\n",
        "        optimizer.zero_grad()\n",
        "        loss_val.backward()\n",
        "        optimizer.step()\n",
        "\n",
        "        # Store loss history for future plotting\n",
        "        loss_hist.append(loss_val.item())\n",
        "\n",
        "        # Test set\n",
        "        if counter % 50 == 0:\n",
        "          with torch.no_grad():\n",
        "              net.eval()\n",
        "\n",
        "              # Test set forward pass\n",
        "              test_acc = batch_accuracy(test_loader, net, num_steps)\n",
        "              print(f\"Iteration {counter}, Test Acc: {test_acc * 100:.2f}%\\n\")\n",
        "              test_acc_hist.append(test_acc.item())\n",
        "\n",
        "        counter += 1"
      ]
    },
    {
      "cell_type": "code",
      "source": [
        "params = net.state_dict()\n",
        "for name, param in params.items():\n",
        "    print(f\"{name}: {param.shape}\")"
      ],
      "metadata": {
        "colab": {
          "base_uri": "https://localhost:8080/"
        },
        "id": "BMn6zMjVjEvH",
        "outputId": "367f235d-6f06-42f6-99dc-0595a88a7dc3"
      },
      "execution_count": null,
      "outputs": [
        {
          "output_type": "stream",
          "name": "stdout",
          "text": [
            "0.weight: torch.Size([12, 1, 5, 5])\n",
            "0.bias: torch.Size([12])\n",
            "2.threshold: torch.Size([])\n",
            "2.graded_spikes_factor: torch.Size([])\n",
            "2.reset_mechanism_val: torch.Size([])\n",
            "2.beta: torch.Size([])\n",
            "3.weight: torch.Size([64, 12, 5, 5])\n",
            "3.bias: torch.Size([64])\n",
            "5.threshold: torch.Size([])\n",
            "5.graded_spikes_factor: torch.Size([])\n",
            "5.reset_mechanism_val: torch.Size([])\n",
            "5.beta: torch.Size([])\n",
            "7.weight: torch.Size([10, 1024])\n",
            "7.bias: torch.Size([10])\n",
            "8.threshold: torch.Size([])\n",
            "8.graded_spikes_factor: torch.Size([])\n",
            "8.reset_mechanism_val: torch.Size([])\n",
            "8.beta: torch.Size([])\n"
          ]
        }
      ]
    },
    {
      "cell_type": "code",
      "source": [
        "weights_layer1 = net[0].weight.detach().cpu().numpy()\n",
        "weights_layer2 = net[3].weight.detach().cpu().numpy()\n",
        "weights_layer3 = net[7].weight.detach().cpu().numpy()\n",
        "\n",
        "with open(\"weights.txt\", \"w\") as f:\n",
        "    f.write(\"float weights_layer1[12][1][5][5] = {\\n\")\n",
        "    for i in range(12):\n",
        "        f.write(\"  {\\n\")\n",
        "        f.write(\"    {\\n\")\n",
        "        for j in range(5):\n",
        "            f.write(\"      {\")\n",
        "            for k in range(5):\n",
        "                f.write(\" {:.6f}\".format(weights_layer1[i, 0, j, k]))\n",
        "                if k < 4:\n",
        "                    f.write(\",\")\n",
        "            f.write(\"}\")\n",
        "            if j < 4:\n",
        "                f.write(\",\")\n",
        "            f.write(\"\\n\")\n",
        "        f.write(\"    }\\n\")\n",
        "        if i < 11:\n",
        "            f.write(\"  },\\n\")\n",
        "        else:\n",
        "            f.write(\"  }\\n\")\n",
        "    f.write(\"};\\n\")\n",
        "\n",
        "    f.write(\"float weights_layer2[64][12][5][5] = {\\n\")\n",
        "    for i in range(64):\n",
        "        f.write(\"  {\\n\")\n",
        "        for j in range(12):\n",
        "            f.write(\"    {\\n\")\n",
        "            for k in range(5):\n",
        "                f.write(\"      {\")\n",
        "                for l in range(5):\n",
        "                    f.write(\" {:.6f}\".format(weights_layer2[i, j, k, l]))\n",
        "                    if l < 4:\n",
        "                        f.write(\",\")\n",
        "                f.write(\"}\")\n",
        "                if k < 4:\n",
        "                    f.write(\",\")\n",
        "                f.write(\"\\n\")\n",
        "            f.write(\"    }\\n\")\n",
        "        if i < 63:\n",
        "            f.write(\"  },\\n\")\n",
        "        else:\n",
        "            f.write(\"  }\\n\")\n",
        "    f.write(\"};\\n\")\n",
        "\n",
        "    f.write(\"float weights_layer3[10][1024] = {\\n\")\n",
        "    for i in range(10):\n",
        "        f.write(\"  {\")\n",
        "        for j in range(1024):\n",
        "            f.write(\" {:.6f}\".format(weights_layer3[i, j]))\n",
        "            if j < 1023:\n",
        "                f.write(\",\")\n",
        "        if i < 9:\n",
        "            f.write(\"},\\n\")\n",
        "        else:\n",
        "            f.write(\"}\\n\")\n",
        "    f.write(\"};\")\n"
      ],
      "metadata": {
        "id": "MSkGUGmkeaEZ"
      },
      "execution_count": null,
      "outputs": []
    },
    {
      "cell_type": "code",
      "source": [
        "weights_layer1 = net[0].weight.detach().cpu().numpy()\n",
        "weights_layer2 = net[3].weight.detach().cpu().numpy()\n",
        "weights_layer3 = net[7].weight.detach().cpu().numpy()\n",
        "\n",
        "with open(\"weights.txt\", \"w\") as f:\n",
        "    f.write(\"float weights_layer1[4][1][5][5] = {\\n\")\n",
        "    for i in range(4):\n",
        "        f.write(\"  {\\n\")\n",
        "        f.write(\"    {\\n\")\n",
        "        for j in range(5):\n",
        "            f.write(\"      {\")\n",
        "            for k in range(5):\n",
        "                f.write(\" {:.6f}\".format(weights_layer1[i, 0, j, k]))\n",
        "                if k < 4:\n",
        "                    f.write(\",\")\n",
        "            f.write(\"}\")\n",
        "            if j < 4:\n",
        "                f.write(\",\")\n",
        "            f.write(\"\\n\")\n",
        "        f.write(\"    }\\n\")\n",
        "        if i < 3:\n",
        "            f.write(\"  },\\n\")\n",
        "        else:\n",
        "            f.write(\"  }\\n\")\n",
        "    f.write(\"};\\n\")\n",
        "\n",
        "    f.write(\"float weights_layer2[8][4][5][5] = {\\n\")\n",
        "    for i in range(8):\n",
        "        f.write(\"  {\\n\")\n",
        "        for j in range(4):\n",
        "            f.write(\"    {\\n\")\n",
        "            for k in range(5):\n",
        "                f.write(\"      {\")\n",
        "                for l in range(5):\n",
        "                    f.write(\" {:.6f}\".format(weights_layer2[i, j, k, l]))\n",
        "                    if l < 4:\n",
        "                        f.write(\",\")\n",
        "                f.write(\"}\")\n",
        "                if k < 4:\n",
        "                    f.write(\",\")\n",
        "                f.write(\"\\n\")\n",
        "            f.write(\"    },\\n\")\n",
        "        if i < 7:\n",
        "            f.write(\"  },\\n\")\n",
        "        else:\n",
        "            f.write(\"  }\\n\")\n",
        "    f.write(\"};\\n\")\n",
        "\n",
        "    f.write(\"float weights_layer3[10][128] = {\\n\")\n",
        "    for i in range(10):\n",
        "        f.write(\"  {\")\n",
        "        for j in range(128):\n",
        "            f.write(\" {:.6f}\".format(weights_layer3[i, j]))\n",
        "            if j < 127:\n",
        "                f.write(\",\")\n",
        "        if i < 9:\n",
        "            f.write(\"},\\n\")\n",
        "        else:\n",
        "            f.write(\"}\\n\")\n",
        "    f.write(\"};\")\n"
      ],
      "metadata": {
        "id": "R6l_UbJaxi49"
      },
      "execution_count": 27,
      "outputs": []
    },
    {
      "cell_type": "code",
      "source": [
        "bias_terms = [param for name, param in net.named_parameters() if \"bias\" in name]\n",
        "for bias in bias_terms:\n",
        "    print(bias)"
      ],
      "metadata": {
        "colab": {
          "base_uri": "https://localhost:8080/"
        },
        "id": "hDZsBaxfjPDp",
        "outputId": "4cb054c4-9ea7-4f64-fe0d-92b001c829e7"
      },
      "execution_count": 22,
      "outputs": [
        {
          "output_type": "stream",
          "name": "stdout",
          "text": [
            "Parameter containing:\n",
            "tensor([0., 0., 0., 0.], device='cuda:0')\n",
            "Parameter containing:\n",
            "tensor([0., 0., 0., 0., 0., 0., 0., 0.], device='cuda:0')\n",
            "Parameter containing:\n",
            "tensor([0., 0., 0., 0., 0., 0., 0., 0., 0., 0.], device='cuda:0')\n"
          ]
        }
      ]
    },
    {
      "cell_type": "markdown",
      "metadata": {
        "id": "TjRPDFWxj2eS"
      },
      "source": [
        "Despite having selected some fairly generic values and architectures, the test set accuracy should be fairly competitive given the brief training run!"
      ]
    },
    {
      "cell_type": "markdown",
      "metadata": {
        "collapsed": false,
        "id": "HxU7P7xFpko3",
        "pycharm": {
          "name": "#%% md\n"
        }
      },
      "source": [
        "# 4. Results\n",
        "## 4.1 Plot Test Accuracy"
      ]
    },
    {
      "cell_type": "code",
      "execution_count": 23,
      "metadata": {
        "id": "_Pk_EScnpkpj",
        "pycharm": {
          "name": "#%%\n"
        },
        "colab": {
          "base_uri": "https://localhost:8080/",
          "height": 472
        },
        "outputId": "312b4c45-31fe-4c18-b5e5-981f5fdfbb50"
      },
      "outputs": [
        {
          "output_type": "display_data",
          "data": {
            "text/plain": [
              "<Figure size 640x480 with 1 Axes>"
            ],
            "image/png": "[encoded data removed]"
          },
          "metadata": {}
        }
      ],
      "source": [
        "# Plot Loss\n",
        "fig = plt.figure(facecolor=\"w\")\n",
        "plt.plot(test_acc_hist)\n",
        "plt.title(\"Test Set Accuracy\")\n",
        "plt.xlabel(\"Epoch\")\n",
        "plt.ylabel(\"Accuracy\")\n",
        "plt.show()"
      ]
    },
    {
      "cell_type": "markdown",
      "metadata": {
        "id": "nYFamUJLkVY3"
      },
      "source": [
        "## 4.2 Spike Counter"
      ]
    },
    {
      "cell_type": "markdown",
      "metadata": {
        "id": "MDE3ms9ulo-t"
      },
      "source": [
        "Run a forward pass on a batch of data to obtain spike and membrane readings."
      ]
    },
    {
      "cell_type": "code",
      "execution_count": 24,
      "metadata": {
        "id": "dqIjaw1kk4-6"
      },
      "outputs": [],
      "source": [
        "spk_rec, mem_rec = forward_pass(net, num_steps, data)"
      ]
    },
    {
      "cell_type": "code",
      "source": [
        "import numpy as np\n",
        "\n",
        "with open(\"data.txt\", \"w\") as f:\n",
        "    f.write(\"float data[28][28] = {\\n\")\n",
        "    for i in range(28):\n",
        "        f.write(\"  {\")\n",
        "        for j in range(28):\n",
        "            f.write(\" {:.6f}\".format(data[1, 0, i, j]))\n",
        "            if j < 27:\n",
        "                f.write(\",\")\n",
        "        f.write(\"}\")\n",
        "        if i < 27:\n",
        "            f.write(\",\")\n",
        "        f.write(\"\\n\")\n",
        "    f.write(\"};\")\n"
      ],
      "metadata": {
        "id": "ZDhC0f0dfdax"
      },
      "execution_count": 25,
      "outputs": []
    },
    {
      "cell_type": "markdown",
      "metadata": {
        "id": "n4QiJx2HlkMH"
      },
      "source": [
        "Changing `idx` allows you to index into various samples from the simulated minibatch. Use `splt.spike_count` to explore the spiking behaviour of a few different samples!\n",
        "\n",
        "> Note: if you are running the notebook locally on your desktop, please uncomment the line below and modify the path to your ffmpeg.exe\n",
        "\n"
      ]
    },
    {
      "cell_type": "code",
      "execution_count": 26,
      "metadata": {
        "id": "4HcwxfC6kfy0",
        "colab": {
          "base_uri": "https://localhost:8080/",
          "height": 1000
        },
        "outputId": "78a22e46-3083-49c3-9481-904bac524cd6"
      },
      "outputs": [
        {
          "output_type": "stream",
          "name": "stdout",
          "text": [
            "The target label is: 4\n",
            "tensor([[0., 0., 0., 0., 1., 0., 0., 0., 0., 0.]], device='cuda:0',\n",
            "       grad_fn=<SelectBackward0>)\n"
          ]
        },
        {
          "output_type": "execute_result",
          "data": {
            "text/plain": [
              "<IPython.core.display.HTML object>"
            ],
            "text/html": [
              "<video width=\"1200\" height=\"700\" controls autoplay loop>\n",
              "  <source type=\"video/mp4\" src=\"data:video/mp4;base64,AAAAIGZ0eXBNNFYgAAACAE00ViBpc29taXNvMmF2YzEAAAAIZnJlZQAAE9htZGF0AAACrgYF//+q\n",
              "3EXpvebZSLeWLNgg2SPu73gyNjQgLSBjb3JlIDE2MyByMzA2MCA1ZGI2YWE2IC0gSC4yNjQvTVBF\n",
              "Ry00IEFWQyBjb2RlYyAtIENvcHlsZWZ0IDIwMDMtMjAyMSAtIGh0dHA6Ly93d3cudmlkZW9sYW4u\n",
              "b3JnL3gyNjQuaHRtbCAtIG9wdGlvbnM6IGNhYmFjPTEgcmVmPTMgZGVibG9jaz0xOjA6MCBhbmFs\n",
              "eXNlPTB4MzoweDExMyBtZT1oZXggc3VibWU9NyBwc3k9MSBwc3lfcmQ9MS4wMDowLjAwIG1peGVk\n",
              "X3JlZj0xIG1lX3JhbmdlPTE2IGNocm9tYV9tZT0xIHRyZWxsaXM9MSA4eDhkY3Q9MSBjcW09MCBk\n",
              "ZWFkem9uZT0yMSwxMSBmYXN0X3Bza2lwPTEgY2hyb21hX3FwX29mZnNldD0tMiB0aHJlYWRzPTMg\n",
              "bG9va2FoZWFkX3RocmVhZHM9MSBzbGljZWRfdGhyZWFkcz0wIG5yPTAgZGVjaW1hdGU9MSBpbnRl\n",
              "cmxhY2VkPTAgYmx1cmF5X2NvbXBhdD0wIGNvbnN0cmFpbmVkX2ludHJhPTAgYmZyYW1lcz0zIGJf\n",
              "cHlyYW1pZD0yIGJfYWRhcHQ9MSBiX2JpYXM9MCBkaXJlY3Q9MSB3ZWlnaHRiPTEgb3Blbl9nb3A9\n",
              "MCB3ZWlnaHRwPTIga2V5aW50PTI1MCBrZXlpbnRfbWluPTI1IHNjZW5lY3V0PTQwIGludHJhX3Jl\n",
              "ZnJlc2g9MCByY19sb29rYWhlYWQ9NDAgcmM9Y3JmIG1idHJlZT0xIGNyZj0yMy4wIHFjb21wPTAu\n",
              "NjAgcXBtaW49MCBxcG1heD02OSBxcHN0ZXA9NCBpcF9yYXRpbz0xLjQwIGFxPTE6MS4wMACAAAAN\n",
              "n2WIhAAr//72c3wKa0czlS4Fdvdmo+XQkuX7EGD60AAAAwAAAwAAAwAAAwMYj5DFjX6ZJXUAAAMA\n",
              "AAMBKAACTgAKGAA3gEph3HwYABOrkbT9xfX9lvvK0RPn+jdtLmstSeW4eVAUzMu15cIKyaldPb5C\n",
              "O++qHVbtPpKgd10AUz7uj60i8hh+7P5bg0flyRf6FTWZXLUvAAgSRTOGFH4UWCKdiZQe0mzI62Ro\n",
              "vzKRldJgnVId8o+2KPk/plZlwBKz38PQARho0ZQWHnMZI9X3PG2wgQPyy5wXHzmwgDrF5Ja/MLxj\n",
              "JPsm6/L5Dfgk8wE1SjgBYynyAZUJQ1fc8PZqpSJuPMvh3taC7V+N23urOZ18wThYgKO6MlF/h6SE\n",
              "XeSjpPFZo4iBCc3ABBw0AJLBA8jmK4I4sfe2VhzuxUirsR50pXREdY6BzpQwbKO5SMSUZLUvt+oA\n",
              "GhhZin4NZKC9JyvkE175Xgev5d1rkRwG76ZI9OE+rBR3gbMe0mtvcLyBaqKp26e6XOAOoVlmDrec\n",
              "eJTEDgGzlpxKAVf8Ch21jE+r3/HgsfIvviT/N34u/1hbu/ghtlbKIjnbGvgADhz0wABRKABc/jMS\n",
              "Iv7GfN6rUP4s1t+0Of0tnBqOnNHCbiwXTxVzeGlbNVOw/OBP1l4m24bENt8HvYmaW81UmMOTc52b\n",
              "3PcArD8X7QCmOJ0D7rtDuJ049DG1LQe4ORGGWBvMJvC6ClBwACAfy7orvPgDiddFrRHGFp/f+AAG\n",
              "8IAJ96J40Zi5zQ30//XZcWNxawsXspFi8P8Xr0SvdOu3ZophZbaDNZOae4NztnVDDPWk5q5286qP\n",
              "ghO4AB73tZQZjuhM8kWISxJ91HOhV8DJZi1XhjbLDgzNv9MDKT04n+/l0e1nr+cOeFjBqh1mHhh+\n",
              "cSzz73rL4be9VMSNRP6Ylmw3fO8RNN0AAfgSIAKg1/RJf7ahiqrdbAAD3TcSlUcSVK8J+Zq3HUp9\n",
              "zNAG8oRfusiNa5yJ2867R6uuTVIbFmELH2+LA+wiOoTYnTnBI5Lql54QoLSPfCOnj37NHOx2oMBZ\n",
              "BP7thzc4GtRdFdsUPyTZN2ih0sT1tq1ObBxf8B4sin3FZBHdUho26FSZCHgw6Hh+Li4cLjyP56ij\n",
              "4f+/waMTRtolI2djfIbX45/tbXcgKy06ud7prZAwfvo/V1MhB8ZJDF96J7OzOmA1qTxKKd5AALXV\n",
              "jV1mB1EpJJ44rPxR1QXgjKk8i8Vzv3146GAMOvfb9/dSlvDxbYT7DhYuukXLZbnOxJI4d8R1374v\n",
              "nvCMVJ7m5NmjUwIbDq24N6xQCSCe6fyi0E1N/+gngOSZQUCn1z7acAALOlTx5kURFYmNaEair5As\n",
              "lcip8OsvzNQG7LyeUUanPalPTanI7dqwX/4vjZquE3bWQ8pHR/gm85MTv/UHDNTGUYYEF4vXQYOO\n",
              "qqRViZ8JD7dkoUOrqpdvvD1E0KcS8awm4AAjuvjVhZfxYskvcnwL+eW4OwiGWA2od6/nGHMdDa1k\n",
              "0RNN+ZMwkeR4EEschEgvTi/KP0IsCSmJdhhhB+pVtWcAfUXlzkky9KTvbSGJZ1uT7E1AVaT0X811\n",
              "Ww7XTIYiCgFj0LaoaKu4KlG14tHnDPb8yroMpXU0cAo57/NtG/AupQoNTmoA64xTpSBvcWAOra2c\n",
              "cprkOUBwgEnv0AVk3+mcx2QAGJ8+7tLabrs+r6zBzll3eZmhK2yI8EWy6SZHdektnPmXX0R7oPL5\n",
              "dflN+0NSqQjw6nG5t6/e2ih0t0NYH5+zdounkIAAHBJ6UAB9du95Okp3FmwANgvw70iURV9V+NvV\n",
              "7NEJja8UBFejreetZ8OvIAB3m91JDKzM2a/VEbMt1w8p69w7CPE4rfs5Q+4nPKfG/Hn1V0l7T1Zf\n",
              "+6f7aNFU3S621uwLLMroe1gVzyOAoCF/9Y11PQlXUkcJbLr5wyf6pt3PHAGCEnQknJAABGclQAC0\n",
              "YAFABFBbvS/AFkm8HryHMlHZD+wCLWbF2OR80TnJuT1F0L6WO74npf+KhQnwbjqfSWlT/42Udi3w\n",
              "0hMPCcMUADkbJ32+NYGlrYwXXOUaE+U0UqGh1fvgJW7eUXR8YqiPI+lFzkAAhk2m1T6ACwU0ajv6\n",
              "l9KGYw1z5WblBTJQ8jNqpNi9aLKTFu+Tm40AABFsyABSKofMRthxc7xR7PLr3Sci+YCEuXKXWSXe\n",
              "zx+IJ5lwcp7G4lLUBqN18KVvnyAAYRyELhDcrJWcgol8jisrerjTME/CRPo1f3MAs9edcyFEFj6w\n",
              "bruoLL95dF0mCGctwjrpcKquHgInYbsAARBAAF8oAP1dgB5mwS2w4Maw3u56Asg+LWLvVQDup306\n",
              "Z5OiPwgNdv9mdPkneYgQJIRpvi/3p30kKeaW2IrbqOMka9jElQbmScsDXX3eJWGV3VEYTfU5H1bv\n",
              "ASrqVwLDfOsCI//bsjdZsEymig7zj2x9eKxG3VNsIXoeUIABSEfou/jwUPHXL8ppNIjcVTOmqJBN\n",
              "zAnsFTuQ3W2JmJAW9PQB6FW7AP3q80gMdCYQiKeGUIzPIAAjzor6Bn7udFuKi89DgWNAEAO6k0UN\n",
              "WW868y+n1t/ghD1wOCMZsWAjVkNIpyT2t/ggQwJjQzAgNQLhvXTsZQTXlYbVxOl9U+alenJQzrZt\n",
              "Nu1C8/wrz3RjxRBlPe2UnxZWXE7u0RPst6nWaWXqlPYr7KlfvvFfwkVCUpQUozDmzCzE3Hv5+u05\n",
              "tQcH+bD1cbzH83hZiQbqfDW43QHIONcCSfkgvx2KEyS/k7Dbphx458NYWMJWQrTI2zr74h+yg7bo\n",
              "ze+BCLCX4TsNpG+xh3OPWHn36WwMnm1uN1oZKUdQH3+63nc+LOkLXC7cjMBI3jJBUdYceaMgvqjc\n",
              "7pO4XB6qn/VIA2Vair3LOxmE7h51kugsq8d0C4eJPSiGs46lUA+AMM5WEZnPuahfFllS9FxxM1xI\n",
              "//iM339qxDUoRHDjuUCHPYEDZz5TLVn3L/q0jP9H3yn/eSwmJGZEtkQc7Rn9qkQOupbucbsN23fP\n",
              "SMkdnSVgW+AW96csCt9I18/6EaCdXN5FS37F2CkRgmh7J+wzF36dqGwD6SaTnQOD59PJsyC8rHXs\n",
              "NX6DrAghCGspu9B7/SHyouaz+xpil81tDIgy9IarE0uYCIXjOCyVGh+T3vFUW59BvpXo9AE/qDUS\n",
              "O5bznbTj0dVnaYwFJnaeVXdmlEcYLdmvd2OoMwquEH/WUm5o1N9m5BosXF0BX6v89h4ACbYqU/03\n",
              "MMwD8lfnT3BZrRj8GIlNaJGZju6oBdelo150WyKgcWE2VUlHjw9hWJPAXoecWoFS4XWy/dclwX2x\n",
              "wIKzVaK2a+9ceeygtpPe6FAhmdJAK0Apj9687qBc8mti27N4IHTP6jpEgq+uyPTWdJlBenfyFQla\n",
              "b0Pp1maZ3Yxxn+0K2QKmy/W2o9caJs9hZUEEyaeGqxTTQcIiUdeQ+udRQyvQRpToVcRtBISrxr9l\n",
              "Mw90QQkXctVJHpABhwbhb1Y4ihNN/p5PFOwa+5Da8lfk5N8UWNQ3B6zFRW/ATFRxb85pGci/QMrd\n",
              "gp5xGu1TldEv+yHITsaIUPAQy+RUHHpf09eig7dq94l30PNSCumeXHzNUeZCCj0xGLyJ1ljKgjf1\n",
              "mYmJ2pbj/tha8AuyXzOIFsZvdof+QiC4be+TmyC6/ZPqa7zRvyV6h8ocjuhb3OzZU3wU2zr+5uH0\n",
              "VbAMkyWk0D3KeA8z0G/S+hK/GRVEqncnP3cVllsZn4cc+HczKikvCiVcUnMKqAACR5vIWaoO9Yas\n",
              "Bs8RszvPb0es/4agWMBjq65EpJcgp4czSw+kfHvIuKXBV2w5yCysZAbHFJYNAfxVOyvA7SJpQVPL\n",
              "c1ap704rfxiqRRkq8BNba+9YT7oScW2ISxHNrbCykLUQ4KuWs745AX02Nwb1nkbDO9nKHevRWKtS\n",
              "Ow2diE1kDpNtJeDLxmgh8ELKqn9fNx/iPjI544zl7ocVauVzYS01YFpY5CuLidVGBIbEOPHbob6U\n",
              "BNkx8rQxID76d37OF1ttnoy/XfOp8zdkzn8gEEnAYeEz8zbUjarf22g9x0LrgtZ9p9AGwmYC2ma/\n",
              "wpzff9Hwv4GJG9XIbtlv+19ObShhYuwwKzBFQmN/sDSsHGDxNyGLU3+/tsOG8Z6mL0uYouYhK6/w\n",
              "YwRz7+ABM1H0RFYQYHdvJI7PrIBvBMOdsGwYeMy8lrH++bkUzKQyQqnQJD0zXOK2HrtC3J0kAZdC\n",
              "rHEtzl4TeTG8w2rY32S1MAA6Ak/667BXCetQAOUn3hgHwONtt9kTmyUCghIzqNBufRIwKYp5HyET\n",
              "IpZ9dg+zwd7qFUnlF8q2ujG8Q7ehr6LAEqz9KsMWGepOQcYVeN7uJxgZeS30FzatiRcfllUGEwr+\n",
              "37H3ieeymP6Xx+3RixVxN5Z+/oUx0p98CcHL7QgL1pPfxeYXzqHQ43vCuT1Bep9HK3VthiSeouA2\n",
              "FJkP+MEs0vp2j9LQii1dDHI1/+tQJhnMAgZL8rW6Ic+kAajUf1XUlxGoq7V/VeSLwVFQlT88rz+c\n",
              "lzDLp28sA6gpOTHspzV3Q+0PtYuTAaEEkTGKGMvlRufVeihaIUkefU4H19QwbUxZM8j/0jUlFtLt\n",
              "xJkLIn7EEmvABK0AAAIBQZohbEK//jhAAAGH/AO0AF1CK/5mxI+dpl/L8fMdd97cY/fbyay0UcW7\n",
              "wmtKZAR+XGlVCcxFnpPh9t8t55NNyrVWhm3E/Fnk1sliP2FIRCUIB70fl7Lujo+Qmdi/zsPHmyqA\n",
              "rZI8pI5Xp6yfCDYxCHrmJPPMmnRu6Y5pgRx3I74s/VKkt/JMmMgnT3qBi1iH3Oxo0vD62BqgloRM\n",
              "rCzUQ46bX896QVNAnoNXluO1hoLCoDCJl6pzEgAgjVIhOGTrm4G/icmc13qN8sPTeoc0mx/U3Au+\n",
              "eds7Z+PdWlYFiFywj5sAUJYib8igg5EgWsr3565hNpda0/6BnnUx+x2+Cn0zW4UtKfrCwCFaiLP+\n",
              "SgHZQ2GSKFE/PZBbsW8YG27+eg8thxAylXuq+n0uy58IPWvNNrNQ7SBxn2sagqmcluLgo0ASkpQV\n",
              "qHlp1RXr8dcFd6MObfrjT7e098J3R/98feHMjx6CZmAMHLVxi4ciU5DW73rolG207IFcTCp+dY8c\n",
              "3Rp0U+1YFz78zGKrOM+4L0C4qLPXFWSV2Ey3v35V/b1hiVlf0LSoi0xY0w5so8DUNn80bkBfnKqo\n",
              "vET6v9l1TUaUDCcWDnN+aE5eZ9gztLq+rbrd65sGWjVLQEHpvOpn/R2JoghbwCj6ubC2lBQCPWIv\n",
              "LCXe7KTJikeggVXgz5uCAAAAskGaQjwhkymEJ//98QAAAwKfyGkWnpvAv3sBdnBAB/Nm9CcNYv57\n",
              "vSehXC87METf8XConnKr+NxCl4wur8nca2eT7DKyjVyHpMSSV+jWZ6YIuPwLz98wn8kmXTpBl3OK\n",
              "N9ioKJh2hSi5nW6jXVcONplJGpPTITgpZiU+V3Q/AQBYcqol8W7M4QXZ6cOhM9AmADnNY2YmR/0j\n",
              "XeU/FijWVHpSfGtgyMW9sHdEAtvpCkUAC0kAAAC8QZpjSeEPJlMCEf/94QAAAwLZ62ZRUvcJrnbA\n",
              "C2aa6iNEdkLPcSDXl/KokHYBSpmw1QgeJPQq3MXrQIjaxc0zsqlhC4pa62lMowA7MvHhwNAoL3Ea\n",
              "sUtCnuI/Tib/KU65RkkeZPeJso/f9cr+ry6gFoly0alOmsMLV3ZmK3PdCNVKlGfhtPjSU8qduezP\n",
              "H03Zhexy8TEVY3u6Q5iBiqU09kyyZcPhmJP4BT8ugfRE3LjpBh/5QKMhaZbCAvIAAANLbW9vdgAA\n",
              "AGxtdmhkAAAAAAAAAAAAAAAAAAAD6AAAAGQAAQAAAQAAAAAAAAAAAAAAAAEAAAAAAAAAAAAAAAAA\n",
              "AAABAAAAAAAAAAAAAAAAAABAAAAAAAAAAAAAAAAAAAAAAAAAAAAAAAAAAAAAAAAAAgAAAnV0cmFr\n",
              "AAAAXHRraGQAAAADAAAAAAAAAAAAAAABAAAAAAAAAGQAAAAAAAAAAAAAAAAAAAAAAAEAAAAAAAAA\n",
              "AAAAAAAAAAABAAAAAAAAAAAAAAAAAABAAAAABLAAAAK8AAAAAAAkZWR0cwAAABxlbHN0AAAAAAAA\n",
              "AAEAAABkAAACAAABAAAAAAHtbWRpYQAAACBtZGhkAAAAAAAAAAAAAAAAAAAoAAAABABVxAAAAAAA\n",
              "LWhkbHIAAAAAAAAAAHZpZGUAAAAAAAAAAAAAAABWaWRlb0hhbmRsZXIAAAABmG1pbmYAAAAUdm1o\n",
              "ZAAAAAEAAAAAAAAAAAAAACRkaW5mAAAAHGRyZWYAAAAAAAAAAQAAAAx1cmwgAAAAAQAAAVhzdGJs\n",
              "AAAAuHN0c2QAAAAAAAAAAQAAAKhhdmMxAAAAAAAAAAEAAAAAAAAAAAAAAAAAAAAABLACvABIAAAA\n",
              "SAAAAAAAAAABAAAAAAAAAAAAAAAAAAAAAAAAAAAAAAAAAAAAAAAAAAAAGP//AAAANmF2Y0MBZAAg\n",
              "/+EAGWdkACCs2UBLBZ+4QAAAAwBAAAAUA8YMZYABAAZo6+PLIsD9+PgAAAAAHHV1aWRraEDyXyRP\n",
              "xbo5pRvPAyPzAAAAAAAAABhzdHRzAAAAAAAAAAEAAAAEAAABAAAAABRzdHNzAAAAAAAAAAEAAAAB\n",
              "AAAAGGN0dHMAAAAAAAAAAQAAAAQAAAIAAAAAHHN0c2MAAAAAAAAAAQAAAAEAAAAEAAAAAQAAACRz\n",
              "dHN6AAAAAAAAAAAAAAAEAAAQVQAAAgUAAAC2AAAAwAAAABRzdGNvAAAAAAAAAAEAAAAwAAAAYnVk\n",
              "dGEAAABabWV0YQAAAAAAAAAhaGRscgAAAAAAAAAAbWRpcmFwcGwAAAAAAAAAAAAAAAAtaWxzdAAA\n",
              "ACWpdG9vAAAAHWRhdGEAAAABAAAAAExhdmY1OC43Ni4xMDA=\n",
              "\">\n",
              "  Your browser does not support the video tag.\n",
              "</video>"
            ]
          },
          "metadata": {},
          "execution_count": 26
        },
        {
          "output_type": "display_data",
          "data": {
            "text/plain": [
              "<Figure size 1200x700 with 1 Axes>"
            ],
            "image/png": "[encoded data removed]"
          },
          "metadata": {}
        }
      ],
      "source": [
        "from IPython.display import HTML\n",
        "\n",
        "idx = 2\n",
        "\n",
        "fig, ax = plt.subplots(facecolor='w', figsize=(12, 7))\n",
        "labels=['0', '1', '2', '3', '4', '5', '6', '7', '8','9']\n",
        "print(f\"The target label is: {targets[idx]}\")\n",
        "\n",
        "# plt.rcParams['animation.ffmpeg_path'] = 'C:\\\\path\\\\to\\\\your\\\\ffmpeg.exe'\n",
        "\n",
        "#  Plot spike count histogram\n",
        "anim = splt.spike_count(spk_rec[:, idx].detach().cpu(), fig, ax, labels=labels,\n",
        "                        animate=True, interpolate=4)\n",
        "\n",
        "print(spk_rec[:,idx])\n",
        "HTML(anim.to_html5_video())\n",
        "# anim.save(\"spike_bar.mp4\")"
      ]
    },
    {
      "cell_type": "markdown",
      "metadata": {
        "id": "s0dAgWUt2o6E"
      },
      "source": [
        "# Conclusion\n",
        "You should now have a grasp of the basic features of snnTorch and be able to start running your own experiments. [In the next tutorial](https://snntorch.readthedocs.io/en/latest/tutorials/index.html), we will train a network using a neuromorphic dataset.\n",
        "\n",
        "A special thanks to [Gianfrancesco Angelini](https://github.com/gianfa) for providing valuable feedback on the tutorial.\n",
        "\n",
        "If you like this project, please consider starring ⭐ the repo on GitHub as it is the easiest and best way to support it."
      ]
    },
    {
      "cell_type": "markdown",
      "metadata": {
        "id": "q8eFeW-yeGci"
      },
      "source": [
        "# Additional Resources\n",
        "* [Check out the snnTorch GitHub project here.](https://github.com/jeshraghian/snntorch)"
      ]
    }
  ],
  "metadata": {
    "accelerator": "GPU",
    "colab": {
      "name": "snntorch_tutorial_6.ipynb",
      "provenance": [],
      "include_colab_link": true
    },
    "kernelspec": {
      "display_name": "Python 3",
      "language": "python",
      "name": "python3"
    },
    "language_info": {
      "codemirror_mode": {
        "name": "ipython",
        "version": 3
      },
      "file_extension": ".py",
      "mimetype": "text/x-python",
      "name": "python",
      "nbconvert_exporter": "python",
      "pygments_lexer": "ipython2",
      "version": "3.11.1 (v3.11.1:a7a450f84a, Dec  6 2022, 15:24:06) [Clang 13.0.0 (clang-1300.0.29.30)]"
    },
    "vscode": {
      "interpreter": {
        "hash": "aee8b7b246df8f9039afb4144a1f6fd8d2ca17a180786b69acc140d282b71a49"
      }
    }
  },
  "nbformat": 4,
  "nbformat_minor": 0
}