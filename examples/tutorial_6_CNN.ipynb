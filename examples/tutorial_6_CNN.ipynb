{
  "cells": [
    {
      "cell_type": "markdown",
      "metadata": {
        "id": "view-in-github",
        "colab_type": "text"
      },
      "source": [
        "<a href=\"https://colab.research.google.com/github/devgokulbv/8085-ASSEMBLER/blob/main/examples/tutorial_6_CNN.ipynb\" target=\"_parent\"><img src=\"https://colab.research.google.com/assets/colab-badge.svg\" alt=\"Open In Colab\"/></a>"
      ]
    },
    {
      "cell_type": "markdown",
      "metadata": {
        "collapsed": false,
        "id": "uSGZ6cdmpknm",
        "pycharm": {
          "name": "#%% md\n"
        }
      },
      "source": [
        "[<img src='https://github.com/jeshraghian/snntorch/blob/master/docs/_static/img/snntorch_alpha_w.png?raw=true' width=\"400\">](https://github.com/jeshraghian/snntorch/)\n",
        "\n",
        "# snnTorch - Surrogate Gradient Descent in a Convolutional Spiking Neural Network\n",
        "## Tutorial 6\n",
        "### By Jason K. Eshraghian (www.ncg.ucsc.edu)\n",
        "\n",
        "<a href=\"https://colab.research.google.com/github/jeshraghian/snntorch/blob/master/examples/tutorial_6_CNN.ipynb\">\n",
        "  <img src=\"https://colab.research.google.com/assets/colab-badge.svg\" alt=\"Open In Colab\"/>\n",
        "</a>\n",
        "\n",
        "[<img src='https://github.com/jeshraghian/snntorch/blob/master/docs/_static/img/GitHub-Mark-Light-120px-plus.png?raw=true' width=\"28\">](https://github.com/jeshraghian/snntorch/) [<img src='https://github.com/jeshraghian/snntorch/blob/master/docs/_static/img/GitHub_Logo_White.png?raw=true' width=\"80\">](https://github.com/jeshraghian/snntorch/)"
      ]
    },
    {
      "cell_type": "markdown",
      "metadata": {
        "id": "rugeYYiqsrlc"
      },
      "source": [
        "The snnTorch tutorial series is based on the following paper. If you find these resources or code useful in your work, please consider citing the following source:\n",
        "\n",
        "> <cite> [Jason K. Eshraghian, Max Ward, Emre Neftci, Xinxin Wang, Gregor Lenz, Girish Dwivedi, Mohammed Bennamoun, Doo Seok Jeong, and Wei D. Lu. \"Training Spiking Neural Networks Using Lessons From Deep Learning\". Proceedings of the IEEE, 111(9) September 2023.](https://ieeexplore.ieee.org/abstract/document/10242251) </cite>\n"
      ]
    },
    {
      "cell_type": "markdown",
      "metadata": {
        "id": "Ymi3sqJg28OQ"
      },
      "source": [
        "# Introduction\n",
        "In this tutorial, you will:\n",
        "* Learn how to modify surrogate gradient descent to overcome the dead neuron problem\n",
        "* Construct and train a convolutional spiking neural network\n",
        "* Use a sequential container, `nn.Sequential` to simplify model construction\n",
        "\n",
        "Part of this tutorial was inspired by Friedemann Zenke’s extensive\n",
        "work on SNNs. Check out his repo on surrogate gradients\n",
        "[here](https://github.com/fzenke/spytorch), and a favourite paper\n",
        "of mine: E. O. Neftci, H. Mostafa, F. Zenke, [Surrogate Gradient\n",
        "Learning in Spiking Neural Networks: Bringing the Power of\n",
        "Gradient-based optimization to spiking neural\n",
        "networks.](https://ieeexplore.ieee.org/document/8891809) IEEE\n",
        "Signal Processing Magazine 36, 51–63.\n",
        "\n",
        "At the end of the tutorial, we will train a convolutional spiking neural network (CSNN) using the MNIST dataset to perform image classification. The background theory follows on from [Tutorials 2, 4 and 5](https://snntorch.readthedocs.io/en/latest/tutorials/index.html), so feel free to go back if you need to brush up.\n",
        "\n",
        "If running in Google Colab:\n",
        "* You may connect to GPU by checking `Runtime` > `Change runtime type` > `Hardware accelerator: GPU`\n",
        "* Next, install the latest PyPi distribution of snnTorch by clicking into the following cell and pressing `Shift+Enter`."
      ]
    },
    {
      "cell_type": "code",
      "execution_count": 1,
      "metadata": {
        "id": "5tn_wUlopkon",
        "pycharm": {
          "name": "#%%\n"
        },
        "outputId": "aabdcc9e-b9f8-49e9-be20-51eaca6c76f0",
        "colab": {
          "base_uri": "https://localhost:8080/"
        }
      },
      "outputs": [
        {
          "output_type": "stream",
          "name": "stdout",
          "text": [
            "Collecting snntorch\n",
            "  Downloading snntorch-0.9.4-py2.py3-none-any.whl.metadata (15 kB)\n",
            "Downloading snntorch-0.9.4-py2.py3-none-any.whl (125 kB)\n",
            "\u001b[2K   \u001b[90m━━━━━━━━━━━━━━━━━━━━━━━━━━━━━━━━━━━━━━━━\u001b[0m \u001b[32m125.6/125.6 kB\u001b[0m \u001b[31m7.9 MB/s\u001b[0m eta \u001b[36m0:00:00\u001b[0m\n",
            "\u001b[?25hInstalling collected packages: snntorch\n",
            "Successfully installed snntorch-0.9.4\n"
          ]
        }
      ],
      "source": [
        "!pip install snntorch"
      ]
    },
    {
      "cell_type": "code",
      "execution_count": 2,
      "metadata": {
        "id": "QXZ6Tuqc9Q-l",
        "outputId": "bf7d4b4a-c835-4d96-bf88-5c9f14b2dbe0",
        "colab": {
          "base_uri": "https://localhost:8080/"
        }
      },
      "outputs": [
        {
          "output_type": "stream",
          "name": "stderr",
          "text": [
            "<ipython-input-2-bd886847109b>:4: DeprecationWarning: The module snntorch.backprop will be deprecated in  a future release. Writing out your own training loop will lead to substantially faster performance.\n",
            "  from snntorch import backprop\n"
          ]
        }
      ],
      "source": [
        "# imports\n",
        "import snntorch as snn\n",
        "from snntorch import surrogate\n",
        "from snntorch import backprop\n",
        "from snntorch import functional as SF\n",
        "from snntorch import utils\n",
        "from snntorch import spikeplot as splt\n",
        "\n",
        "import torch\n",
        "import torch.nn as nn\n",
        "from torch.utils.data import DataLoader\n",
        "from torchvision import datasets, transforms\n",
        "import torch.nn.functional as F\n",
        "\n",
        "import matplotlib.pyplot as plt\n",
        "import numpy as np\n",
        "import itertools"
      ]
    },
    {
      "cell_type": "markdown",
      "metadata": {
        "id": "gt2xMbLY9dVE"
      },
      "source": [
        "# 1. Surrogate Gradient Descent"
      ]
    },
    {
      "cell_type": "markdown",
      "metadata": {
        "id": "zJddJWoa0GT6"
      },
      "source": [
        "[Tutorial 5](https://snntorch.readthedocs.io/en/latest/tutorials/index.html) raised the **dead neuron problem**. This arises because of the non-differentiability of spikes:\n",
        "\n",
        "\n",
        "$$S[t] = \\Theta(U[t] - U_{\\rm thr}) \\tag{1}$$\n",
        "$$\\frac{\\partial S}{\\partial U} = \\delta(U - U_{\\rm thr}) \\in \\{0, \\infty\\} \\tag{2}$$\n",
        "\n",
        "where $\\Theta(\\cdot)$ is the Heaviside step function, and $\\delta(\\cdot)$ is the Dirac-Delta function. We previously overcame this using the gradient of the threshold-shifted *ArcTangent* function on the backward pass instead.\n",
        "\n",
        "Other common smoothing functions include the sigmoid function, or the fast sigmoid function. The sigmoidal functions must also be shifted such that they are centered at the threshold $U_{\\rm thr}$. Defining  the overdrive of the membrane potential as $U_{OD} = U - U_{\\rm thr}$:\n",
        "\n",
        "$$\\tilde{S} = \\frac{U_{OD}}{1+k|U_{OD}|} \\tag{3}$$\n",
        "$$\\frac{\\partial \\tilde{S}}{\\partial U} = \\frac{1}{(k|U_{OD}|+1)^2}\\tag{4}$$\n",
        "\n",
        "where $k$ modulates how smooth the surrogate function is, and is treated as a hyperparameter. As $k$ increases, the approximation converges towards the original derivative in $(2)$:  \n",
        "\n",
        "$$\\frac{\\partial \\tilde{S}}{\\partial U} \\Bigg|_{k \\rightarrow \\infty} = \\delta(U-U_{\\rm thr})$$\n",
        "\n",
        "\n",
        "<center>\n",
        "<img src='https://github.com/jeshraghian/snntorch/blob/master/docs/_static/img/examples/tutorial6/surrogate.png?raw=true' width=\"800\">\n",
        "</center>\n",
        "\n",
        "To summarize:\n",
        "\n",
        "* **Forward Pass**\n",
        "  - Determine $S$ using the shifted Heaviside function in $(1)$\n",
        "  - Store $U$ for later use during the backward pass\n",
        "* **Backward Pass**\n",
        "  - Pass $U$ into $(4)$ to calculate the derivative term\n",
        "\n",
        "In the same way the *ArcTangent* approach was used in [Tutorial 5](https://snntorch.readthedocs.io/en/latest/tutorials/index.html),\n",
        "the gradient of the fast sigmoid function can override the Dirac-Delta function in a Leaky Integrate-and-Fire\n",
        "(LIF) neuron model:"
      ]
    },
    {
      "cell_type": "code",
      "execution_count": 3,
      "metadata": {
        "id": "5lqpuT--bZmJ"
      },
      "outputs": [],
      "source": [
        "# Leaky neuron model, overriding the backward pass with a custom function\n",
        "class LeakySigmoidSurrogate(nn.Module):\n",
        "  def __init__(self, beta, threshold=1.0, k=25):\n",
        "\n",
        "      # Leaky_Surrogate is defined in the previous tutorial and not used here\n",
        "      super(Leaky_Surrogate, self).__init__()\n",
        "\n",
        "      # initialize decay rate beta and threshold\n",
        "      self.beta = beta\n",
        "      self.threshold = threshold\n",
        "      self.surrogate_func = self.FastSigmoid.apply\n",
        "\n",
        "  # the forward function is called each time we call Leaky\n",
        "  def forward(self, input_, mem):\n",
        "    spk = self.surrogate_func((mem-self.threshold))  # call the Heaviside function\n",
        "    reset = (spk - self.threshold).detach()\n",
        "    mem = self.beta * mem + input_ - reset\n",
        "    return spk, mem\n",
        "\n",
        "  # Forward pass: Heaviside function\n",
        "  # Backward pass: Override Dirac Delta with gradient of fast sigmoid\n",
        "  @staticmethod\n",
        "  class FastSigmoid(torch.autograd.Function):\n",
        "    @staticmethod\n",
        "    def forward(ctx, mem, k=25):\n",
        "        ctx.save_for_backward(mem) # store the membrane potential for use in the backward pass\n",
        "        ctx.k = k\n",
        "        out = (mem > 0).float() # Heaviside on the forward pass: Eq(1)\n",
        "        return out\n",
        "\n",
        "    @staticmethod\n",
        "    def backward(ctx, grad_output):\n",
        "        (mem,) = ctx.saved_tensors  # retrieve membrane potential\n",
        "        grad_input = grad_output.clone()\n",
        "        grad = grad_input / (ctx.k * torch.abs(mem) + 1.0) ** 2  # gradient of fast sigmoid on backward pass: Eq(4)\n",
        "        return grad, None"
      ]
    },
    {
      "cell_type": "markdown",
      "metadata": {
        "id": "4aQvFG7ajpzU"
      },
      "source": [
        "Better yet, all of that can be condensed by using the built-in module `snn.surrogate` from snnTorch, where $k$ from $(4)$ is denoted `slope`. The surrogate gradient is passed into `spike_grad` as an argument:"
      ]
    },
    {
      "cell_type": "code",
      "execution_count": 4,
      "metadata": {
        "id": "2dCWD_qajyLw"
      },
      "outputs": [],
      "source": [
        "spike_grad = surrogate.fast_sigmoid(slope=25)\n",
        "beta = 0.5\n",
        "\n",
        "lif1 = snn.Leaky(beta=beta, spike_grad=spike_grad)"
      ]
    },
    {
      "cell_type": "markdown",
      "metadata": {
        "id": "Ffn7D6omkj5r"
      },
      "source": [
        "To explore the other surrogate gradient functions available, [take a look at the documentation here.](https://snntorch.readthedocs.io/en/latest/snntorch.surrogate.html)"
      ]
    },
    {
      "cell_type": "markdown",
      "metadata": {
        "id": "Wgzf83HE2BeB"
      },
      "source": [
        "# 2. Setting up the CSNN\n",
        "## 2.1 DataLoaders"
      ]
    },
    {
      "cell_type": "code",
      "execution_count": 5,
      "metadata": {
        "id": "pxO32dntlOB2"
      },
      "outputs": [],
      "source": [
        "# dataloader arguments\n",
        "batch_size = 128\n",
        "data_path='/tmp/data/mnist'\n",
        "\n",
        "dtype = torch.float\n",
        "device = torch.device(\"cuda\") if torch.cuda.is_available() else torch.device(\"cpu\")"
      ]
    },
    {
      "cell_type": "code",
      "execution_count": 11,
      "metadata": {
        "id": "pE7eGTnulSBA",
        "outputId": "a4cf14ca-efc9-420d-e64b-27022aaa6006",
        "colab": {
          "base_uri": "https://localhost:8080/"
        }
      },
      "outputs": [
        {
          "output_type": "stream",
          "name": "stderr",
          "text": [
            "100%|██████████| 9.91M/9.91M [00:00<00:00, 17.9MB/s]\n",
            "100%|██████████| 28.9k/28.9k [00:00<00:00, 484kB/s]\n",
            "100%|██████████| 1.65M/1.65M [00:00<00:00, 4.42MB/s]\n",
            "100%|██████████| 4.54k/4.54k [00:00<00:00, 8.07MB/s]\n"
          ]
        }
      ],
      "source": [
        "# Define a transform\n",
        "transform = transforms.Compose([\n",
        "            transforms.Resize((28, 28)),\n",
        "            transforms.Grayscale(),\n",
        "            transforms.ToTensor(),\n",
        "            transforms.Normalize((0,), (1,))])\n",
        "\n",
        "mnist_train = datasets.MNIST(data_path, train=True, download=True, transform=transform)\n",
        "mnist_test = datasets.MNIST(data_path, train=False, download=True, transform=transform)\n",
        "\n",
        "# Create DataLoaders\n",
        "train_loader = DataLoader(mnist_train, batch_size=batch_size, shuffle=True, drop_last=True)\n",
        "test_loader = DataLoader(mnist_test, batch_size=batch_size, shuffle=True, drop_last=True)"
      ]
    },
    {
      "cell_type": "markdown",
      "metadata": {
        "id": "6v8fBXrVlY3f"
      },
      "source": [
        "## 2.2 Define the Network\n",
        "\n",
        "The convolutional network architecture to be used is: 12C5-MP2-64C5-MP2-1024FC10\n",
        "\n",
        "- 12C5 is a 5$\\times$5 convolutional kernel with 12 filters\n",
        "- MP2 is a 2$\\times$2 max-pooling function\n",
        "- 1024FC10 is a fully-connected layer that maps 1,024 neurons to 10 outputs"
      ]
    },
    {
      "cell_type": "code",
      "execution_count": 6,
      "metadata": {
        "id": "foos_NlopDrb"
      },
      "outputs": [],
      "source": [
        "# neuron and simulation parameters\n",
        "spike_grad = surrogate.fast_sigmoid(slope=25)\n",
        "beta = 0.5\n",
        "num_steps = 1"
      ]
    },
    {
      "cell_type": "code",
      "execution_count": 45,
      "metadata": {
        "id": "X4sd8PDSlGZb"
      },
      "outputs": [],
      "source": [
        "# Define Network\n",
        "class Net(nn.Module):\n",
        "    def __init__(self):\n",
        "        super().__init__()\n",
        "\n",
        "        # Initialize layers\n",
        "        self.conv1 = nn.Conv2d(1, 12, 5)\n",
        "        self.lif1 = snn.Leaky(beta=beta, spike_grad=spike_grad,reset_mechanism = \"zero\")\n",
        "        self.conv2 = nn.Conv2d(12, 64, 5)\n",
        "        self.lif2 = snn.Leaky(beta=beta, spike_grad=spike_grad,reset_mechanism = \"zero\")\n",
        "        self.fc1 = nn.Linear(64*4*4, 10)\n",
        "        self.lif3 = snn.Leaky(beta=beta, spike_grad=spike_grad,reset_mechanism = \"zero\")\n",
        "\n",
        "    def forward(self, x):\n",
        "\n",
        "        # Initialize hidden states and outputs at t=0\n",
        "        mem1 = self.lif1.init_leaky()\n",
        "        mem2 = self.lif2.init_leaky()\n",
        "        mem3 = self.lif3.init_leaky()\n",
        "\n",
        "        cur1 = F.max_pool2d(self.conv1(x), 2)\n",
        "        spk1, mem1 = self.lif1(cur1, mem1)\n",
        "\n",
        "        cur2 = F.max_pool2d(self.conv2(spk1), 2)\n",
        "        spk2, mem2 = self.lif2(cur2, mem2)\n",
        "\n",
        "        cur3 = self.fc1(spk2.view(batch_size, -1))\n",
        "        spk3, mem3 = self.lif3(cur3, mem3)\n",
        "        return spk3, mem3"
      ]
    },
    {
      "cell_type": "markdown",
      "metadata": {
        "id": "HVn3aYAUnWqH"
      },
      "source": [
        "In the previous tutorial, the network was wrapped inside of a class, as shown above.\n",
        "With increasing network complexity, this adds a lot of boilerplate code that we might wish to avoid. Alternatively, the `nn.Sequential` method can be used instead.\n",
        "\n",
        "> Note: the following code-block simulates over one single time-step, and requires a separate for-loop over time."
      ]
    },
    {
      "cell_type": "code",
      "execution_count": 50,
      "metadata": {
        "id": "AoYBY89angvp"
      },
      "outputs": [],
      "source": [
        "#  Initialize Network\n",
        "net = nn.Sequential(nn.Conv2d(1, 12, 5),\n",
        "                    nn.MaxPool2d(2),\n",
        "                    snn.Leaky(beta=beta, spike_grad=spike_grad, init_hidden=True,reset_mechanism = \"zero\"),\n",
        "                    nn.Conv2d(12, 64, 5),\n",
        "                    nn.MaxPool2d(2),\n",
        "                    snn.Leaky(beta=beta, spike_grad=spike_grad, init_hidden=True,reset_mechanism = \"zero\"),\n",
        "                    nn.Flatten(),\n",
        "                    nn.Linear(64*4*4, 10),\n",
        "                    snn.Leaky(beta=beta, spike_grad=spike_grad, init_hidden=True, output=True,reset_mechanism = \"zero\")\n",
        "                    ).to(device)\n",
        "\n",
        "for module in net.modules():\n",
        "    if isinstance(module, nn.Conv2d):\n",
        "        module.bias.requires_grad = False\n",
        "        module.bias.data.zero_()\n",
        "    elif isinstance(module, nn.Linear):\n",
        "        module.bias.requires_grad = False\n",
        "        module.bias.data.zero_()\n"
      ]
    },
    {
      "cell_type": "code",
      "source": [
        "bias_terms = [param for name, param in net.named_parameters() if \"bias\" in name]\n",
        "for bias in bias_terms:\n",
        "    print(bias)"
      ],
      "metadata": {
        "id": "Y1fwmRjPhRcq",
        "outputId": "0846aeee-ebde-4765-e212-242817eb32c9",
        "colab": {
          "base_uri": "https://localhost:8080/"
        }
      },
      "execution_count": 51,
      "outputs": [
        {
          "output_type": "stream",
          "name": "stdout",
          "text": [
            "Parameter containing:\n",
            "tensor([0., 0., 0., 0., 0., 0., 0., 0., 0., 0., 0., 0.], device='cuda:0')\n",
            "Parameter containing:\n",
            "tensor([0., 0., 0., 0., 0., 0., 0., 0., 0., 0., 0., 0., 0., 0., 0., 0., 0., 0., 0., 0., 0., 0., 0., 0.,\n",
            "        0., 0., 0., 0., 0., 0., 0., 0., 0., 0., 0., 0., 0., 0., 0., 0., 0., 0., 0., 0., 0., 0., 0., 0.,\n",
            "        0., 0., 0., 0., 0., 0., 0., 0., 0., 0., 0., 0., 0., 0., 0., 0.],\n",
            "       device='cuda:0')\n",
            "Parameter containing:\n",
            "tensor([0., 0., 0., 0., 0., 0., 0., 0., 0., 0.], device='cuda:0')\n"
          ]
        }
      ]
    },
    {
      "cell_type": "markdown",
      "metadata": {
        "id": "7Qgw1dRmpOlo"
      },
      "source": [
        "\n",
        "The `init_hidden` argument initializes the hidden states of the neuron (here, membrane potential). This takes place in the background as an instance variable.\n",
        "If `init_hidden` is activated, the membrane potential is not explicitly returned to the user, ensuring only the output spikes are sequentially passed through the layers wrapped in `nn.Sequential`.\n",
        "\n",
        "To train a model using the final layer's membrane potential, set the argument `output=True`.\n",
        "This enables the final layer to return both the spike and membrane potential response of the neuron."
      ]
    },
    {
      "cell_type": "markdown",
      "metadata": {
        "id": "A-bCSQmBstvd"
      },
      "source": [
        "## 2.3 Forward-Pass\n",
        "A forward pass across a simulation duration of `num_steps` looks like this:"
      ]
    },
    {
      "cell_type": "code",
      "execution_count": 52,
      "metadata": {
        "id": "IxPPMND-pMxE"
      },
      "outputs": [],
      "source": [
        "data, targets = next(iter(train_loader))\n",
        "data = data.to(device)\n",
        "targets = targets.to(device)\n",
        "\n",
        "for step in range(num_steps):\n",
        "    spk_out, mem_out = net(data)"
      ]
    },
    {
      "cell_type": "markdown",
      "metadata": {
        "id": "C3PxtCobuH_e"
      },
      "source": [
        "Wrap that in a function, recording the membrane potential and spike response over time:"
      ]
    },
    {
      "cell_type": "code",
      "execution_count": 53,
      "metadata": {
        "id": "ykdnD3tRuHcs"
      },
      "outputs": [],
      "source": [
        "def forward_pass(net, num_steps, data):\n",
        "  mem_rec = []\n",
        "  spk_rec = []\n",
        "  utils.reset(net)  # resets hidden states for all LIF neurons in net\n",
        "\n",
        "  for step in range(num_steps):\n",
        "      spk_out, mem_out = net(data)\n",
        "      spk_rec.append(spk_out)\n",
        "      mem_rec.append(mem_out)\n",
        "\n",
        "  return torch.stack(spk_rec), torch.stack(mem_rec)"
      ]
    },
    {
      "cell_type": "code",
      "execution_count": 54,
      "metadata": {
        "id": "unJrx3pXcXii"
      },
      "outputs": [],
      "source": [
        "spk_rec, mem_rec = forward_pass(net, num_steps, data)"
      ]
    },
    {
      "cell_type": "markdown",
      "metadata": {
        "id": "zqJdfllYbc16"
      },
      "source": [
        "# 3. Training Loop"
      ]
    },
    {
      "cell_type": "markdown",
      "metadata": {
        "id": "x-kquOWLY1Jo"
      },
      "source": [
        "## 3.1 Loss Using snn.Functional"
      ]
    },
    {
      "cell_type": "markdown",
      "metadata": {
        "id": "MlA56BgOYq1D"
      },
      "source": [
        "In the previous tutorial, the Cross Entropy Loss between the membrane potential of the output neurons and the target was used to train the network.\n",
        "This time, the total number of spikes from each neuron will be used to calculate the Cross Entropy instead.\n",
        "\n",
        "A variety of loss functions are included in the `snn.functional` module, which is analogous to `torch.nn.functional` in PyTorch.\n",
        "These implement a mix of cross entropy and mean square error losses, are applied to spikes and/or membrane potential, to train a rate or latency-coded network.\n",
        "\n",
        "The approach below applies the cross entropy loss to the output spike count in order train a rate-coded network:"
      ]
    },
    {
      "cell_type": "code",
      "execution_count": 55,
      "metadata": {
        "id": "UZ2BM6d6a11l"
      },
      "outputs": [],
      "source": [
        "# already imported snntorch.functional as SF\n",
        "loss_fn = SF.ce_rate_loss()"
      ]
    },
    {
      "cell_type": "markdown",
      "metadata": {
        "id": "q39HCIeOa4fC"
      },
      "source": [
        "The recordings of the spike are passed as the first argument to `loss_fn`, and the target neuron index as the second argument to generate a loss. [The documentation provides further information and exmaples.](https://snntorch.readthedocs.io/en/latest/snntorch.functional.html#snntorch.functional.ce_rate_loss)"
      ]
    },
    {
      "cell_type": "code",
      "execution_count": 56,
      "metadata": {
        "id": "xEVzMvujcjsE",
        "outputId": "9e155740-7b3e-44a6-b3e9-9ef98a7aacd6",
        "colab": {
          "base_uri": "https://localhost:8080/"
        }
      },
      "outputs": [
        {
          "output_type": "stream",
          "name": "stdout",
          "text": [
            "The loss from an untrained network is 2.303\n"
          ]
        }
      ],
      "source": [
        "loss_val = loss_fn(spk_rec, targets)\n",
        "\n",
        "print(f\"The loss from an untrained network is {loss_val.item():.3f}\")"
      ]
    },
    {
      "cell_type": "markdown",
      "metadata": {
        "id": "HS_zeb5mbqjw"
      },
      "source": [
        "## 3.2 Accuracy Using snn.Functional\n",
        "The `SF.accuracy_rate()` function works similarly, in that the predicted output spikes and actual targets are supplied as arguments. `accuracy_rate` assumes a rate code is used to interpret the output by checking if the index of the neuron with the highest spike count matches the target index."
      ]
    },
    {
      "cell_type": "code",
      "execution_count": 57,
      "metadata": {
        "id": "yq7_rly0c9b4",
        "outputId": "0ac9dde4-8d72-48f5-86b6-9c9416027ff1",
        "colab": {
          "base_uri": "https://localhost:8080/"
        }
      },
      "outputs": [
        {
          "output_type": "stream",
          "name": "stdout",
          "text": [
            "The accuracy of a single batch using an untrained network is 10.938%\n"
          ]
        }
      ],
      "source": [
        "acc = SF.accuracy_rate(spk_rec, targets)\n",
        "\n",
        "print(f\"The accuracy of a single batch using an untrained network is {acc*100:.3f}%\")"
      ]
    },
    {
      "cell_type": "markdown",
      "metadata": {
        "id": "r4Z6bnqCdL50"
      },
      "source": [
        "As the above function only returns the accuracy of a single batch of data, the following function returns the accuracy on the entire DataLoader object:"
      ]
    },
    {
      "cell_type": "code",
      "execution_count": 58,
      "metadata": {
        "id": "IqxDKFvrdXuF"
      },
      "outputs": [],
      "source": [
        "def batch_accuracy(train_loader, net, num_steps):\n",
        "  with torch.no_grad():\n",
        "    total = 0\n",
        "    acc = 0\n",
        "    net.eval()\n",
        "\n",
        "    train_loader = iter(train_loader)\n",
        "    for data, targets in train_loader:\n",
        "      data = data.to(device)\n",
        "      targets = targets.to(device)\n",
        "      spk_rec, _ = forward_pass(net, num_steps, data)\n",
        "\n",
        "      acc += SF.accuracy_rate(spk_rec, targets) * spk_rec.size(1)\n",
        "      total += spk_rec.size(1)\n",
        "\n",
        "  return acc/total"
      ]
    },
    {
      "cell_type": "code",
      "execution_count": 59,
      "metadata": {
        "id": "_u43hKAvefWM",
        "outputId": "c586927a-fa4d-41cf-c995-fa8bab0a9aa1",
        "colab": {
          "base_uri": "https://localhost:8080/"
        }
      },
      "outputs": [
        {
          "output_type": "stream",
          "name": "stdout",
          "text": [
            "The total accuracy on the test set is: 9.80%\n"
          ]
        }
      ],
      "source": [
        "test_acc = batch_accuracy(test_loader, net, num_steps)\n",
        "\n",
        "print(f\"The total accuracy on the test set is: {test_acc * 100:.2f}%\")"
      ]
    },
    {
      "cell_type": "markdown",
      "metadata": {
        "id": "F1pzWXlsYoIu"
      },
      "source": [
        "## 3.3 Training Loop"
      ]
    },
    {
      "cell_type": "markdown",
      "metadata": {
        "id": "KAUDYl3gf0G-"
      },
      "source": [
        "The following training loop is qualitatively similar to the previous tutorial."
      ]
    },
    {
      "cell_type": "code",
      "execution_count": null,
      "metadata": {
        "id": "y_VQ9es-gSO3",
        "outputId": "a7a2255f-5470-45cd-9c39-91d0fc17df0d",
        "colab": {
          "base_uri": "https://localhost:8080/"
        }
      },
      "outputs": [
        {
          "output_type": "stream",
          "name": "stdout",
          "text": [
            "Iteration 0, Test Acc: 9.82%\n",
            "\n",
            "Iteration 50, Test Acc: 71.64%\n",
            "\n",
            "Iteration 100, Test Acc: 64.06%\n",
            "\n",
            "Iteration 150, Test Acc: 79.47%\n",
            "\n",
            "Iteration 200, Test Acc: 72.13%\n",
            "\n",
            "Iteration 250, Test Acc: 81.23%\n",
            "\n",
            "Iteration 300, Test Acc: 76.54%\n",
            "\n",
            "Iteration 350, Test Acc: 66.86%\n",
            "\n",
            "Iteration 400, Test Acc: 82.82%\n",
            "\n",
            "Iteration 450, Test Acc: 58.98%\n",
            "\n",
            "Iteration 500, Test Acc: 71.08%\n",
            "\n",
            "Iteration 550, Test Acc: 73.77%\n",
            "\n",
            "Iteration 600, Test Acc: 69.10%\n",
            "\n",
            "Iteration 650, Test Acc: 82.98%\n",
            "\n"
          ]
        }
      ],
      "source": [
        "optimizer = torch.optim.Adam(net.parameters(), lr=1e-2, betas=(0.9, 0.999))\n",
        "num_epochs = 10\n",
        "loss_hist = []\n",
        "test_acc_hist = []\n",
        "counter = 0\n",
        "\n",
        "# Outer training loop\n",
        "for epoch in range(num_epochs):\n",
        "\n",
        "    # Training loop\n",
        "    for data, targets in iter(train_loader):\n",
        "        data = data.to(device)\n",
        "        targets = targets.to(device)\n",
        "\n",
        "        # forward pass\n",
        "        net.train()\n",
        "        spk_rec, _ = forward_pass(net, num_steps, data)\n",
        "\n",
        "        # initialize the loss & sum over time\n",
        "        loss_val = loss_fn(spk_rec, targets)\n",
        "\n",
        "        # Gradient calculation + weight update\n",
        "        optimizer.zero_grad()\n",
        "        loss_val.backward()\n",
        "        optimizer.step()\n",
        "\n",
        "        # Store loss history for future plotting\n",
        "        loss_hist.append(loss_val.item())\n",
        "\n",
        "        # Test set\n",
        "        if counter % 50 == 0:\n",
        "          with torch.no_grad():\n",
        "              net.eval()\n",
        "\n",
        "              # Test set forward pass\n",
        "              test_acc = batch_accuracy(test_loader, net, num_steps)\n",
        "              print(f\"Iteration {counter}, Test Acc: {test_acc * 100:.2f}%\\n\")\n",
        "              test_acc_hist.append(test_acc.item())\n",
        "\n",
        "        counter += 1"
      ]
    },
    {
      "cell_type": "code",
      "source": [
        "params = net.state_dict()\n",
        "for name, param in params.items():\n",
        "    print(f\"{name}: {param.shape}\")"
      ],
      "metadata": {
        "id": "BMn6zMjVjEvH",
        "outputId": "db8c18bb-b524-40da-9ce5-b10a519bf08e",
        "colab": {
          "base_uri": "https://localhost:8080/"
        }
      },
      "execution_count": 22,
      "outputs": [
        {
          "output_type": "stream",
          "name": "stdout",
          "text": [
            "0.weight: torch.Size([12, 1, 5, 5])\n",
            "0.bias: torch.Size([12])\n",
            "2.threshold: torch.Size([])\n",
            "2.graded_spikes_factor: torch.Size([])\n",
            "2.reset_mechanism_val: torch.Size([])\n",
            "2.beta: torch.Size([])\n",
            "3.weight: torch.Size([64, 12, 5, 5])\n",
            "3.bias: torch.Size([64])\n",
            "5.threshold: torch.Size([])\n",
            "5.graded_spikes_factor: torch.Size([])\n",
            "5.reset_mechanism_val: torch.Size([])\n",
            "5.beta: torch.Size([])\n",
            "7.weight: torch.Size([10, 1024])\n",
            "7.bias: torch.Size([10])\n",
            "8.threshold: torch.Size([])\n",
            "8.graded_spikes_factor: torch.Size([])\n",
            "8.reset_mechanism_val: torch.Size([])\n",
            "8.beta: torch.Size([])\n"
          ]
        }
      ]
    },
    {
      "cell_type": "code",
      "source": [
        "weights_layer1 = net[0].weight.detach().cpu().numpy()\n",
        "weights_layer2 = net[3].weight.detach().cpu().numpy()\n",
        "weights_layer3 = net[7].weight.detach().cpu().numpy()\n",
        "\n",
        "with open(\"weights.txt\", \"w\") as f:\n",
        "    f.write(\"float weights_layer1[12][1][5][5] = {\\n\")\n",
        "    for i in range(12):\n",
        "        f.write(\"  {\\n\")\n",
        "        f.write(\"    {\\n\")\n",
        "        for j in range(5):\n",
        "            f.write(\"      {\")\n",
        "            for k in range(5):\n",
        "                f.write(\" {:.6f}\".format(weights_layer1[i, 0, j, k]))\n",
        "                if k < 4:\n",
        "                    f.write(\",\")\n",
        "            f.write(\"}\")\n",
        "            if j < 4:\n",
        "                f.write(\",\")\n",
        "            f.write(\"\\n\")\n",
        "        f.write(\"    }\\n\")\n",
        "        if i < 11:\n",
        "            f.write(\"  },\\n\")\n",
        "        else:\n",
        "            f.write(\"  }\\n\")\n",
        "    f.write(\"};\\n\")\n",
        "\n",
        "    f.write(\"float weights_layer2[64][12][5][5] = {\\n\")\n",
        "    for i in range(64):\n",
        "        f.write(\"  {\\n\")\n",
        "        for j in range(12):\n",
        "            f.write(\"    {\\n\")\n",
        "            for k in range(5):\n",
        "                f.write(\"      {\")\n",
        "                for l in range(5):\n",
        "                    f.write(\" {:.6f}\".format(weights_layer2[i, j, k, l]))\n",
        "                    if l < 4:\n",
        "                        f.write(\",\")\n",
        "                f.write(\"}\")\n",
        "                if k < 4:\n",
        "                    f.write(\",\")\n",
        "                f.write(\"\\n\")\n",
        "            f.write(\"    }\\n\")\n",
        "        if i < 63:\n",
        "            f.write(\"  },\\n\")\n",
        "        else:\n",
        "            f.write(\"  }\\n\")\n",
        "    f.write(\"};\\n\")\n",
        "\n",
        "    f.write(\"float weights_layer3[10][1024] = {\\n\")\n",
        "    for i in range(10):\n",
        "        f.write(\"  {\")\n",
        "        for j in range(1024):\n",
        "            f.write(\" {:.6f}\".format(weights_layer3[i, j]))\n",
        "            if j < 1023:\n",
        "                f.write(\",\")\n",
        "        if i < 9:\n",
        "            f.write(\"},\\n\")\n",
        "        else:\n",
        "            f.write(\"}\\n\")\n",
        "    f.write(\"};\")\n"
      ],
      "metadata": {
        "id": "MSkGUGmkeaEZ"
      },
      "execution_count": 33,
      "outputs": []
    },
    {
      "cell_type": "code",
      "source": [
        "bias_terms = [param for name, param in net.named_parameters() if \"bias\" in name]\n",
        "for bias in bias_terms:\n",
        "    print(bias)"
      ],
      "metadata": {
        "id": "hDZsBaxfjPDp",
        "outputId": "1251c205-5c37-44a2-8cef-f0a37d3740da",
        "colab": {
          "base_uri": "https://localhost:8080/"
        }
      },
      "execution_count": 54,
      "outputs": [
        {
          "output_type": "stream",
          "name": "stdout",
          "text": [
            "Parameter containing:\n",
            "tensor([0., 0., 0., 0., 0., 0., 0., 0., 0., 0., 0., 0.], device='cuda:0')\n",
            "Parameter containing:\n",
            "tensor([0., 0., 0., 0., 0., 0., 0., 0., 0., 0., 0., 0., 0., 0., 0., 0., 0., 0., 0., 0., 0., 0., 0., 0.,\n",
            "        0., 0., 0., 0., 0., 0., 0., 0., 0., 0., 0., 0., 0., 0., 0., 0., 0., 0., 0., 0., 0., 0., 0., 0.,\n",
            "        0., 0., 0., 0., 0., 0., 0., 0., 0., 0., 0., 0., 0., 0., 0., 0.],\n",
            "       device='cuda:0')\n",
            "Parameter containing:\n",
            "tensor([0., 0., 0., 0., 0., 0., 0., 0., 0., 0.], device='cuda:0')\n"
          ]
        }
      ]
    },
    {
      "cell_type": "markdown",
      "metadata": {
        "id": "TjRPDFWxj2eS"
      },
      "source": [
        "Despite having selected some fairly generic values and architectures, the test set accuracy should be fairly competitive given the brief training run!"
      ]
    },
    {
      "cell_type": "markdown",
      "metadata": {
        "collapsed": false,
        "id": "HxU7P7xFpko3",
        "pycharm": {
          "name": "#%% md\n"
        }
      },
      "source": [
        "# 4. Results\n",
        "## 4.1 Plot Test Accuracy"
      ]
    },
    {
      "cell_type": "code",
      "execution_count": 27,
      "metadata": {
        "id": "_Pk_EScnpkpj",
        "pycharm": {
          "name": "#%%\n"
        },
        "outputId": "83258d99-6fc3-4577-d8e7-9f09cf71a02d",
        "colab": {
          "base_uri": "https://localhost:8080/",
          "height": 472
        }
      },
      "outputs": [
        {
          "output_type": "display_data",
          "data": {
            "text/plain": [
              "<Figure size 640x480 with 1 Axes>"
            ],
            "image/png": "[encoded data removed]"
          },
          "metadata": {}
        }
      ],
      "source": [
        "# Plot Loss\n",
        "fig = plt.figure(facecolor=\"w\")\n",
        "plt.plot(test_acc_hist)\n",
        "plt.title(\"Test Set Accuracy\")\n",
        "plt.xlabel(\"Epoch\")\n",
        "plt.ylabel(\"Accuracy\")\n",
        "plt.show()"
      ]
    },
    {
      "cell_type": "markdown",
      "metadata": {
        "id": "nYFamUJLkVY3"
      },
      "source": [
        "## 4.2 Spike Counter"
      ]
    },
    {
      "cell_type": "markdown",
      "metadata": {
        "id": "MDE3ms9ulo-t"
      },
      "source": [
        "Run a forward pass on a batch of data to obtain spike and membrane readings."
      ]
    },
    {
      "cell_type": "code",
      "execution_count": 28,
      "metadata": {
        "id": "dqIjaw1kk4-6"
      },
      "outputs": [],
      "source": [
        "spk_rec, mem_rec = forward_pass(net, num_steps, data)"
      ]
    },
    {
      "cell_type": "markdown",
      "metadata": {
        "id": "n4QiJx2HlkMH"
      },
      "source": [
        "Changing `idx` allows you to index into various samples from the simulated minibatch. Use `splt.spike_count` to explore the spiking behaviour of a few different samples!\n",
        "\n",
        "> Note: if you are running the notebook locally on your desktop, please uncomment the line below and modify the path to your ffmpeg.exe\n",
        "\n"
      ]
    },
    {
      "cell_type": "code",
      "execution_count": 34,
      "metadata": {
        "id": "4HcwxfC6kfy0",
        "outputId": "43ce056a-b4a5-41f7-a8eb-fced87e24302",
        "colab": {
          "base_uri": "https://localhost:8080/",
          "height": 1000
        }
      },
      "outputs": [
        {
          "output_type": "stream",
          "name": "stdout",
          "text": [
            "The target label is: 4\n",
            "tensor([[0., 0., 0., 0., 1., 0., 0., 0., 0., 0.]], device='cuda:0',\n",
            "       grad_fn=<SelectBackward0>)\n"
          ]
        },
        {
          "output_type": "execute_result",
          "data": {
            "text/plain": [
              "<IPython.core.display.HTML object>"
            ],
            "text/html": [
              "<video width=\"1200\" height=\"700\" controls autoplay loop>\n",
              "  <source type=\"video/mp4\" src=\"data:video/mp4;base64,AAAAIGZ0eXBNNFYgAAACAE00ViBpc29taXNvMmF2YzEAAAAIZnJlZQAAE8xtZGF0AAACrgYF//+q\n",
              "3EXpvebZSLeWLNgg2SPu73gyNjQgLSBjb3JlIDE2MyByMzA2MCA1ZGI2YWE2IC0gSC4yNjQvTVBF\n",
              "Ry00IEFWQyBjb2RlYyAtIENvcHlsZWZ0IDIwMDMtMjAyMSAtIGh0dHA6Ly93d3cudmlkZW9sYW4u\n",
              "b3JnL3gyNjQuaHRtbCAtIG9wdGlvbnM6IGNhYmFjPTEgcmVmPTMgZGVibG9jaz0xOjA6MCBhbmFs\n",
              "eXNlPTB4MzoweDExMyBtZT1oZXggc3VibWU9NyBwc3k9MSBwc3lfcmQ9MS4wMDowLjAwIG1peGVk\n",
              "X3JlZj0xIG1lX3JhbmdlPTE2IGNocm9tYV9tZT0xIHRyZWxsaXM9MSA4eDhkY3Q9MSBjcW09MCBk\n",
              "ZWFkem9uZT0yMSwxMSBmYXN0X3Bza2lwPTEgY2hyb21hX3FwX29mZnNldD0tMiB0aHJlYWRzPTMg\n",
              "bG9va2FoZWFkX3RocmVhZHM9MSBzbGljZWRfdGhyZWFkcz0wIG5yPTAgZGVjaW1hdGU9MSBpbnRl\n",
              "cmxhY2VkPTAgYmx1cmF5X2NvbXBhdD0wIGNvbnN0cmFpbmVkX2ludHJhPTAgYmZyYW1lcz0zIGJf\n",
              "cHlyYW1pZD0yIGJfYWRhcHQ9MSBiX2JpYXM9MCBkaXJlY3Q9MSB3ZWlnaHRiPTEgb3Blbl9nb3A9\n",
              "MCB3ZWlnaHRwPTIga2V5aW50PTI1MCBrZXlpbnRfbWluPTI1IHNjZW5lY3V0PTQwIGludHJhX3Jl\n",
              "ZnJlc2g9MCByY19sb29rYWhlYWQ9NDAgcmM9Y3JmIG1idHJlZT0xIGNyZj0yMy4wIHFjb21wPTAu\n",
              "NjAgcXBtaW49MCBxcG1heD02OSBxcHN0ZXA9NCBpcF9yYXRpbz0xLjQwIGFxPTE6MS4wMACAAAAN\n",
              "hmWIhAAr//72c3wKa0czlS4Fdvdmo+XQkuX7EGD60AAAAwAAAwAAAwAAAwMYj5DFjX6ZJXUAAAMA\n",
              "AAMBKAACTgAKGAA3gEph3HwYABdE/wTTheUZb7ytET5/o3bS5rLSeeh/mIFMzLteXCCsmpXT2+Qj\n",
              "vvqh1W7T6SoELVAFM+7o+tIvIYfuz+W4NH5ckX+hU1mVy1LwAIEkUzhhR+FFginYmT8tBrgN697b\n",
              "a5kypkwTqbs+UfbFHyf0v6y4AlZ7+HoAIw0aMoLDzmMker7njbYQIH5Zc4Lj584tZdoc+/8ObpAm\n",
              "N50uIwWRxgk8wE1SjgBYynyAZUJQ1fc8PZqpR+SPNbkAx60nV+VTX6hASLlwG1My9dGe4ohfkhF3\n",
              "ko6TxSCrjL8A/bCQAHGwgBJYIHkcxWJ75j7y/gJDMVYVdggQriI4jrHO4JcVI+iFSTJTxKqVZaAA\n",
              "X+VvZotfPYO8H7Vimc9+WIcuSo74CwHehnOQ0Br+wpsjCGADgL2Rg1tkl9BADZ3TW4iKmDCye13C\n",
              "P24Nu99sOYRgaql644Au4Krkn/tKh/AWgKhuEFjsslz4Eow8F4TZdtygvRzJj4ABGM9MAAUSgAXP\n",
              "6zEiL+xnzYcuoz/Qs1KS0ivxCIHYtp9K9Ce5wdxFPuUbm8+Cb4xSbS3MYzamPBE9GaGlt5qpM2lT\n",
              "p8s2S87mdGYe8dAQnoKZn6RRdOAnnu3aW3z8cXO2KVZr7WAAM9P5Pc6FpktUsVc6ZbYc+mNyAAB5\n",
              "EACw+ieNGYtVFbFPQ8BJyE1QvjD2D2beu9lvvlVIRgyp6DVMEVxSv1UDcvJ0tgiktctMCNHzcaZY\n",
              "IEqgALWE2K0CyXNGxebOzWaDnWsEkg3GE/eLMz1ATbsVOACZN5GlTH3x8ucimigYltu5uwJVyhQk\n",
              "xVKSVmF4f6KYDkfslTc6LRkoT6bWAAXf+0AFQa9okv9tQxYlwLIACQi7ylUcSoHff+pcvJ/Gld7V\n",
              "X+d0gbDyHt5Wr8Qu+CvMcmqT3WmVLff4r6LEBZQk3tg1EgnaYJ/CFtns+/yFzJX7PHQffl+1Zuhx\n",
              "o8xLvhk3+BjrdB90QpLIL+nY5gQHAKa0DQ6pTfuNPRX7WXkVipSHSCFS/I36/vvowXpf0WmFVA7l\n",
              "bqlCW1E08JC0Ble16FPM7hke25Z9OkTWtXETT15AI3e8MvWhBnWqNMJ5BgKxfqUxsYAAHL7WF1nX\n",
              "+fAxFiFe2tqDyUYbFyZcPUZN3j37gnCPkL7GP9Slu9Ig17OzH0Fs12ySB6Iu7EYkMGy0RGQLZ1gh\n",
              "Mb5KqjgLrQL/qRP4j1eEcLwc6keODewxtyz40l/dcd6BNsoAAaG6njzIoiDLUmSM1wjyuulcI4sO\n",
              "sv0Y/1UgDrbuYuSvjSLdkP/FEdTxjF07Ey+bwtHWXjo/uHbKvuM/1Bwq5E1KAoN6nYQYN61s/phA\n",
              "nuEJpPmAop2jVmBjKm+Umcv1lAAAFQP7lWhkhz5t4pu5aSYMxjtBKFkbWFizki/w6hJDDmPGRnVh\n",
              "FomqUeNV1sNa4PeMTRQWjw3p7JCRwVlEsg/x6eZZQY+Mi2lvVP/YNNw4ACF12M/i8rDxGDBS5lSY\n",
              "2oMc/lY84xnT12mVx5tIVn79IOoKwwgm1weLGGSgOZxieoUVwFAyyNtLnJLf4ckshJdGWByo9+bg\n",
              "rtQzhl8Bo2EC5UmAAa4H6fAaiB/MkM/t/pAu3tiEWGQk+Xydb1zzwX9vDgcH2e9/OGNSjJEdhVe+\n",
              "t4tpb4XaHhWRR61tLwjTpQVY/9LzAANHh1oAD670RHnkY2GhM03I/zv99CWUDMzKKnwLZfQkVQ7N\n",
              "Xap7ADItvIACJDD8pPBZm9vS23pZEhTRaig7xvvfjPXPgD4d+AScWv4fJR2Qdh3kRhJwLytLGWBS\n",
              "/I3XurwbMbAcNMHybrSn81IZ9GFaOe+80yIN7NebO46XNelO+57cEAAEu8k79JGzAABbhABo7D7Z\n",
              "pBzwRyMX3kXDE3EGKDXOZZlLTDBYsj8E5X42yZSOVNG//JeugGzmE4pRJxagirQrfBkzRCBGdBgw\n",
              "9N0j4obx9Zc/BII+hXheZRFPd30lO6a8lMhYM6Sh1UMqU6MgAHlVLEAjqATVzl+Yz1emPFC/Aziy\n",
              "fBPqCt2Lcp/WY7KJRFlNNWtdK5gARxLYAEvN17xnL/i9fBq7seXbt6y7ssAAeGz+AkXYTfNilW83\n",
              "mRb7YaCww+J3QoAEnE8nUzLAqpAuqrec8L5wG8zQeAAuQbMHW/6cP00YffgLZA7+8tHc5NZGix8H\n",
              "7X5OO3Ed6ezHhYpAVgACjoAAIYAAsfDcFCFeWbA4+/DVFLgk+8IRC+nS/EX+1891jJjkeNdyZ+b+\n",
              "/6dWSeOgKIl3e7QOjyYBY8YhkAUWnGR5VpK3gbkgCZGMQ1K+36JLDha/T/Tu7cJf9t3KhhAoPlnz\n",
              "D/OQhWfGBeVglCliwMkgXLwIJhyLuBQ5UgAFJNiWN/9Q/re2mxFjzwcoQ584GWtTj9csAQ4oE3HB\n",
              "N+qOWBdv15CiEuJVPntCYOD4tm2Cr/4AAkmMAtjeiTJnoAgB7UAAQyI50lTVuFRLV4DLXmJi1SNv\n",
              "9PshioDZWzy6szqB2UEAAGhFzAf8meZ5Cy7zbOm+dNYHB4jsR5zjkh/8A8sB2WP5YUmdQRHhTKX7\n",
              "ba8M8DG66gGKCoJjRIJgyAguxRTPwbGgVQsc8FLF5v0A4KOGcn7RXRGkGomRZoJNGFQPV02vxkyb\n",
              "kB5AclGgKJoEKrzs7hcki8rGrWdMLPgW8TYy7150Xexp40DlaW5/8iZPCJoedFi7Vi3rCAIAT2Ue\n",
              "wdNO3Tyry7sbmFx3LS8RUkFaFzHraKO6SeHtyTpHaxNL6al5E47vvDtGzKiuHwHCUdVccI/XLQkr\n",
              "2CS2ZOwQWM09EKf2qPoZG+zRAs+xOpb50RJo6N8km3SuWqrk//0L5ZUI3Uys+y93jgt9aV9D5MIF\n",
              "EjJcXxWbiHLy95CBHA033DZPMKDdozdDb013+SnIAZpcFSVuhaKl/e+bWHmpuowtmpslKi+DcaG3\n",
              "OPQ36SDg3rWqeHO3Mj/PPqlWQpb+bwB6Su5d/0M23wVFF3l/4FR5iEByUGsVAJxZqJ8GFczvxEcn\n",
              "BKbsNf62FF33zIyWov20ypOTecNl2EG8L6vouj10b9xr2rV3Xql3xht3HOkedkpwqEHLtpJ94pZj\n",
              "J2qU+aHgHfS7aEG//B0t/Hjtc4J28vf4me3XE4UmrI7pMXILVQKvDr85qYpIYQo2nyII7osCIM2F\n",
              "Oa/yywbaRQ4BRlFL5q/+YWDLO87AfdK/rUcpKlwr0g/UaHrO59uSsrBuV0JGGF8hmAnT1ZLbN+94\n",
              "lYBobyWnOLQBnGpUeNsXdaPK1xpqAl2XK8W5k/DbFbNrYmJH4DY8Y18GmeWpeOhSUnlJN3x96bku\n",
              "Oqfretsp62J76YFNYvqtLMRFwhM1dCnsQ1Y6Nae+haDRQeM6jfVWMxdVVkftlbq4b9QCcP4wmFxe\n",
              "LsCgUxw1Vn1ZJlHLC+u8UqABEIz92q+8iGLQKc+0cTeCffforobakquPeDIp0TKEs2MDH4uvZsBj\n",
              "6mURFH87cuffAqTb0i+RdP5XeHtogwADGkXa6Cms/qTI2pKFqGTWEiiwRUGGDTtKHoFZ7mouERaF\n",
              "vOwMYNr8pyCtDB1kjbmfrS/awuvsflkN06MJ1DFzIrCqHcUkYKZTGf58zLF5LF7c1RiPGVfff3l0\n",
              "VBvYuFGSpKGlzRyKJJ2uB0yuzjG00VEO+oVx4qZ/QR6AHBYj05lIPsm4PsP50ANlMpph27kLFiFO\n",
              "tXfFB5L9lglsxNTlPmeBJAw1NxD3sr8auQHx3uI9Ot/yasM4zmnHa5oC2MukKg6a2196wn3Qk4ts\n",
              "QliObW2FlIWohwVctZ3xyAvpsbg3rPI2Gd7OUO9eisVakgIX+3yeG4qWjO90x+FmhoebRVj9wvvN\n",
              "lbRJ5MVQQX3+cokvAeGxoyVLhdriWHQAGAtqAmwQ6eg4MdAulk8mn9811Mrv4PEjd5IR6/BvnVEp\n",
              "CitBS2caEbKPQhqX3KynFbRnKPlNMB/upjpiZQVwVHOsJ5IjSn6hocPA+uUZv3LA6bresXEI7DgF\n",
              "bEuiLaz5ml4PEb2EC0kTRxzrgFCnz0BlJU4eqIVXHfEppntUphh4BEVpQKG6TkMZ9qirfnP7EDeC\n",
              "Yc7YNgw8Zl5LWP983IqrUFy97vgkPTNc4rYeu0LcnSQBl0KselGGX2gArUzNjV0QlUnXgAAZAnr7\n",
              "i0gElaHmZ/ABKa6+HZJSyeTBvNTA5PnYmvTCl+k7HnO8tFk52C6zIcmf0QXraTXe8HKxZoJTt0eB\n",
              "FOuwMvseB5lklfoeza6dvcfaTxSU4H8mxkq15vrnXtWxOphhC17U8WfE71gMC9bAB1QU44myiOcf\n",
              "G8/X1/QCo7blt1cpo8EE7vIfhJy0gtCyTf9RRwsOEwwz8xM4K6ZZwOY4YvdUnyiHay9D0x/fUdgp\n",
              "1/WWSyz1wr2+BItw0JN1wj1K1gBpuYlf+QIZeXGJ6s7dYf68RGjSYyqrmCwl9gjxfmo2XfICphZm\n",
              "Cm8xEaKeU7zuNSv4akVcnPwnKoTPJEdJm9dYicAT80IHx6NUrESPhAAJCQAAAgdBmiFsQr/+OEAA\n",
              "AYcopAgButd/6/qxH4VsL+7qZGOu+9rjCv7vFs+FHDe8JrSgumXcPJVQnMRZ6XmVd2/+xsT261Bo\n",
              "ZtxPwxxo6EXNPjrtYW8PUs2kHLt6Q+b7Qru1MyM04cY27zD7NHgQQIp81FfnYgHLgOTAtxh0ti0L\n",
              "ihQ8gA8qlrYYTLd2J0y2AYtYh4OgKWVXpT0DpaETM7GNpqbs1yVPPG0bYvZIaWalWMncDSEvGZ/B\n",
              "MSAoDVA4bLRQMxw8yRwKl5YQnxMNGtSgYm577sAVfcHnDwnrUAUWowYWUkIPhbdUAzWrWuUJIeEs\n",
              "gLrfl0V9jQXS12Pq/Km5FGEYWlRuSHO8RxikliHUHFb8YIwqp6FaNzzHfxLrZeN6sIfFvOUfBagw\n",
              "dc6keFGF35SX21kDrTKeGjrvuzp46UQUviSaRdvYT340/e9B9zTTNdoTqaXo3ukCs/9eSiRpV701\n",
              "fUtHtTr4pxaNYednfmmX3ILLzVF2dmDAsEAt4lH0a96Dlkg0IE2mV59FOlDgCBCQQiMqCHXh5q9V\n",
              "xoM7tIvHRQbaWy+cWY69j6XAg1jgiDVnJWGTdRxn1OiXNpOmErKnw583K1WVqVyp8SsVB6CZzzjc\n",
              "LCfwz0ioBcfrwnl+nFbf4sXctez+9/sOGnJT2Il/EI63sqHMfnKy9+V3G6/zm95bpnbkExAAAAC4\n",
              "QZpCPCGTKYQn//3xAAADAp/IaRaem8C/ewF2cEAH82b0Jw1i/nu9J6FcLzswRN/xcKiecqv43EKX\n",
              "jC6vydxrZ5PsMrKNXIekxJJX6NZnpgi4/AngZliN47ZL6kHA3DNskzHpO89Zscto/zJZwRw8lYMX\n",
              "Hnracel+oepaP1QGSVhVsF8tb86fMNIBw3UL8cyk40ESfIEstr07LyHFlsHb/H/R1mao9hP41sGR\n",
              "i3tg7ogFt9IUigAb0QAAAL1BmmNJ4Q8mUwIR//3hAAADAtnrZlFS9wmudsALZprqI0R2Qs9xINeX\n",
              "8qiQdgFKmbDVCB4k9CrcxetAiNrFzTOyqWELilrraUyjADsy8eHA0CgvcRqxS0Ke4j9OJv8rdZ5g\n",
              "SI5CWYMpTE8LC7c2hkjcElcBHWrCln9LY6G7XvyReOoZIS4xKC2LXrRpU9tuyeTrtMoolwu8LjoG\n",
              "d+J90b9uMEfJ91dpvLD1/QAU8PoibpkAzXrDdsjIWmJAAYEAAANLbW9vdgAAAGxtdmhkAAAAAAAA\n",
              "AAAAAAAAAAAD6AAAAGQAAQAAAQAAAAAAAAAAAAAAAAEAAAAAAAAAAAAAAAAAAAABAAAAAAAAAAAA\n",
              "AAAAAABAAAAAAAAAAAAAAAAAAAAAAAAAAAAAAAAAAAAAAAAAAgAAAnV0cmFrAAAAXHRraGQAAAAD\n",
              "AAAAAAAAAAAAAAABAAAAAAAAAGQAAAAAAAAAAAAAAAAAAAAAAAEAAAAAAAAAAAAAAAAAAAABAAAA\n",
              "AAAAAAAAAAAAAABAAAAABLAAAAK8AAAAAAAkZWR0cwAAABxlbHN0AAAAAAAAAAEAAABkAAACAAAB\n",
              "AAAAAAHtbWRpYQAAACBtZGhkAAAAAAAAAAAAAAAAAAAoAAAABABVxAAAAAAALWhkbHIAAAAAAAAA\n",
              "AHZpZGUAAAAAAAAAAAAAAABWaWRlb0hhbmRsZXIAAAABmG1pbmYAAAAUdm1oZAAAAAEAAAAAAAAA\n",
              "AAAAACRkaW5mAAAAHGRyZWYAAAAAAAAAAQAAAAx1cmwgAAAAAQAAAVhzdGJsAAAAuHN0c2QAAAAA\n",
              "AAAAAQAAAKhhdmMxAAAAAAAAAAEAAAAAAAAAAAAAAAAAAAAABLACvABIAAAASAAAAAAAAAABAAAA\n",
              "AAAAAAAAAAAAAAAAAAAAAAAAAAAAAAAAAAAAAAAAGP//AAAANmF2Y0MBZAAg/+EAGWdkACCs2UBL\n",
              "BZ+4QAAAAwBAAAAUA8YMZYABAAZo6+PLIsD9+PgAAAAAHHV1aWRraEDyXyRPxbo5pRvPAyPzAAAA\n",
              "AAAAABhzdHRzAAAAAAAAAAEAAAAEAAABAAAAABRzdHNzAAAAAAAAAAEAAAABAAAAGGN0dHMAAAAA\n",
              "AAAAAQAAAAQAAAIAAAAAHHN0c2MAAAAAAAAAAQAAAAEAAAAEAAAAAQAAACRzdHN6AAAAAAAAAAAA\n",
              "AAAEAAAQPAAAAgsAAAC8AAAAwQAAABRzdGNvAAAAAAAAAAEAAAAwAAAAYnVkdGEAAABabWV0YQAA\n",
              "AAAAAAAhaGRscgAAAAAAAAAAbWRpcmFwcGwAAAAAAAAAAAAAAAAtaWxzdAAAACWpdG9vAAAAHWRh\n",
              "dGEAAAABAAAAAExhdmY1OC43Ni4xMDA=\n",
              "\">\n",
              "  Your browser does not support the video tag.\n",
              "</video>"
            ]
          },
          "metadata": {},
          "execution_count": 34
        },
        {
          "output_type": "display_data",
          "data": {
            "text/plain": [
              "<Figure size 1200x700 with 1 Axes>"
            ],
            "image/png": "[encoded data removed]"
          },
          "metadata": {}
        }
      ],
      "source": [
        "from IPython.display import HTML\n",
        "\n",
        "idx = 2\n",
        "\n",
        "fig, ax = plt.subplots(facecolor='w', figsize=(12, 7))\n",
        "labels=['0', '1', '2', '3', '4', '5', '6', '7', '8','9']\n",
        "print(f\"The target label is: {targets[idx]}\")\n",
        "\n",
        "# plt.rcParams['animation.ffmpeg_path'] = 'C:\\\\path\\\\to\\\\your\\\\ffmpeg.exe'\n",
        "\n",
        "#  Plot spike count histogram\n",
        "anim = splt.spike_count(spk_rec[:, idx].detach().cpu(), fig, ax, labels=labels,\n",
        "                        animate=True, interpolate=4)\n",
        "\n",
        "print(spk_rec[:,idx])\n",
        "HTML(anim.to_html5_video())\n",
        "# anim.save(\"spike_bar.mp4\")"
      ]
    },
    {
      "cell_type": "markdown",
      "metadata": {
        "id": "s0dAgWUt2o6E"
      },
      "source": [
        "# Conclusion\n",
        "You should now have a grasp of the basic features of snnTorch and be able to start running your own experiments. [In the next tutorial](https://snntorch.readthedocs.io/en/latest/tutorials/index.html), we will train a network using a neuromorphic dataset.\n",
        "\n",
        "A special thanks to [Gianfrancesco Angelini](https://github.com/gianfa) for providing valuable feedback on the tutorial.\n",
        "\n",
        "If you like this project, please consider starring ⭐ the repo on GitHub as it is the easiest and best way to support it."
      ]
    },
    {
      "cell_type": "markdown",
      "metadata": {
        "id": "q8eFeW-yeGci"
      },
      "source": [
        "# Additional Resources\n",
        "* [Check out the snnTorch GitHub project here.](https://github.com/jeshraghian/snntorch)"
      ]
    }
  ],
  "metadata": {
    "accelerator": "GPU",
    "colab": {
      "name": "snntorch_tutorial_6.ipynb",
      "provenance": [],
      "include_colab_link": true
    },
    "kernelspec": {
      "display_name": "Python 3",
      "language": "python",
      "name": "python3"
    },
    "language_info": {
      "codemirror_mode": {
        "name": "ipython",
        "version": 3
      },
      "file_extension": ".py",
      "mimetype": "text/x-python",
      "name": "python",
      "nbconvert_exporter": "python",
      "pygments_lexer": "ipython2",
      "version": "3.11.1 (v3.11.1:a7a450f84a, Dec  6 2022, 15:24:06) [Clang 13.0.0 (clang-1300.0.29.30)]"
    },
    "vscode": {
      "interpreter": {
        "hash": "aee8b7b246df8f9039afb4144a1f6fd8d2ca17a180786b69acc140d282b71a49"
      }
    }
  },
  "nbformat": 4,
  "nbformat_minor": 0
}