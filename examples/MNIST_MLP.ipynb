{
  "cells": [
    {
      "cell_type": "markdown",
      "metadata": {
        "id": "view-in-github",
        "colab_type": "text"
      },
      "source": [
        "<a href=\"https://colab.research.google.com/github/devgokulbv/8085-ASSEMBLER/blob/main/examples/MNIST_MLP.ipynb\" target=\"_parent\"><img src=\"https://colab.research.google.com/assets/colab-badge.svg\" alt=\"Open In Colab\"/></a>"
      ]
    },
    {
      "cell_type": "markdown",
      "metadata": {
        "collapsed": false,
        "id": "uSGZ6cdmpknm",
        "pycharm": {
          "name": "#%% md\n"
        }
      },
      "source": [
        "[<img src='https://github.com/jeshraghian/snntorch/blob/master/docs/_static/img/snntorch_alpha_w.png?raw=true' width=\"400\">](https://github.com/jeshraghian/snntorch/)\n",
        "\n",
        "# snnTorch - Surrogate Gradient Descent in a Convolutional Spiking Neural Network\n",
        "## Tutorial 6\n",
        "### By Jason K. Eshraghian (www.ncg.ucsc.edu)\n",
        "\n",
        "<a href=\"https://colab.research.google.com/github/jeshraghian/snntorch/blob/master/examples/tutorial_6_CNN.ipynb\">\n",
        "  <img src=\"https://colab.research.google.com/assets/colab-badge.svg\" alt=\"Open In Colab\"/>\n",
        "</a>\n",
        "\n",
        "[<img src='https://github.com/jeshraghian/snntorch/blob/master/docs/_static/img/GitHub-Mark-Light-120px-plus.png?raw=true' width=\"28\">](https://github.com/jeshraghian/snntorch/) [<img src='https://github.com/jeshraghian/snntorch/blob/master/docs/_static/img/GitHub_Logo_White.png?raw=true' width=\"80\">](https://github.com/jeshraghian/snntorch/)"
      ]
    },
    {
      "cell_type": "markdown",
      "metadata": {
        "id": "rugeYYiqsrlc"
      },
      "source": [
        "The snnTorch tutorial series is based on the following paper. If you find these resources or code useful in your work, please consider citing the following source:\n",
        "\n",
        "> <cite> [Jason K. Eshraghian, Max Ward, Emre Neftci, Xinxin Wang, Gregor Lenz, Girish Dwivedi, Mohammed Bennamoun, Doo Seok Jeong, and Wei D. Lu. \"Training Spiking Neural Networks Using Lessons From Deep Learning\". Proceedings of the IEEE, 111(9) September 2023.](https://ieeexplore.ieee.org/abstract/document/10242251) </cite>\n"
      ]
    },
    {
      "cell_type": "markdown",
      "metadata": {
        "id": "Ymi3sqJg28OQ"
      },
      "source": [
        "# Introduction\n",
        "In this tutorial, you will:\n",
        "* Learn how to modify surrogate gradient descent to overcome the dead neuron problem\n",
        "* Construct and train a convolutional spiking neural network\n",
        "* Use a sequential container, `nn.Sequential` to simplify model construction\n",
        "\n",
        "Part of this tutorial was inspired by Friedemann Zenke’s extensive\n",
        "work on SNNs. Check out his repo on surrogate gradients\n",
        "[here](https://github.com/fzenke/spytorch), and a favourite paper\n",
        "of mine: E. O. Neftci, H. Mostafa, F. Zenke, [Surrogate Gradient\n",
        "Learning in Spiking Neural Networks: Bringing the Power of\n",
        "Gradient-based optimization to spiking neural\n",
        "networks.](https://ieeexplore.ieee.org/document/8891809) IEEE\n",
        "Signal Processing Magazine 36, 51–63.\n",
        "\n",
        "At the end of the tutorial, we will train a convolutional spiking neural network (CSNN) using the MNIST dataset to perform image classification. The background theory follows on from [Tutorials 2, 4 and 5](https://snntorch.readthedocs.io/en/latest/tutorials/index.html), so feel free to go back if you need to brush up.\n",
        "\n",
        "If running in Google Colab:\n",
        "* You may connect to GPU by checking `Runtime` > `Change runtime type` > `Hardware accelerator: GPU`\n",
        "* Next, install the latest PyPi distribution of snnTorch by clicking into the following cell and pressing `Shift+Enter`."
      ]
    },
    {
      "cell_type": "code",
      "execution_count": 2,
      "metadata": {
        "id": "5tn_wUlopkon",
        "pycharm": {
          "name": "#%%\n"
        },
        "outputId": "771933f8-5dcd-4810-f6a6-5c4cca0f19cf",
        "colab": {
          "base_uri": "https://localhost:8080/"
        }
      },
      "outputs": [
        {
          "output_type": "stream",
          "name": "stdout",
          "text": [
            "Collecting snntorch\n",
            "  Downloading snntorch-0.9.4-py2.py3-none-any.whl.metadata (15 kB)\n",
            "Downloading snntorch-0.9.4-py2.py3-none-any.whl (125 kB)\n",
            "\u001b[?25l   \u001b[90m━━━━━━━━━━━━━━━━━━━━━━━━━━━━━━━━━━━━━━━━\u001b[0m \u001b[32m0.0/125.6 kB\u001b[0m \u001b[31m?\u001b[0m eta \u001b[36m-:--:--\u001b[0m\r\u001b[2K   \u001b[90m━━━━━━━━━━━━━━━━━━━━━━━━━━━━━━━━━━━━━━━━\u001b[0m \u001b[32m125.6/125.6 kB\u001b[0m \u001b[31m7.1 MB/s\u001b[0m eta \u001b[36m0:00:00\u001b[0m\n",
            "\u001b[?25hInstalling collected packages: snntorch\n",
            "Successfully installed snntorch-0.9.4\n"
          ]
        }
      ],
      "source": [
        "!pip install snntorch"
      ]
    },
    {
      "cell_type": "code",
      "execution_count": 3,
      "metadata": {
        "id": "QXZ6Tuqc9Q-l",
        "outputId": "dfe938a4-5daf-4967-cfe1-30065e26134a",
        "colab": {
          "base_uri": "https://localhost:8080/"
        }
      },
      "outputs": [
        {
          "output_type": "stream",
          "name": "stderr",
          "text": [
            "<ipython-input-3-bd886847109b>:4: DeprecationWarning: The module snntorch.backprop will be deprecated in  a future release. Writing out your own training loop will lead to substantially faster performance.\n",
            "  from snntorch import backprop\n"
          ]
        }
      ],
      "source": [
        "# imports\n",
        "import snntorch as snn\n",
        "from snntorch import surrogate\n",
        "from snntorch import backprop\n",
        "from snntorch import functional as SF\n",
        "from snntorch import utils\n",
        "from snntorch import spikeplot as splt\n",
        "\n",
        "import torch\n",
        "import torch.nn as nn\n",
        "from torch.utils.data import DataLoader\n",
        "from torchvision import datasets, transforms\n",
        "import torch.nn.functional as F\n",
        "\n",
        "import matplotlib.pyplot as plt\n",
        "import numpy as np\n",
        "import itertools"
      ]
    },
    {
      "cell_type": "markdown",
      "metadata": {
        "id": "gt2xMbLY9dVE"
      },
      "source": [
        "# 1. Surrogate Gradient Descent"
      ]
    },
    {
      "cell_type": "markdown",
      "metadata": {
        "id": "zJddJWoa0GT6"
      },
      "source": [
        "[Tutorial 5](https://snntorch.readthedocs.io/en/latest/tutorials/index.html) raised the **dead neuron problem**. This arises because of the non-differentiability of spikes:\n",
        "\n",
        "\n",
        "$$S[t] = \\Theta(U[t] - U_{\\rm thr}) \\tag{1}$$\n",
        "$$\\frac{\\partial S}{\\partial U} = \\delta(U - U_{\\rm thr}) \\in \\{0, \\infty\\} \\tag{2}$$\n",
        "\n",
        "where $\\Theta(\\cdot)$ is the Heaviside step function, and $\\delta(\\cdot)$ is the Dirac-Delta function. We previously overcame this using the gradient of the threshold-shifted *ArcTangent* function on the backward pass instead.\n",
        "\n",
        "Other common smoothing functions include the sigmoid function, or the fast sigmoid function. The sigmoidal functions must also be shifted such that they are centered at the threshold $U_{\\rm thr}$. Defining  the overdrive of the membrane potential as $U_{OD} = U - U_{\\rm thr}$:\n",
        "\n",
        "$$\\tilde{S} = \\frac{U_{OD}}{1+k|U_{OD}|} \\tag{3}$$\n",
        "$$\\frac{\\partial \\tilde{S}}{\\partial U} = \\frac{1}{(k|U_{OD}|+1)^2}\\tag{4}$$\n",
        "\n",
        "where $k$ modulates how smooth the surrogate function is, and is treated as a hyperparameter. As $k$ increases, the approximation converges towards the original derivative in $(2)$:  \n",
        "\n",
        "$$\\frac{\\partial \\tilde{S}}{\\partial U} \\Bigg|_{k \\rightarrow \\infty} = \\delta(U-U_{\\rm thr})$$\n",
        "\n",
        "\n",
        "<center>\n",
        "<img src='https://github.com/jeshraghian/snntorch/blob/master/docs/_static/img/examples/tutorial6/surrogate.png?raw=true' width=\"800\">\n",
        "</center>\n",
        "\n",
        "To summarize:\n",
        "\n",
        "* **Forward Pass**\n",
        "  - Determine $S$ using the shifted Heaviside function in $(1)$\n",
        "  - Store $U$ for later use during the backward pass\n",
        "* **Backward Pass**\n",
        "  - Pass $U$ into $(4)$ to calculate the derivative term\n",
        "\n",
        "In the same way the *ArcTangent* approach was used in [Tutorial 5](https://snntorch.readthedocs.io/en/latest/tutorials/index.html),\n",
        "the gradient of the fast sigmoid function can override the Dirac-Delta function in a Leaky Integrate-and-Fire\n",
        "(LIF) neuron model:"
      ]
    },
    {
      "cell_type": "code",
      "execution_count": 4,
      "metadata": {
        "id": "5lqpuT--bZmJ"
      },
      "outputs": [],
      "source": [
        "# Leaky neuron model, overriding the backward pass with a custom function\n",
        "class LeakySigmoidSurrogate(nn.Module):\n",
        "  def __init__(self, beta, threshold=1.0, k=25):\n",
        "\n",
        "      # Leaky_Surrogate is defined in the previous tutorial and not used here\n",
        "      super(Leaky_Surrogate, self).__init__()\n",
        "\n",
        "      # initialize decay rate beta and threshold\n",
        "      self.beta = beta\n",
        "      self.threshold = threshold\n",
        "      self.surrogate_func = self.FastSigmoid.apply\n",
        "\n",
        "  # the forward function is called each time we call Leaky\n",
        "  def forward(self, input_, mem):\n",
        "    spk = self.surrogate_func((mem-self.threshold))  # call the Heaviside function\n",
        "    reset = (spk - self.threshold).detach()\n",
        "    mem = self.beta * mem + input_ - reset\n",
        "    return spk, mem\n",
        "\n",
        "  # Forward pass: Heaviside function\n",
        "  # Backward pass: Override Dirac Delta with gradient of fast sigmoid\n",
        "  @staticmethod\n",
        "  class FastSigmoid(torch.autograd.Function):\n",
        "    @staticmethod\n",
        "    def forward(ctx, mem, k=25):\n",
        "        ctx.save_for_backward(mem) # store the membrane potential for use in the backward pass\n",
        "        ctx.k = k\n",
        "        out = (mem > 0).float() # Heaviside on the forward pass: Eq(1)\n",
        "        return out\n",
        "\n",
        "    @staticmethod\n",
        "    def backward(ctx, grad_output):\n",
        "        (mem,) = ctx.saved_tensors  # retrieve membrane potential\n",
        "        grad_input = grad_output.clone()\n",
        "        grad = grad_input / (ctx.k * torch.abs(mem) + 1.0) ** 2  # gradient of fast sigmoid on backward pass: Eq(4)\n",
        "        return grad, None"
      ]
    },
    {
      "cell_type": "markdown",
      "metadata": {
        "id": "4aQvFG7ajpzU"
      },
      "source": [
        "Better yet, all of that can be condensed by using the built-in module `snn.surrogate` from snnTorch, where $k$ from $(4)$ is denoted `slope`. The surrogate gradient is passed into `spike_grad` as an argument:"
      ]
    },
    {
      "cell_type": "code",
      "execution_count": 5,
      "metadata": {
        "id": "2dCWD_qajyLw"
      },
      "outputs": [],
      "source": [
        "spike_grad = surrogate.fast_sigmoid(slope=25)\n",
        "beta = 0.5\n",
        "\n",
        "lif1 = snn.Leaky(beta=beta, spike_grad=spike_grad)"
      ]
    },
    {
      "cell_type": "markdown",
      "metadata": {
        "id": "Ffn7D6omkj5r"
      },
      "source": [
        "To explore the other surrogate gradient functions available, [take a look at the documentation here.](https://snntorch.readthedocs.io/en/latest/snntorch.surrogate.html)"
      ]
    },
    {
      "cell_type": "markdown",
      "metadata": {
        "id": "Wgzf83HE2BeB"
      },
      "source": [
        "# 2. Setting up the CSNN\n",
        "## 2.1 DataLoaders"
      ]
    },
    {
      "cell_type": "code",
      "execution_count": 6,
      "metadata": {
        "id": "pxO32dntlOB2"
      },
      "outputs": [],
      "source": [
        "# dataloader arguments\n",
        "batch_size = 128\n",
        "data_path='/tmp/data/mnist'\n",
        "\n",
        "dtype = torch.float\n",
        "device = torch.device(\"cuda\") if torch.cuda.is_available() else torch.device(\"cpu\")"
      ]
    },
    {
      "cell_type": "code",
      "execution_count": 7,
      "metadata": {
        "id": "pE7eGTnulSBA",
        "outputId": "77b0f924-2180-4677-e84a-05805518d844",
        "colab": {
          "base_uri": "https://localhost:8080/"
        }
      },
      "outputs": [
        {
          "output_type": "stream",
          "name": "stdout",
          "text": [
            "Downloading http://yann.lecun.com/exdb/mnist/train-images-idx3-ubyte.gz\n",
            "Failed to download (trying next):\n",
            "HTTP Error 404: Not Found\n",
            "\n",
            "Downloading https://ossci-datasets.s3.amazonaws.com/mnist/train-images-idx3-ubyte.gz\n",
            "Downloading https://ossci-datasets.s3.amazonaws.com/mnist/train-images-idx3-ubyte.gz to /tmp/data/mnist/MNIST/raw/train-images-idx3-ubyte.gz\n"
          ]
        },
        {
          "output_type": "stream",
          "name": "stderr",
          "text": [
            "100%|██████████| 9.91M/9.91M [00:00<00:00, 11.8MB/s]\n"
          ]
        },
        {
          "output_type": "stream",
          "name": "stdout",
          "text": [
            "Extracting /tmp/data/mnist/MNIST/raw/train-images-idx3-ubyte.gz to /tmp/data/mnist/MNIST/raw\n",
            "\n",
            "Downloading http://yann.lecun.com/exdb/mnist/train-labels-idx1-ubyte.gz\n",
            "Failed to download (trying next):\n",
            "HTTP Error 404: Not Found\n",
            "\n",
            "Downloading https://ossci-datasets.s3.amazonaws.com/mnist/train-labels-idx1-ubyte.gz\n",
            "Downloading https://ossci-datasets.s3.amazonaws.com/mnist/train-labels-idx1-ubyte.gz to /tmp/data/mnist/MNIST/raw/train-labels-idx1-ubyte.gz\n"
          ]
        },
        {
          "output_type": "stream",
          "name": "stderr",
          "text": [
            "100%|██████████| 28.9k/28.9k [00:00<00:00, 353kB/s]\n"
          ]
        },
        {
          "output_type": "stream",
          "name": "stdout",
          "text": [
            "Extracting /tmp/data/mnist/MNIST/raw/train-labels-idx1-ubyte.gz to /tmp/data/mnist/MNIST/raw\n",
            "\n",
            "Downloading http://yann.lecun.com/exdb/mnist/t10k-images-idx3-ubyte.gz\n",
            "Failed to download (trying next):\n",
            "HTTP Error 404: Not Found\n",
            "\n",
            "Downloading https://ossci-datasets.s3.amazonaws.com/mnist/t10k-images-idx3-ubyte.gz\n",
            "Downloading https://ossci-datasets.s3.amazonaws.com/mnist/t10k-images-idx3-ubyte.gz to /tmp/data/mnist/MNIST/raw/t10k-images-idx3-ubyte.gz\n"
          ]
        },
        {
          "output_type": "stream",
          "name": "stderr",
          "text": [
            "100%|██████████| 1.65M/1.65M [00:00<00:00, 3.33MB/s]\n"
          ]
        },
        {
          "output_type": "stream",
          "name": "stdout",
          "text": [
            "Extracting /tmp/data/mnist/MNIST/raw/t10k-images-idx3-ubyte.gz to /tmp/data/mnist/MNIST/raw\n",
            "\n",
            "Downloading http://yann.lecun.com/exdb/mnist/t10k-labels-idx1-ubyte.gz\n",
            "Failed to download (trying next):\n",
            "HTTP Error 404: Not Found\n",
            "\n",
            "Downloading https://ossci-datasets.s3.amazonaws.com/mnist/t10k-labels-idx1-ubyte.gz\n",
            "Downloading https://ossci-datasets.s3.amazonaws.com/mnist/t10k-labels-idx1-ubyte.gz to /tmp/data/mnist/MNIST/raw/t10k-labels-idx1-ubyte.gz\n"
          ]
        },
        {
          "output_type": "stream",
          "name": "stderr",
          "text": [
            "100%|██████████| 4.54k/4.54k [00:00<00:00, 7.04MB/s]"
          ]
        },
        {
          "output_type": "stream",
          "name": "stdout",
          "text": [
            "Extracting /tmp/data/mnist/MNIST/raw/t10k-labels-idx1-ubyte.gz to /tmp/data/mnist/MNIST/raw\n",
            "\n"
          ]
        },
        {
          "output_type": "stream",
          "name": "stderr",
          "text": [
            "\n"
          ]
        }
      ],
      "source": [
        "# Define a transform\n",
        "transform = transforms.Compose([\n",
        "            transforms.Resize((28, 28)),\n",
        "            transforms.Grayscale(),\n",
        "            transforms.ToTensor(),\n",
        "            transforms.Normalize((0,), (1,))])\n",
        "\n",
        "mnist_train = datasets.MNIST(data_path, train=True, download=True, transform=transform)\n",
        "mnist_test = datasets.MNIST(data_path, train=False, download=True, transform=transform)\n",
        "\n",
        "# Create DataLoaders\n",
        "train_loader = DataLoader(mnist_train, batch_size=batch_size, shuffle=True, drop_last=True)\n",
        "test_loader = DataLoader(mnist_test, batch_size=batch_size, shuffle=True, drop_last=True)"
      ]
    },
    {
      "cell_type": "markdown",
      "metadata": {
        "id": "6v8fBXrVlY3f"
      },
      "source": [
        "## 2.2 Define the Network\n",
        "\n",
        "The convolutional network architecture to be used is: 12C5-MP2-64C5-MP2-1024FC10\n",
        "\n",
        "- 12C5 is a 5$\\times$5 convolutional kernel with 12 filters\n",
        "- MP2 is a 2$\\times$2 max-pooling function\n",
        "- 1024FC10 is a fully-connected layer that maps 1,024 neurons to 10 outputs"
      ]
    },
    {
      "cell_type": "code",
      "execution_count": 8,
      "metadata": {
        "id": "foos_NlopDrb"
      },
      "outputs": [],
      "source": [
        "# neuron and simulation parameters\n",
        "spike_grad = surrogate.fast_sigmoid(slope=25)\n",
        "beta = 0.5\n",
        "num_steps = 5"
      ]
    },
    {
      "cell_type": "code",
      "execution_count": 9,
      "metadata": {
        "id": "X4sd8PDSlGZb"
      },
      "outputs": [],
      "source": [
        "class Net(nn.Module):\n",
        "    def __init__(self):\n",
        "        super().__init__()\n",
        "\n",
        "        # Initialize layers\n",
        "        self.fc1 = nn.Linear(784, 24)\n",
        "        self.lif1 = snn.Leaky(beta=beta, spike_grad=spike_grad , reset_mechanism = \"zero\")\n",
        "        self.fc2 = nn.Linear(24, 10)\n",
        "        self.lif2 = snn.Leaky(beta=beta, spike_grad=spike_grad, reset_mechanism = \"zero\")\n",
        "\n",
        "    def forward(self, x):\n",
        "\n",
        "        # Initialize hidden states and outputs at t=0\n",
        "        mem1 = self.lif1.init_leaky()\n",
        "        mem2 = self.lif2.init_leaky()\n",
        "\n",
        "        cur1 = self.fc1(x.view(batch_size, -1))\n",
        "        spk1, mem1 = self.lif1(cur1, mem1)\n",
        "\n",
        "        cur2 = self.fc2(spk1)\n",
        "        spk2, mem2 = self.lif2(cur2, mem2)\n",
        "        return spk2, mem2\n"
      ]
    },
    {
      "cell_type": "markdown",
      "metadata": {
        "id": "HVn3aYAUnWqH"
      },
      "source": [
        "In the previous tutorial, the network was wrapped inside of a class, as shown above.\n",
        "With increasing network complexity, this adds a lot of boilerplate code that we might wish to avoid. Alternatively, the `nn.Sequential` method can be used instead.\n",
        "\n",
        "> Note: the following code-block simulates over one single time-step, and requires a separate for-loop over time."
      ]
    },
    {
      "cell_type": "code",
      "execution_count": 10,
      "metadata": {
        "id": "AoYBY89angvp"
      },
      "outputs": [],
      "source": [
        "net = nn.Sequential(nn.Flatten(),\n",
        "                    nn.Linear(784, 24),\n",
        "                    snn.Leaky(beta=beta, spike_grad=spike_grad, init_hidden=True , reset_mechanism = \"zero\"),\n",
        "                    nn.Linear(24, 10),\n",
        "                    snn.Leaky(beta=beta, spike_grad=spike_grad, init_hidden=True, output=True , reset_mechanism = \"zero\")\n",
        "                    ).to(device)\n",
        "\n",
        "for module in net.modules():\n",
        "    if isinstance(module, nn.Linear):\n",
        "        module.bias.requires_grad = False\n",
        "        module.bias.data.zero_()\n"
      ]
    },
    {
      "cell_type": "code",
      "source": [
        "bias_terms = [param for name, param in net.named_parameters() if \"bias\" in name]\n",
        "for bias in bias_terms:\n",
        "    print(bias)\n"
      ],
      "metadata": {
        "id": "8bYUGBBW8l5p",
        "outputId": "4e0880a1-f708-44ea-dda0-f146b57e09af",
        "colab": {
          "base_uri": "https://localhost:8080/"
        }
      },
      "execution_count": 11,
      "outputs": [
        {
          "output_type": "stream",
          "name": "stdout",
          "text": [
            "Parameter containing:\n",
            "tensor([0., 0., 0., 0., 0., 0., 0., 0., 0., 0., 0., 0., 0., 0., 0., 0., 0., 0., 0., 0., 0., 0., 0., 0.],\n",
            "       device='cuda:0')\n",
            "Parameter containing:\n",
            "tensor([0., 0., 0., 0., 0., 0., 0., 0., 0., 0.], device='cuda:0')\n"
          ]
        }
      ]
    },
    {
      "cell_type": "markdown",
      "metadata": {
        "id": "7Qgw1dRmpOlo"
      },
      "source": [
        "\n",
        "The `init_hidden` argument initializes the hidden states of the neuron (here, membrane potential). This takes place in the background as an instance variable.\n",
        "If `init_hidden` is activated, the membrane potential is not explicitly returned to the user, ensuring only the output spikes are sequentially passed through the layers wrapped in `nn.Sequential`.\n",
        "\n",
        "To train a model using the final layer's membrane potential, set the argument `output=True`.\n",
        "This enables the final layer to return both the spike and membrane potential response of the neuron."
      ]
    },
    {
      "cell_type": "markdown",
      "metadata": {
        "id": "A-bCSQmBstvd"
      },
      "source": [
        "## 2.3 Forward-Pass\n",
        "A forward pass across a simulation duration of `num_steps` looks like this:"
      ]
    },
    {
      "cell_type": "code",
      "execution_count": 12,
      "metadata": {
        "id": "IxPPMND-pMxE"
      },
      "outputs": [],
      "source": [
        "data, targets = next(iter(train_loader))\n",
        "data = data.to(device)\n",
        "targets = targets.to(device)\n",
        "\n",
        "for step in range(num_steps):\n",
        "    spk_out, mem_out = net(data)"
      ]
    },
    {
      "cell_type": "markdown",
      "metadata": {
        "id": "C3PxtCobuH_e"
      },
      "source": [
        "Wrap that in a function, recording the membrane potential and spike response over time:"
      ]
    },
    {
      "cell_type": "code",
      "execution_count": 13,
      "metadata": {
        "id": "ykdnD3tRuHcs"
      },
      "outputs": [],
      "source": [
        "def forward_pass(net, num_steps, data):\n",
        "  mem_rec = []\n",
        "  spk_rec = []\n",
        "  utils.reset(net)  # resets hidden states for all LIF neurons in net\n",
        "\n",
        "  for step in range(num_steps):\n",
        "      spk_out, mem_out = net(data)\n",
        "      spk_rec.append(spk_out)\n",
        "      mem_rec.append(mem_out)\n",
        "\n",
        "  return torch.stack(spk_rec), torch.stack(mem_rec)"
      ]
    },
    {
      "cell_type": "code",
      "execution_count": 14,
      "metadata": {
        "id": "unJrx3pXcXii"
      },
      "outputs": [],
      "source": [
        "spk_rec, mem_rec = forward_pass(net, num_steps, data)"
      ]
    },
    {
      "cell_type": "markdown",
      "metadata": {
        "id": "zqJdfllYbc16"
      },
      "source": [
        "# 3. Training Loop"
      ]
    },
    {
      "cell_type": "markdown",
      "metadata": {
        "id": "x-kquOWLY1Jo"
      },
      "source": [
        "## 3.1 Loss Using snn.Functional"
      ]
    },
    {
      "cell_type": "markdown",
      "metadata": {
        "id": "MlA56BgOYq1D"
      },
      "source": [
        "In the previous tutorial, the Cross Entropy Loss between the membrane potential of the output neurons and the target was used to train the network.\n",
        "This time, the total number of spikes from each neuron will be used to calculate the Cross Entropy instead.\n",
        "\n",
        "A variety of loss functions are included in the `snn.functional` module, which is analogous to `torch.nn.functional` in PyTorch.\n",
        "These implement a mix of cross entropy and mean square error losses, are applied to spikes and/or membrane potential, to train a rate or latency-coded network.\n",
        "\n",
        "The approach below applies the cross entropy loss to the output spike count in order train a rate-coded network:"
      ]
    },
    {
      "cell_type": "code",
      "execution_count": 15,
      "metadata": {
        "id": "UZ2BM6d6a11l"
      },
      "outputs": [],
      "source": [
        "# already imported snntorch.functional as SF\n",
        "loss_fn = SF.ce_rate_loss()"
      ]
    },
    {
      "cell_type": "markdown",
      "metadata": {
        "id": "q39HCIeOa4fC"
      },
      "source": [
        "The recordings of the spike are passed as the first argument to `loss_fn`, and the target neuron index as the second argument to generate a loss. [The documentation provides further information and exmaples.](https://snntorch.readthedocs.io/en/latest/snntorch.functional.html#snntorch.functional.ce_rate_loss)"
      ]
    },
    {
      "cell_type": "code",
      "execution_count": 16,
      "metadata": {
        "id": "xEVzMvujcjsE",
        "outputId": "31b89c67-1a1d-4285-94c1-ce43f3dfc936",
        "colab": {
          "base_uri": "https://localhost:8080/"
        }
      },
      "outputs": [
        {
          "output_type": "stream",
          "name": "stdout",
          "text": [
            "The loss from an untrained network is 2.303\n"
          ]
        }
      ],
      "source": [
        "loss_val = loss_fn(spk_rec, targets)\n",
        "\n",
        "print(f\"The loss from an untrained network is {loss_val.item():.3f}\")"
      ]
    },
    {
      "cell_type": "markdown",
      "metadata": {
        "id": "HS_zeb5mbqjw"
      },
      "source": [
        "## 3.2 Accuracy Using snn.Functional\n",
        "The `SF.accuracy_rate()` function works similarly, in that the predicted output spikes and actual targets are supplied as arguments. `accuracy_rate` assumes a rate code is used to interpret the output by checking if the index of the neuron with the highest spike count matches the target index."
      ]
    },
    {
      "cell_type": "code",
      "execution_count": 17,
      "metadata": {
        "id": "yq7_rly0c9b4",
        "outputId": "118e8d77-e953-43a7-c241-34b7eb82901a",
        "colab": {
          "base_uri": "https://localhost:8080/"
        }
      },
      "outputs": [
        {
          "output_type": "stream",
          "name": "stdout",
          "text": [
            "The accuracy of a single batch using an untrained network is 7.031%\n"
          ]
        }
      ],
      "source": [
        "acc = SF.accuracy_rate(spk_rec, targets)\n",
        "\n",
        "print(f\"The accuracy of a single batch using an untrained network is {acc*100:.3f}%\")"
      ]
    },
    {
      "cell_type": "markdown",
      "metadata": {
        "id": "r4Z6bnqCdL50"
      },
      "source": [
        "As the above function only returns the accuracy of a single batch of data, the following function returns the accuracy on the entire DataLoader object:"
      ]
    },
    {
      "cell_type": "code",
      "execution_count": 18,
      "metadata": {
        "id": "IqxDKFvrdXuF"
      },
      "outputs": [],
      "source": [
        "def batch_accuracy(train_loader, net, num_steps):\n",
        "  with torch.no_grad():\n",
        "    total = 0\n",
        "    acc = 0\n",
        "    net.eval()\n",
        "\n",
        "    train_loader = iter(train_loader)\n",
        "    for data, targets in train_loader:\n",
        "      data = data.to(device)\n",
        "      targets = targets.to(device)\n",
        "      spk_rec, _ = forward_pass(net, num_steps, data)\n",
        "\n",
        "      acc += SF.accuracy_rate(spk_rec, targets) * spk_rec.size(1)\n",
        "      total += spk_rec.size(1)\n",
        "\n",
        "  return acc/total"
      ]
    },
    {
      "cell_type": "code",
      "execution_count": 19,
      "metadata": {
        "id": "_u43hKAvefWM",
        "outputId": "af61a0f7-a7a5-4f40-ae5a-84cae757cf2a",
        "colab": {
          "base_uri": "https://localhost:8080/"
        }
      },
      "outputs": [
        {
          "output_type": "stream",
          "name": "stdout",
          "text": [
            "The total accuracy on the test set is: 9.81%\n"
          ]
        }
      ],
      "source": [
        "test_acc = batch_accuracy(test_loader, net, num_steps)\n",
        "\n",
        "print(f\"The total accuracy on the test set is: {test_acc * 100:.2f}%\")"
      ]
    },
    {
      "cell_type": "markdown",
      "metadata": {
        "id": "F1pzWXlsYoIu"
      },
      "source": [
        "## 3.3 Training Loop"
      ]
    },
    {
      "cell_type": "markdown",
      "metadata": {
        "id": "KAUDYl3gf0G-"
      },
      "source": [
        "The following training loop is qualitatively similar to the previous tutorial."
      ]
    },
    {
      "cell_type": "code",
      "execution_count": 20,
      "metadata": {
        "id": "y_VQ9es-gSO3",
        "outputId": "1975a393-26aa-4c00-9b3c-0838db953f77",
        "colab": {
          "base_uri": "https://localhost:8080/",
          "height": 1000
        }
      },
      "outputs": [
        {
          "output_type": "stream",
          "name": "stdout",
          "text": [
            "Iteration 0, Test Acc: 9.81%\n",
            "\n",
            "Iteration 50, Test Acc: 75.78%\n",
            "\n",
            "Iteration 100, Test Acc: 83.11%\n",
            "\n",
            "Iteration 150, Test Acc: 81.63%\n",
            "\n",
            "Iteration 200, Test Acc: 85.47%\n",
            "\n",
            "Iteration 250, Test Acc: 83.99%\n",
            "\n",
            "Iteration 300, Test Acc: 83.59%\n",
            "\n",
            "Iteration 350, Test Acc: 84.41%\n",
            "\n",
            "Iteration 400, Test Acc: 83.86%\n",
            "\n",
            "Iteration 450, Test Acc: 84.41%\n",
            "\n",
            "Iteration 500, Test Acc: 86.99%\n",
            "\n",
            "Iteration 550, Test Acc: 85.90%\n",
            "\n",
            "Iteration 600, Test Acc: 84.23%\n",
            "\n",
            "Iteration 650, Test Acc: 83.17%\n",
            "\n",
            "Iteration 700, Test Acc: 83.48%\n",
            "\n",
            "Iteration 750, Test Acc: 85.15%\n",
            "\n",
            "Iteration 800, Test Acc: 86.50%\n",
            "\n",
            "Iteration 850, Test Acc: 87.18%\n",
            "\n",
            "Iteration 900, Test Acc: 85.28%\n",
            "\n",
            "Iteration 950, Test Acc: 81.34%\n",
            "\n",
            "Iteration 1000, Test Acc: 84.78%\n",
            "\n",
            "Iteration 1050, Test Acc: 83.81%\n",
            "\n",
            "Iteration 1100, Test Acc: 83.32%\n",
            "\n",
            "Iteration 1150, Test Acc: 82.61%\n",
            "\n",
            "Iteration 1200, Test Acc: 83.39%\n",
            "\n",
            "Iteration 1250, Test Acc: 83.17%\n",
            "\n",
            "Iteration 1300, Test Acc: 84.10%\n",
            "\n",
            "Iteration 1350, Test Acc: 85.74%\n",
            "\n",
            "Iteration 1400, Test Acc: 86.05%\n",
            "\n",
            "Iteration 1450, Test Acc: 85.09%\n",
            "\n",
            "Iteration 1500, Test Acc: 85.88%\n",
            "\n",
            "Iteration 1550, Test Acc: 85.27%\n",
            "\n",
            "Iteration 1600, Test Acc: 85.82%\n",
            "\n",
            "Iteration 1650, Test Acc: 84.23%\n",
            "\n",
            "Iteration 1700, Test Acc: 85.23%\n",
            "\n",
            "Iteration 1750, Test Acc: 84.66%\n",
            "\n",
            "Iteration 1800, Test Acc: 83.49%\n",
            "\n",
            "Iteration 1850, Test Acc: 83.02%\n",
            "\n",
            "Iteration 1900, Test Acc: 84.20%\n",
            "\n",
            "Iteration 1950, Test Acc: 84.30%\n",
            "\n",
            "Iteration 2000, Test Acc: 85.31%\n",
            "\n",
            "Iteration 2050, Test Acc: 85.22%\n",
            "\n",
            "Iteration 2100, Test Acc: 86.63%\n",
            "\n"
          ]
        },
        {
          "output_type": "error",
          "ename": "KeyboardInterrupt",
          "evalue": "",
          "traceback": [
            "\u001b[0;31m---------------------------------------------------------------------------\u001b[0m",
            "\u001b[0;31mKeyboardInterrupt\u001b[0m                         Traceback (most recent call last)",
            "\u001b[0;32m<ipython-input-20-7d02b56c7fe3>\u001b[0m in \u001b[0;36m<cell line: 0>\u001b[0;34m()\u001b[0m\n\u001b[1;32m     34\u001b[0m \u001b[0;34m\u001b[0m\u001b[0m\n\u001b[1;32m     35\u001b[0m               \u001b[0;31m# Test set forward pass\u001b[0m\u001b[0;34m\u001b[0m\u001b[0;34m\u001b[0m\u001b[0m\n\u001b[0;32m---> 36\u001b[0;31m               \u001b[0mtest_acc\u001b[0m \u001b[0;34m=\u001b[0m \u001b[0mbatch_accuracy\u001b[0m\u001b[0;34m(\u001b[0m\u001b[0mtest_loader\u001b[0m\u001b[0;34m,\u001b[0m \u001b[0mnet\u001b[0m\u001b[0;34m,\u001b[0m \u001b[0mnum_steps\u001b[0m\u001b[0;34m)\u001b[0m\u001b[0;34m\u001b[0m\u001b[0;34m\u001b[0m\u001b[0m\n\u001b[0m\u001b[1;32m     37\u001b[0m               \u001b[0mprint\u001b[0m\u001b[0;34m(\u001b[0m\u001b[0;34mf\"Iteration {counter}, Test Acc: {test_acc * 100:.2f}%\\n\"\u001b[0m\u001b[0;34m)\u001b[0m\u001b[0;34m\u001b[0m\u001b[0;34m\u001b[0m\u001b[0m\n\u001b[1;32m     38\u001b[0m               \u001b[0mtest_acc_hist\u001b[0m\u001b[0;34m.\u001b[0m\u001b[0mappend\u001b[0m\u001b[0;34m(\u001b[0m\u001b[0mtest_acc\u001b[0m\u001b[0;34m.\u001b[0m\u001b[0mitem\u001b[0m\u001b[0;34m(\u001b[0m\u001b[0;34m)\u001b[0m\u001b[0;34m)\u001b[0m\u001b[0;34m\u001b[0m\u001b[0;34m\u001b[0m\u001b[0m\n",
            "\u001b[0;32m<ipython-input-18-d5c7b3c8b931>\u001b[0m in \u001b[0;36mbatch_accuracy\u001b[0;34m(train_loader, net, num_steps)\u001b[0m\n\u001b[1;32m      6\u001b[0m \u001b[0;34m\u001b[0m\u001b[0m\n\u001b[1;32m      7\u001b[0m     \u001b[0mtrain_loader\u001b[0m \u001b[0;34m=\u001b[0m \u001b[0miter\u001b[0m\u001b[0;34m(\u001b[0m\u001b[0mtrain_loader\u001b[0m\u001b[0;34m)\u001b[0m\u001b[0;34m\u001b[0m\u001b[0;34m\u001b[0m\u001b[0m\n\u001b[0;32m----> 8\u001b[0;31m     \u001b[0;32mfor\u001b[0m \u001b[0mdata\u001b[0m\u001b[0;34m,\u001b[0m \u001b[0mtargets\u001b[0m \u001b[0;32min\u001b[0m \u001b[0mtrain_loader\u001b[0m\u001b[0;34m:\u001b[0m\u001b[0;34m\u001b[0m\u001b[0;34m\u001b[0m\u001b[0m\n\u001b[0m\u001b[1;32m      9\u001b[0m       \u001b[0mdata\u001b[0m \u001b[0;34m=\u001b[0m \u001b[0mdata\u001b[0m\u001b[0;34m.\u001b[0m\u001b[0mto\u001b[0m\u001b[0;34m(\u001b[0m\u001b[0mdevice\u001b[0m\u001b[0;34m)\u001b[0m\u001b[0;34m\u001b[0m\u001b[0;34m\u001b[0m\u001b[0m\n\u001b[1;32m     10\u001b[0m       \u001b[0mtargets\u001b[0m \u001b[0;34m=\u001b[0m \u001b[0mtargets\u001b[0m\u001b[0;34m.\u001b[0m\u001b[0mto\u001b[0m\u001b[0;34m(\u001b[0m\u001b[0mdevice\u001b[0m\u001b[0;34m)\u001b[0m\u001b[0;34m\u001b[0m\u001b[0;34m\u001b[0m\u001b[0m\n",
            "\u001b[0;32m/usr/local/lib/python3.11/dist-packages/torch/utils/data/dataloader.py\u001b[0m in \u001b[0;36m__next__\u001b[0;34m(self)\u001b[0m\n\u001b[1;32m    699\u001b[0m                 \u001b[0;31m# TODO(https://github.com/pytorch/pytorch/issues/76750)\u001b[0m\u001b[0;34m\u001b[0m\u001b[0;34m\u001b[0m\u001b[0m\n\u001b[1;32m    700\u001b[0m                 \u001b[0mself\u001b[0m\u001b[0;34m.\u001b[0m\u001b[0m_reset\u001b[0m\u001b[0;34m(\u001b[0m\u001b[0;34m)\u001b[0m  \u001b[0;31m# type: ignore[call-arg]\u001b[0m\u001b[0;34m\u001b[0m\u001b[0;34m\u001b[0m\u001b[0m\n\u001b[0;32m--> 701\u001b[0;31m             \u001b[0mdata\u001b[0m \u001b[0;34m=\u001b[0m \u001b[0mself\u001b[0m\u001b[0;34m.\u001b[0m\u001b[0m_next_data\u001b[0m\u001b[0;34m(\u001b[0m\u001b[0;34m)\u001b[0m\u001b[0;34m\u001b[0m\u001b[0;34m\u001b[0m\u001b[0m\n\u001b[0m\u001b[1;32m    702\u001b[0m             \u001b[0mself\u001b[0m\u001b[0;34m.\u001b[0m\u001b[0m_num_yielded\u001b[0m \u001b[0;34m+=\u001b[0m \u001b[0;36m1\u001b[0m\u001b[0;34m\u001b[0m\u001b[0;34m\u001b[0m\u001b[0m\n\u001b[1;32m    703\u001b[0m             if (\n",
            "\u001b[0;32m/usr/local/lib/python3.11/dist-packages/torch/utils/data/dataloader.py\u001b[0m in \u001b[0;36m_next_data\u001b[0;34m(self)\u001b[0m\n\u001b[1;32m    755\u001b[0m     \u001b[0;32mdef\u001b[0m \u001b[0m_next_data\u001b[0m\u001b[0;34m(\u001b[0m\u001b[0mself\u001b[0m\u001b[0;34m)\u001b[0m\u001b[0;34m:\u001b[0m\u001b[0;34m\u001b[0m\u001b[0;34m\u001b[0m\u001b[0m\n\u001b[1;32m    756\u001b[0m         \u001b[0mindex\u001b[0m \u001b[0;34m=\u001b[0m \u001b[0mself\u001b[0m\u001b[0;34m.\u001b[0m\u001b[0m_next_index\u001b[0m\u001b[0;34m(\u001b[0m\u001b[0;34m)\u001b[0m  \u001b[0;31m# may raise StopIteration\u001b[0m\u001b[0;34m\u001b[0m\u001b[0;34m\u001b[0m\u001b[0m\n\u001b[0;32m--> 757\u001b[0;31m         \u001b[0mdata\u001b[0m \u001b[0;34m=\u001b[0m \u001b[0mself\u001b[0m\u001b[0;34m.\u001b[0m\u001b[0m_dataset_fetcher\u001b[0m\u001b[0;34m.\u001b[0m\u001b[0mfetch\u001b[0m\u001b[0;34m(\u001b[0m\u001b[0mindex\u001b[0m\u001b[0;34m)\u001b[0m  \u001b[0;31m# may raise StopIteration\u001b[0m\u001b[0;34m\u001b[0m\u001b[0;34m\u001b[0m\u001b[0m\n\u001b[0m\u001b[1;32m    758\u001b[0m         \u001b[0;32mif\u001b[0m \u001b[0mself\u001b[0m\u001b[0;34m.\u001b[0m\u001b[0m_pin_memory\u001b[0m\u001b[0;34m:\u001b[0m\u001b[0;34m\u001b[0m\u001b[0;34m\u001b[0m\u001b[0m\n\u001b[1;32m    759\u001b[0m             \u001b[0mdata\u001b[0m \u001b[0;34m=\u001b[0m \u001b[0m_utils\u001b[0m\u001b[0;34m.\u001b[0m\u001b[0mpin_memory\u001b[0m\u001b[0;34m.\u001b[0m\u001b[0mpin_memory\u001b[0m\u001b[0;34m(\u001b[0m\u001b[0mdata\u001b[0m\u001b[0;34m,\u001b[0m \u001b[0mself\u001b[0m\u001b[0;34m.\u001b[0m\u001b[0m_pin_memory_device\u001b[0m\u001b[0;34m)\u001b[0m\u001b[0;34m\u001b[0m\u001b[0;34m\u001b[0m\u001b[0m\n",
            "\u001b[0;32m/usr/local/lib/python3.11/dist-packages/torch/utils/data/_utils/fetch.py\u001b[0m in \u001b[0;36mfetch\u001b[0;34m(self, possibly_batched_index)\u001b[0m\n\u001b[1;32m     50\u001b[0m                 \u001b[0mdata\u001b[0m \u001b[0;34m=\u001b[0m \u001b[0mself\u001b[0m\u001b[0;34m.\u001b[0m\u001b[0mdataset\u001b[0m\u001b[0;34m.\u001b[0m\u001b[0m__getitems__\u001b[0m\u001b[0;34m(\u001b[0m\u001b[0mpossibly_batched_index\u001b[0m\u001b[0;34m)\u001b[0m\u001b[0;34m\u001b[0m\u001b[0;34m\u001b[0m\u001b[0m\n\u001b[1;32m     51\u001b[0m             \u001b[0;32melse\u001b[0m\u001b[0;34m:\u001b[0m\u001b[0;34m\u001b[0m\u001b[0;34m\u001b[0m\u001b[0m\n\u001b[0;32m---> 52\u001b[0;31m                 \u001b[0mdata\u001b[0m \u001b[0;34m=\u001b[0m \u001b[0;34m[\u001b[0m\u001b[0mself\u001b[0m\u001b[0;34m.\u001b[0m\u001b[0mdataset\u001b[0m\u001b[0;34m[\u001b[0m\u001b[0midx\u001b[0m\u001b[0;34m]\u001b[0m \u001b[0;32mfor\u001b[0m \u001b[0midx\u001b[0m \u001b[0;32min\u001b[0m \u001b[0mpossibly_batched_index\u001b[0m\u001b[0;34m]\u001b[0m\u001b[0;34m\u001b[0m\u001b[0;34m\u001b[0m\u001b[0m\n\u001b[0m\u001b[1;32m     53\u001b[0m         \u001b[0;32melse\u001b[0m\u001b[0;34m:\u001b[0m\u001b[0;34m\u001b[0m\u001b[0;34m\u001b[0m\u001b[0m\n\u001b[1;32m     54\u001b[0m             \u001b[0mdata\u001b[0m \u001b[0;34m=\u001b[0m \u001b[0mself\u001b[0m\u001b[0;34m.\u001b[0m\u001b[0mdataset\u001b[0m\u001b[0;34m[\u001b[0m\u001b[0mpossibly_batched_index\u001b[0m\u001b[0;34m]\u001b[0m\u001b[0;34m\u001b[0m\u001b[0;34m\u001b[0m\u001b[0m\n",
            "\u001b[0;32m/usr/local/lib/python3.11/dist-packages/torch/utils/data/_utils/fetch.py\u001b[0m in \u001b[0;36m<listcomp>\u001b[0;34m(.0)\u001b[0m\n\u001b[1;32m     50\u001b[0m                 \u001b[0mdata\u001b[0m \u001b[0;34m=\u001b[0m \u001b[0mself\u001b[0m\u001b[0;34m.\u001b[0m\u001b[0mdataset\u001b[0m\u001b[0;34m.\u001b[0m\u001b[0m__getitems__\u001b[0m\u001b[0;34m(\u001b[0m\u001b[0mpossibly_batched_index\u001b[0m\u001b[0;34m)\u001b[0m\u001b[0;34m\u001b[0m\u001b[0;34m\u001b[0m\u001b[0m\n\u001b[1;32m     51\u001b[0m             \u001b[0;32melse\u001b[0m\u001b[0;34m:\u001b[0m\u001b[0;34m\u001b[0m\u001b[0;34m\u001b[0m\u001b[0m\n\u001b[0;32m---> 52\u001b[0;31m                 \u001b[0mdata\u001b[0m \u001b[0;34m=\u001b[0m \u001b[0;34m[\u001b[0m\u001b[0mself\u001b[0m\u001b[0;34m.\u001b[0m\u001b[0mdataset\u001b[0m\u001b[0;34m[\u001b[0m\u001b[0midx\u001b[0m\u001b[0;34m]\u001b[0m \u001b[0;32mfor\u001b[0m \u001b[0midx\u001b[0m \u001b[0;32min\u001b[0m \u001b[0mpossibly_batched_index\u001b[0m\u001b[0;34m]\u001b[0m\u001b[0;34m\u001b[0m\u001b[0;34m\u001b[0m\u001b[0m\n\u001b[0m\u001b[1;32m     53\u001b[0m         \u001b[0;32melse\u001b[0m\u001b[0;34m:\u001b[0m\u001b[0;34m\u001b[0m\u001b[0;34m\u001b[0m\u001b[0m\n\u001b[1;32m     54\u001b[0m             \u001b[0mdata\u001b[0m \u001b[0;34m=\u001b[0m \u001b[0mself\u001b[0m\u001b[0;34m.\u001b[0m\u001b[0mdataset\u001b[0m\u001b[0;34m[\u001b[0m\u001b[0mpossibly_batched_index\u001b[0m\u001b[0;34m]\u001b[0m\u001b[0;34m\u001b[0m\u001b[0;34m\u001b[0m\u001b[0m\n",
            "\u001b[0;32m/usr/local/lib/python3.11/dist-packages/torchvision/datasets/mnist.py\u001b[0m in \u001b[0;36m__getitem__\u001b[0;34m(self, index)\u001b[0m\n\u001b[1;32m    144\u001b[0m \u001b[0;34m\u001b[0m\u001b[0m\n\u001b[1;32m    145\u001b[0m         \u001b[0;32mif\u001b[0m \u001b[0mself\u001b[0m\u001b[0;34m.\u001b[0m\u001b[0mtransform\u001b[0m \u001b[0;32mis\u001b[0m \u001b[0;32mnot\u001b[0m \u001b[0;32mNone\u001b[0m\u001b[0;34m:\u001b[0m\u001b[0;34m\u001b[0m\u001b[0;34m\u001b[0m\u001b[0m\n\u001b[0;32m--> 146\u001b[0;31m             \u001b[0mimg\u001b[0m \u001b[0;34m=\u001b[0m \u001b[0mself\u001b[0m\u001b[0;34m.\u001b[0m\u001b[0mtransform\u001b[0m\u001b[0;34m(\u001b[0m\u001b[0mimg\u001b[0m\u001b[0;34m)\u001b[0m\u001b[0;34m\u001b[0m\u001b[0;34m\u001b[0m\u001b[0m\n\u001b[0m\u001b[1;32m    147\u001b[0m \u001b[0;34m\u001b[0m\u001b[0m\n\u001b[1;32m    148\u001b[0m         \u001b[0;32mif\u001b[0m \u001b[0mself\u001b[0m\u001b[0;34m.\u001b[0m\u001b[0mtarget_transform\u001b[0m \u001b[0;32mis\u001b[0m \u001b[0;32mnot\u001b[0m \u001b[0;32mNone\u001b[0m\u001b[0;34m:\u001b[0m\u001b[0;34m\u001b[0m\u001b[0;34m\u001b[0m\u001b[0m\n",
            "\u001b[0;32m/usr/local/lib/python3.11/dist-packages/torchvision/transforms/transforms.py\u001b[0m in \u001b[0;36m__call__\u001b[0;34m(self, img)\u001b[0m\n\u001b[1;32m     93\u001b[0m     \u001b[0;32mdef\u001b[0m \u001b[0m__call__\u001b[0m\u001b[0;34m(\u001b[0m\u001b[0mself\u001b[0m\u001b[0;34m,\u001b[0m \u001b[0mimg\u001b[0m\u001b[0;34m)\u001b[0m\u001b[0;34m:\u001b[0m\u001b[0;34m\u001b[0m\u001b[0;34m\u001b[0m\u001b[0m\n\u001b[1;32m     94\u001b[0m         \u001b[0;32mfor\u001b[0m \u001b[0mt\u001b[0m \u001b[0;32min\u001b[0m \u001b[0mself\u001b[0m\u001b[0;34m.\u001b[0m\u001b[0mtransforms\u001b[0m\u001b[0;34m:\u001b[0m\u001b[0;34m\u001b[0m\u001b[0;34m\u001b[0m\u001b[0m\n\u001b[0;32m---> 95\u001b[0;31m             \u001b[0mimg\u001b[0m \u001b[0;34m=\u001b[0m \u001b[0mt\u001b[0m\u001b[0;34m(\u001b[0m\u001b[0mimg\u001b[0m\u001b[0;34m)\u001b[0m\u001b[0;34m\u001b[0m\u001b[0;34m\u001b[0m\u001b[0m\n\u001b[0m\u001b[1;32m     96\u001b[0m         \u001b[0;32mreturn\u001b[0m \u001b[0mimg\u001b[0m\u001b[0;34m\u001b[0m\u001b[0;34m\u001b[0m\u001b[0m\n\u001b[1;32m     97\u001b[0m \u001b[0;34m\u001b[0m\u001b[0m\n",
            "\u001b[0;32m/usr/local/lib/python3.11/dist-packages/torch/nn/modules/module.py\u001b[0m in \u001b[0;36m_wrapped_call_impl\u001b[0;34m(self, *args, **kwargs)\u001b[0m\n\u001b[1;32m   1734\u001b[0m             \u001b[0;32mreturn\u001b[0m \u001b[0mself\u001b[0m\u001b[0;34m.\u001b[0m\u001b[0m_compiled_call_impl\u001b[0m\u001b[0;34m(\u001b[0m\u001b[0;34m*\u001b[0m\u001b[0margs\u001b[0m\u001b[0;34m,\u001b[0m \u001b[0;34m**\u001b[0m\u001b[0mkwargs\u001b[0m\u001b[0;34m)\u001b[0m  \u001b[0;31m# type: ignore[misc]\u001b[0m\u001b[0;34m\u001b[0m\u001b[0;34m\u001b[0m\u001b[0m\n\u001b[1;32m   1735\u001b[0m         \u001b[0;32melse\u001b[0m\u001b[0;34m:\u001b[0m\u001b[0;34m\u001b[0m\u001b[0;34m\u001b[0m\u001b[0m\n\u001b[0;32m-> 1736\u001b[0;31m             \u001b[0;32mreturn\u001b[0m \u001b[0mself\u001b[0m\u001b[0;34m.\u001b[0m\u001b[0m_call_impl\u001b[0m\u001b[0;34m(\u001b[0m\u001b[0;34m*\u001b[0m\u001b[0margs\u001b[0m\u001b[0;34m,\u001b[0m \u001b[0;34m**\u001b[0m\u001b[0mkwargs\u001b[0m\u001b[0;34m)\u001b[0m\u001b[0;34m\u001b[0m\u001b[0;34m\u001b[0m\u001b[0m\n\u001b[0m\u001b[1;32m   1737\u001b[0m \u001b[0;34m\u001b[0m\u001b[0m\n\u001b[1;32m   1738\u001b[0m     \u001b[0;31m# torchrec tests the code consistency with the following code\u001b[0m\u001b[0;34m\u001b[0m\u001b[0;34m\u001b[0m\u001b[0m\n",
            "\u001b[0;32m/usr/local/lib/python3.11/dist-packages/torch/nn/modules/module.py\u001b[0m in \u001b[0;36m_call_impl\u001b[0;34m(self, *args, **kwargs)\u001b[0m\n\u001b[1;32m   1745\u001b[0m                 \u001b[0;32mor\u001b[0m \u001b[0m_global_backward_pre_hooks\u001b[0m \u001b[0;32mor\u001b[0m \u001b[0m_global_backward_hooks\u001b[0m\u001b[0;34m\u001b[0m\u001b[0;34m\u001b[0m\u001b[0m\n\u001b[1;32m   1746\u001b[0m                 or _global_forward_hooks or _global_forward_pre_hooks):\n\u001b[0;32m-> 1747\u001b[0;31m             \u001b[0;32mreturn\u001b[0m \u001b[0mforward_call\u001b[0m\u001b[0;34m(\u001b[0m\u001b[0;34m*\u001b[0m\u001b[0margs\u001b[0m\u001b[0;34m,\u001b[0m \u001b[0;34m**\u001b[0m\u001b[0mkwargs\u001b[0m\u001b[0;34m)\u001b[0m\u001b[0;34m\u001b[0m\u001b[0;34m\u001b[0m\u001b[0m\n\u001b[0m\u001b[1;32m   1748\u001b[0m \u001b[0;34m\u001b[0m\u001b[0m\n\u001b[1;32m   1749\u001b[0m         \u001b[0mresult\u001b[0m \u001b[0;34m=\u001b[0m \u001b[0;32mNone\u001b[0m\u001b[0;34m\u001b[0m\u001b[0;34m\u001b[0m\u001b[0m\n",
            "\u001b[0;32m/usr/local/lib/python3.11/dist-packages/torchvision/transforms/transforms.py\u001b[0m in \u001b[0;36mforward\u001b[0;34m(self, img)\u001b[0m\n\u001b[1;32m    352\u001b[0m             \u001b[0mPIL\u001b[0m \u001b[0mImage\u001b[0m \u001b[0;32mor\u001b[0m \u001b[0mTensor\u001b[0m\u001b[0;34m:\u001b[0m \u001b[0mRescaled\u001b[0m \u001b[0mimage\u001b[0m\u001b[0;34m.\u001b[0m\u001b[0;34m\u001b[0m\u001b[0;34m\u001b[0m\u001b[0m\n\u001b[1;32m    353\u001b[0m         \"\"\"\n\u001b[0;32m--> 354\u001b[0;31m         \u001b[0;32mreturn\u001b[0m \u001b[0mF\u001b[0m\u001b[0;34m.\u001b[0m\u001b[0mresize\u001b[0m\u001b[0;34m(\u001b[0m\u001b[0mimg\u001b[0m\u001b[0;34m,\u001b[0m \u001b[0mself\u001b[0m\u001b[0;34m.\u001b[0m\u001b[0msize\u001b[0m\u001b[0;34m,\u001b[0m \u001b[0mself\u001b[0m\u001b[0;34m.\u001b[0m\u001b[0minterpolation\u001b[0m\u001b[0;34m,\u001b[0m \u001b[0mself\u001b[0m\u001b[0;34m.\u001b[0m\u001b[0mmax_size\u001b[0m\u001b[0;34m,\u001b[0m \u001b[0mself\u001b[0m\u001b[0;34m.\u001b[0m\u001b[0mantialias\u001b[0m\u001b[0;34m)\u001b[0m\u001b[0;34m\u001b[0m\u001b[0;34m\u001b[0m\u001b[0m\n\u001b[0m\u001b[1;32m    355\u001b[0m \u001b[0;34m\u001b[0m\u001b[0m\n\u001b[1;32m    356\u001b[0m     \u001b[0;32mdef\u001b[0m \u001b[0m__repr__\u001b[0m\u001b[0;34m(\u001b[0m\u001b[0mself\u001b[0m\u001b[0;34m)\u001b[0m \u001b[0;34m->\u001b[0m \u001b[0mstr\u001b[0m\u001b[0;34m:\u001b[0m\u001b[0;34m\u001b[0m\u001b[0;34m\u001b[0m\u001b[0m\n",
            "\u001b[0;32m/usr/local/lib/python3.11/dist-packages/torchvision/transforms/functional.py\u001b[0m in \u001b[0;36mresize\u001b[0;34m(img, size, interpolation, max_size, antialias)\u001b[0m\n\u001b[1;32m    385\u001b[0m \u001b[0;34m\u001b[0m\u001b[0m\n\u001b[1;32m    386\u001b[0m \u001b[0;34m\u001b[0m\u001b[0m\n\u001b[0;32m--> 387\u001b[0;31m def resize(\n\u001b[0m\u001b[1;32m    388\u001b[0m     \u001b[0mimg\u001b[0m\u001b[0;34m:\u001b[0m \u001b[0mTensor\u001b[0m\u001b[0;34m,\u001b[0m\u001b[0;34m\u001b[0m\u001b[0;34m\u001b[0m\u001b[0m\n\u001b[1;32m    389\u001b[0m     \u001b[0msize\u001b[0m\u001b[0;34m:\u001b[0m \u001b[0mList\u001b[0m\u001b[0;34m[\u001b[0m\u001b[0mint\u001b[0m\u001b[0;34m]\u001b[0m\u001b[0;34m,\u001b[0m\u001b[0;34m\u001b[0m\u001b[0;34m\u001b[0m\u001b[0m\n",
            "\u001b[0;31mKeyboardInterrupt\u001b[0m: "
          ]
        }
      ],
      "source": [
        "optimizer = torch.optim.Adam(net.parameters(), lr=1e-2, betas=(0.9, 0.999))\n",
        "num_epochs = 10\n",
        "loss_hist = []\n",
        "test_acc_hist = []\n",
        "counter = 0\n",
        "\n",
        "# Outer training loop\n",
        "for epoch in range(num_epochs):\n",
        "\n",
        "    # Training loop\n",
        "    for data, targets in iter(train_loader):\n",
        "        data = data.to(device)\n",
        "        targets = targets.to(device)\n",
        "\n",
        "        # forward pass\n",
        "        net.train()\n",
        "        spk_rec, _ = forward_pass(net, num_steps, data)\n",
        "\n",
        "        # initialize the loss & sum over time\n",
        "        loss_val = loss_fn(spk_rec, targets)\n",
        "\n",
        "        # Gradient calculation + weight update\n",
        "        optimizer.zero_grad()\n",
        "        loss_val.backward()\n",
        "        optimizer.step()\n",
        "\n",
        "        # Store loss history for future plotting\n",
        "        loss_hist.append(loss_val.item())\n",
        "\n",
        "        # Test set\n",
        "        if counter % 50 == 0:\n",
        "          with torch.no_grad():\n",
        "              net.eval()\n",
        "\n",
        "              # Test set forward pass\n",
        "              test_acc = batch_accuracy(test_loader, net, num_steps)\n",
        "              print(f\"Iteration {counter}, Test Acc: {test_acc * 100:.2f}%\\n\")\n",
        "              test_acc_hist.append(test_acc.item())\n",
        "\n",
        "        counter += 1"
      ]
    },
    {
      "cell_type": "markdown",
      "metadata": {
        "id": "TjRPDFWxj2eS"
      },
      "source": [
        "Despite having selected some fairly generic values and architectures, the test set accuracy should be fairly competitive given the brief training run!"
      ]
    },
    {
      "cell_type": "markdown",
      "metadata": {
        "collapsed": false,
        "id": "HxU7P7xFpko3",
        "pycharm": {
          "name": "#%% md\n"
        }
      },
      "source": [
        "# 4. Results\n",
        "## 4.1 Plot Test Accuracy"
      ]
    },
    {
      "cell_type": "code",
      "execution_count": 21,
      "metadata": {
        "id": "_Pk_EScnpkpj",
        "pycharm": {
          "name": "#%%\n"
        },
        "outputId": "bb6b7e2f-7068-4d67-c566-667d0e3a5939",
        "colab": {
          "base_uri": "https://localhost:8080/",
          "height": 472
        }
      },
      "outputs": [
        {
          "output_type": "display_data",
          "data": {
            "text/plain": [
              "<Figure size 640x480 with 1 Axes>"
            ],
            "image/png": "[encoded data removed]"
          },
          "metadata": {}
        }
      ],
      "source": [
        "# Plot Loss\n",
        "fig = plt.figure(facecolor=\"w\")\n",
        "plt.plot(test_acc_hist)\n",
        "plt.title(\"Test Set Accuracy\")\n",
        "plt.xlabel(\"Epoch\")\n",
        "plt.ylabel(\"Accuracy\")\n",
        "plt.show()"
      ]
    },
    {
      "cell_type": "markdown",
      "metadata": {
        "id": "nYFamUJLkVY3"
      },
      "source": [
        "## 4.2 Spike Counter"
      ]
    },
    {
      "cell_type": "markdown",
      "metadata": {
        "id": "MDE3ms9ulo-t"
      },
      "source": [
        "Run a forward pass on a batch of data to obtain spike and membrane readings."
      ]
    },
    {
      "cell_type": "code",
      "execution_count": 22,
      "metadata": {
        "id": "dqIjaw1kk4-6"
      },
      "outputs": [],
      "source": [
        "spk_rec, mem_rec = forward_pass(net, num_steps, data)"
      ]
    },
    {
      "cell_type": "code",
      "source": [
        "index = torch.randint(0, len(data), (1,)).item()\n",
        "image = data[index, 0, :, :]\n",
        "print(image.shape)\n",
        "print(image)\n",
        "label = targets[index].item()\n",
        "print(label)\n",
        "\n",
        "image = data[index, 0, :, :].flatten()\n",
        "image = image.detach().cpu().numpy()\n",
        "\n",
        "with open(\"image.txt\", \"w\") as f:\n",
        "    f.write(\"float input[{}] = {{\".format(len(image)))\n",
        "    for i, pixel in enumerate(image):\n",
        "        f.write(\" {:.6f}\".format(pixel))\n",
        "        if i < len(image) - 1:\n",
        "            f.write(\",\")\n",
        "    f.write(\"};\")\n"
      ],
      "metadata": {
        "id": "VDsjsrdXQhU4",
        "outputId": "6d6c5ba8-8b06-4042-f647-37f12f668551",
        "colab": {
          "base_uri": "https://localhost:8080/"
        }
      },
      "execution_count": 55,
      "outputs": [
        {
          "output_type": "stream",
          "name": "stdout",
          "text": [
            "torch.Size([28, 28])\n",
            "tensor([[0.0000, 0.0000, 0.0000, 0.0000, 0.0000, 0.0000, 0.0000, 0.0000, 0.0000,\n",
            "         0.0000, 0.0000, 0.0000, 0.0000, 0.0000, 0.0000, 0.0000, 0.0000, 0.0000,\n",
            "         0.0000, 0.0000, 0.0000, 0.0000, 0.0000, 0.0000, 0.0000, 0.0000, 0.0000,\n",
            "         0.0000],\n",
            "        [0.0000, 0.0000, 0.0000, 0.0000, 0.0000, 0.0000, 0.0000, 0.0000, 0.0000,\n",
            "         0.0000, 0.0000, 0.0000, 0.0000, 0.0000, 0.0000, 0.0000, 0.0000, 0.0000,\n",
            "         0.0000, 0.0000, 0.0000, 0.0000, 0.0000, 0.0000, 0.0000, 0.0000, 0.0000,\n",
            "         0.0000],\n",
            "        [0.0000, 0.0000, 0.0000, 0.0000, 0.0000, 0.0000, 0.0000, 0.0000, 0.0000,\n",
            "         0.0000, 0.0000, 0.0000, 0.0000, 0.0000, 0.0000, 0.0000, 0.0000, 0.0000,\n",
            "         0.0000, 0.0000, 0.0000, 0.0000, 0.0000, 0.0000, 0.0000, 0.0000, 0.0000,\n",
            "         0.0000],\n",
            "        [0.0000, 0.0000, 0.0000, 0.0000, 0.0000, 0.0000, 0.0000, 0.0000, 0.0000,\n",
            "         0.0000, 0.0000, 0.0000, 0.0000, 0.0000, 0.0000, 0.0000, 0.0000, 0.0000,\n",
            "         0.0000, 0.0000, 0.0000, 0.0000, 0.0000, 0.0000, 0.0000, 0.0000, 0.0000,\n",
            "         0.0000],\n",
            "        [0.0000, 0.0000, 0.0000, 0.0000, 0.0000, 0.0000, 0.0000, 0.0000, 0.0000,\n",
            "         0.0000, 0.0000, 0.0000, 0.0000, 0.0000, 0.0000, 0.0000, 0.0000, 0.0000,\n",
            "         0.0000, 0.0000, 0.0000, 0.0000, 0.0000, 0.0000, 0.0000, 0.0000, 0.0000,\n",
            "         0.0000],\n",
            "        [0.0000, 0.0000, 0.0000, 0.0000, 0.0000, 0.0000, 0.0000, 0.0000, 0.0000,\n",
            "         0.0000, 0.0000, 0.0000, 0.0000, 0.0000, 0.2275, 0.9647, 0.4824, 0.0000,\n",
            "         0.0000, 0.0000, 0.0000, 0.0000, 0.0000, 0.0000, 0.0000, 0.0000, 0.0000,\n",
            "         0.0000],\n",
            "        [0.0000, 0.0000, 0.0000, 0.0000, 0.0000, 0.0000, 0.0000, 0.0000, 0.0000,\n",
            "         0.0000, 0.0000, 0.0000, 0.0000, 0.0000, 0.6588, 0.9961, 0.7765, 0.0000,\n",
            "         0.0000, 0.0000, 0.0000, 0.0000, 0.0000, 0.0000, 0.0000, 0.0000, 0.0000,\n",
            "         0.0000],\n",
            "        [0.0000, 0.0000, 0.0000, 0.0000, 0.0000, 0.0000, 0.0000, 0.0000, 0.0000,\n",
            "         0.0000, 0.0000, 0.0000, 0.0000, 0.0000, 0.8314, 0.9961, 0.6314, 0.0000,\n",
            "         0.0000, 0.0000, 0.0000, 0.0000, 0.0000, 0.0000, 0.0000, 0.0000, 0.0000,\n",
            "         0.0000],\n",
            "        [0.0000, 0.0000, 0.0000, 0.0000, 0.0000, 0.0000, 0.0000, 0.0000, 0.0000,\n",
            "         0.0000, 0.0000, 0.0000, 0.0000, 0.1059, 0.9765, 0.9961, 0.3882, 0.0000,\n",
            "         0.0000, 0.0000, 0.0000, 0.0000, 0.0000, 0.0000, 0.0000, 0.0000, 0.0000,\n",
            "         0.0000],\n",
            "        [0.0000, 0.0000, 0.0000, 0.0000, 0.0000, 0.0000, 0.0000, 0.0000, 0.0000,\n",
            "         0.0000, 0.0000, 0.0000, 0.0000, 0.4039, 0.9961, 0.9608, 0.0275, 0.0000,\n",
            "         0.0000, 0.0000, 0.0000, 0.0000, 0.0000, 0.0000, 0.0000, 0.0000, 0.0000,\n",
            "         0.0000],\n",
            "        [0.0000, 0.0000, 0.0000, 0.0000, 0.0000, 0.0000, 0.0000, 0.0000, 0.0000,\n",
            "         0.0000, 0.0000, 0.0000, 0.0000, 0.5059, 1.0000, 0.8118, 0.0000, 0.0000,\n",
            "         0.0000, 0.0000, 0.0000, 0.0000, 0.0000, 0.0000, 0.0000, 0.0000, 0.0000,\n",
            "         0.0000],\n",
            "        [0.0000, 0.0000, 0.0000, 0.0000, 0.0000, 0.0000, 0.0000, 0.0000, 0.0000,\n",
            "         0.0000, 0.0000, 0.0000, 0.0000, 0.5490, 0.9961, 0.4353, 0.2588, 0.0000,\n",
            "         0.0000, 0.0000, 0.0000, 0.0000, 0.0000, 0.0000, 0.0000, 0.0000, 0.0000,\n",
            "         0.0000],\n",
            "        [0.0000, 0.0000, 0.0000, 0.0000, 0.0000, 0.0000, 0.0000, 0.0000, 0.0000,\n",
            "         0.0000, 0.0000, 0.0000, 0.0000, 0.7804, 0.9961, 0.4980, 0.6863, 0.0000,\n",
            "         0.0000, 0.0000, 0.0000, 0.0000, 0.0000, 0.0000, 0.0000, 0.0000, 0.0000,\n",
            "         0.0000],\n",
            "        [0.0000, 0.0000, 0.0000, 0.0000, 0.0000, 0.0000, 0.0000, 0.0000, 0.0000,\n",
            "         0.0000, 0.0000, 0.0000, 0.0000, 0.7804, 0.9961, 0.1373, 0.0627, 0.0000,\n",
            "         0.0000, 0.0000, 0.0000, 0.0000, 0.0000, 0.0000, 0.0000, 0.0000, 0.0000,\n",
            "         0.0000],\n",
            "        [0.0000, 0.0000, 0.0000, 0.0000, 0.0000, 0.0000, 0.0000, 0.0000, 0.0000,\n",
            "         0.0000, 0.0000, 0.0000, 0.0549, 0.9882, 0.9961, 0.1373, 0.0000, 0.0000,\n",
            "         0.0000, 0.0000, 0.0000, 0.0000, 0.0000, 0.0000, 0.0000, 0.0000, 0.0000,\n",
            "         0.0000],\n",
            "        [0.0000, 0.0000, 0.0000, 0.0000, 0.0000, 0.0000, 0.0000, 0.0000, 0.0000,\n",
            "         0.0000, 0.0000, 0.0000, 0.0392, 0.9294, 0.9961, 0.1373, 0.0000, 0.0000,\n",
            "         0.0000, 0.0000, 0.0000, 0.0000, 0.0000, 0.0000, 0.0000, 0.0000, 0.0000,\n",
            "         0.0000],\n",
            "        [0.0000, 0.0000, 0.0000, 0.0000, 0.0000, 0.0000, 0.0000, 0.0000, 0.0000,\n",
            "         0.0000, 0.0000, 0.0000, 0.0431, 0.9490, 0.9961, 0.1373, 0.0000, 0.0000,\n",
            "         0.0000, 0.0000, 0.0000, 0.0000, 0.0000, 0.0000, 0.0000, 0.0000, 0.0000,\n",
            "         0.0000],\n",
            "        [0.0000, 0.0000, 0.0000, 0.0000, 0.0000, 0.0000, 0.0000, 0.0000, 0.0000,\n",
            "         0.0000, 0.0000, 0.0000, 0.0039, 0.7922, 0.9961, 0.1373, 0.0000, 0.0000,\n",
            "         0.0000, 0.0000, 0.0000, 0.0000, 0.0000, 0.0000, 0.0000, 0.0000, 0.0000,\n",
            "         0.0000],\n",
            "        [0.0000, 0.0000, 0.0000, 0.0000, 0.0000, 0.0000, 0.0000, 0.0000, 0.0000,\n",
            "         0.0000, 0.0000, 0.0000, 0.0353, 0.9059, 0.8824, 0.0235, 0.0000, 0.0000,\n",
            "         0.0000, 0.0000, 0.0000, 0.0000, 0.0000, 0.0000, 0.0000, 0.0000, 0.0000,\n",
            "         0.0000],\n",
            "        [0.0000, 0.0000, 0.0000, 0.0000, 0.0000, 0.0000, 0.0000, 0.0000, 0.0000,\n",
            "         0.0000, 0.0000, 0.0000, 0.0588, 0.9961, 0.8902, 0.0314, 0.0000, 0.0000,\n",
            "         0.0000, 0.0000, 0.0000, 0.0000, 0.0000, 0.0000, 0.0000, 0.0000, 0.0000,\n",
            "         0.0000],\n",
            "        [0.0000, 0.0000, 0.0000, 0.0000, 0.0000, 0.0000, 0.0000, 0.0000, 0.0000,\n",
            "         0.0000, 0.0000, 0.0000, 0.0196, 0.8549, 0.9451, 0.0863, 0.0000, 0.0000,\n",
            "         0.0000, 0.0000, 0.0000, 0.0000, 0.0000, 0.0000, 0.0000, 0.0000, 0.0000,\n",
            "         0.0000],\n",
            "        [0.0000, 0.0000, 0.0000, 0.0000, 0.0000, 0.0000, 0.0000, 0.0000, 0.0000,\n",
            "         0.0000, 0.0000, 0.0000, 0.0039, 0.7843, 0.9765, 0.1137, 0.0000, 0.0000,\n",
            "         0.0000, 0.0000, 0.0000, 0.0000, 0.0000, 0.0000, 0.0000, 0.0000, 0.0000,\n",
            "         0.0000],\n",
            "        [0.0000, 0.0000, 0.0000, 0.0000, 0.0000, 0.0000, 0.0000, 0.0000, 0.0000,\n",
            "         0.0000, 0.0000, 0.0000, 0.0157, 0.8353, 0.9961, 0.1373, 0.0000, 0.0000,\n",
            "         0.0000, 0.0000, 0.0000, 0.0000, 0.0000, 0.0000, 0.0000, 0.0000, 0.0000,\n",
            "         0.0000],\n",
            "        [0.0000, 0.0000, 0.0000, 0.0000, 0.0000, 0.0000, 0.0000, 0.0000, 0.0000,\n",
            "         0.0000, 0.0000, 0.0000, 0.0000, 0.6039, 0.9961, 0.4431, 0.0000, 0.0000,\n",
            "         0.0000, 0.0000, 0.0000, 0.0000, 0.0000, 0.0000, 0.0000, 0.0000, 0.0000,\n",
            "         0.0000],\n",
            "        [0.0000, 0.0000, 0.0000, 0.0000, 0.0000, 0.0000, 0.0000, 0.0000, 0.0000,\n",
            "         0.0000, 0.0000, 0.0000, 0.0000, 0.2941, 0.9882, 0.7294, 0.0000, 0.0000,\n",
            "         0.0000, 0.0000, 0.0000, 0.0000, 0.0000, 0.0000, 0.0000, 0.0000, 0.0000,\n",
            "         0.0000],\n",
            "        [0.0000, 0.0000, 0.0000, 0.0000, 0.0000, 0.0000, 0.0000, 0.0000, 0.0000,\n",
            "         0.0000, 0.0000, 0.0000, 0.0000, 0.0000, 0.0000, 0.0000, 0.0000, 0.0000,\n",
            "         0.0000, 0.0000, 0.0000, 0.0000, 0.0000, 0.0000, 0.0000, 0.0000, 0.0000,\n",
            "         0.0000],\n",
            "        [0.0000, 0.0000, 0.0000, 0.0000, 0.0000, 0.0000, 0.0000, 0.0000, 0.0000,\n",
            "         0.0000, 0.0000, 0.0000, 0.0000, 0.0000, 0.0000, 0.0000, 0.0000, 0.0000,\n",
            "         0.0000, 0.0000, 0.0000, 0.0000, 0.0000, 0.0000, 0.0000, 0.0000, 0.0000,\n",
            "         0.0000],\n",
            "        [0.0000, 0.0000, 0.0000, 0.0000, 0.0000, 0.0000, 0.0000, 0.0000, 0.0000,\n",
            "         0.0000, 0.0000, 0.0000, 0.0000, 0.0000, 0.0000, 0.0000, 0.0000, 0.0000,\n",
            "         0.0000, 0.0000, 0.0000, 0.0000, 0.0000, 0.0000, 0.0000, 0.0000, 0.0000,\n",
            "         0.0000]], device='cuda:0')\n",
            "1\n"
          ]
        }
      ]
    },
    {
      "cell_type": "markdown",
      "metadata": {
        "id": "n4QiJx2HlkMH"
      },
      "source": [
        "Changing `idx` allows you to index into various samples from the simulated minibatch. Use `splt.spike_count` to explore the spiking behaviour of a few different samples!\n",
        "\n",
        "> Note: if you are running the notebook locally on your desktop, please uncomment the line below and modify the path to your ffmpeg.exe\n",
        "\n"
      ]
    },
    {
      "cell_type": "code",
      "execution_count": 43,
      "metadata": {
        "id": "4HcwxfC6kfy0",
        "outputId": "7839083e-39a6-435a-eb7c-5981d1dc379f",
        "colab": {
          "base_uri": "https://localhost:8080/",
          "height": 1000
        }
      },
      "outputs": [
        {
          "output_type": "stream",
          "name": "stdout",
          "text": [
            "The target label is: 1\n"
          ]
        },
        {
          "output_type": "execute_result",
          "data": {
            "text/plain": [
              "<IPython.core.display.HTML object>"
            ],
            "text/html": [
              "<video width=\"1200\" height=\"700\" controls autoplay loop>\n",
              "  <source type=\"video/mp4\" src=\"data:video/mp4;base64,AAAAIGZ0eXBNNFYgAAACAE00ViBpc29taXNvMmF2YzEAAAAIZnJlZQAAI6RtZGF0AAACrgYF//+q\n",
              "3EXpvebZSLeWLNgg2SPu73gyNjQgLSBjb3JlIDE2MyByMzA2MCA1ZGI2YWE2IC0gSC4yNjQvTVBF\n",
              "Ry00IEFWQyBjb2RlYyAtIENvcHlsZWZ0IDIwMDMtMjAyMSAtIGh0dHA6Ly93d3cudmlkZW9sYW4u\n",
              "b3JnL3gyNjQuaHRtbCAtIG9wdGlvbnM6IGNhYmFjPTEgcmVmPTMgZGVibG9jaz0xOjA6MCBhbmFs\n",
              "eXNlPTB4MzoweDExMyBtZT1oZXggc3VibWU9NyBwc3k9MSBwc3lfcmQ9MS4wMDowLjAwIG1peGVk\n",
              "X3JlZj0xIG1lX3JhbmdlPTE2IGNocm9tYV9tZT0xIHRyZWxsaXM9MSA4eDhkY3Q9MSBjcW09MCBk\n",
              "ZWFkem9uZT0yMSwxMSBmYXN0X3Bza2lwPTEgY2hyb21hX3FwX29mZnNldD0tMiB0aHJlYWRzPTMg\n",
              "bG9va2FoZWFkX3RocmVhZHM9MSBzbGljZWRfdGhyZWFkcz0wIG5yPTAgZGVjaW1hdGU9MSBpbnRl\n",
              "cmxhY2VkPTAgYmx1cmF5X2NvbXBhdD0wIGNvbnN0cmFpbmVkX2ludHJhPTAgYmZyYW1lcz0zIGJf\n",
              "cHlyYW1pZD0yIGJfYWRhcHQ9MSBiX2JpYXM9MCBkaXJlY3Q9MSB3ZWlnaHRiPTEgb3Blbl9nb3A9\n",
              "MCB3ZWlnaHRwPTIga2V5aW50PTI1MCBrZXlpbnRfbWluPTI1IHNjZW5lY3V0PTQwIGludHJhX3Jl\n",
              "ZnJlc2g9MCByY19sb29rYWhlYWQ9NDAgcmM9Y3JmIG1idHJlZT0xIGNyZj0yMy4wIHFjb21wPTAu\n",
              "NjAgcXBtaW49MCBxcG1heD02OSBxcHN0ZXA9NCBpcF9yYXRpbz0xLjQwIGFxPTE6MS4wMACAAAAP\n",
              "MWWIhAAr//72c3wKa0czlS4Fdvdmo+XQkuX7EGD60AAAAwAAAwAAAwAAAwMYj5DFjX6ZJXUAAAMA\n",
              "AAMBKAACTgAKdguAAIkAlMO49/gDxJ/gg/ESxIK4guCdRnw+8vwyIXBFxatuU+d3fjx22qLMDHvE\n",
              "AyeonHtG6W0NgxgFI1N484WwVPizULWWHXcEgiCArgAmci/DWT9lDNzPef0V1BIZ5wQ3ckje0RFt\n",
              "U7rJHmgECX2d8Umy5y1wx/1AptBQ19r49uAfDbnf2BHg14zRmKtq0IgSVhpKYQFg9sO6RRpaNYlq\n",
              "sa3QUWAXsFq0PpHdM7Zl8YU41Xze4o1yOQ5nwJLuQDuHMnuAAAhNgcTggu5YOPM9QyGNqbANMURw\n",
              "10dnOnaTrtwPmK84ovDJ/wMlX2WXTEENtCKfVkkwBXiMuF0hpDKIEA2xFb848ITYAG8OTAA6C709\n",
              "Lltm96kVmFIofWt4ulip3Bw9hxVN7BCCzfp03BMlXpxItqchbcr4IMSfO2gAGWXcNwfiS24nA/z2\n",
              "6iyHtlsgnjMMS98vCavfvB9LQJhzA0iNoTG3543mhpaaFDP0kaLwBuqSq9Ha02PMO87xQm6lzhwN\n",
              "81c9SLLh/LJo+1qwoVMgxuRoDSEOwtFz8kgz5S1DV1XXDMn3/E8Q/Ss6yX7X4VBBjt1QrdneRmxw\n",
              "BEcIU2tFicACsTsk4AMB+QA4VMBfxx/ALuAmOl/yJbuHSj2lOu9EP6kDOYzq8/e+lCM4AWXBC/3U\n",
              "IF0qh9EXkZUMyzCn2UpsgeDoXMeMMS8KlsW12hWGaoKA2Oo4cFZd2MKOuE4ea/1MWoNkWhJ/C3kv\n",
              "AliqUvjGvtfIs48hd207r1t141NKSGSM05o8dXoWpTIX8YnN3oAD5P3Xc5yRP8jgjrRPIK8I5/cI\n",
              "0AOIAA73wAJBErwTH0rrEvb1WA68VCNExhS+ij83apbO+PennKhRQrTVYluoprfTCoo757TS8g8f\n",
              "u4efdD6UWgH3vRs7pOqkpCnB7vfAHUNS0YiU1Iz0AADUkv5tE71qdohO8WZFyDRvbnAxVYYdsjv+\n",
              "VvSFEIZvvv+t9EIxpK9hNMwFEL7vD9mA5l9CWmgj7FQZSA5I+ZvtCOU+XOnOUe8PiL+WQ1NisPO7\n",
              "DPSG3tNUTXJAEYaMJLfKtiYABIB8gATmAq0Nr21DGWo44AAMP8VRiFcXNgfwk2ycGptKpzb4+tcm\n",
              "BL0Pf3pLvRrjXr+CX8QyrdjYIJ5jZmO/VB++qiAaTPjZ1LtBQkHLTgT3qs3Fau6RT/PBog/+useT\n",
              "fkvwPXwP7Tp+5Qd102j36O/X5lCReitsF/gM2LendjzOZn8O43h189h/wId3QaKAdObhjV7U59wn\n",
              "SJ0T3CU2fzrFVhZkQNDQK24KbeV2Gno2P1X2libF4dNI9+5wq3kidbjf+scZTw6UITrOxZz3iOa0\n",
              "Tj7iiXdgPLAhzlH7tbaLzCJWp6qb8h3YjLFCWJI7wdZJHVbhWnEx1JLXPou9UfkhAtHP3aV3Q6Pu\n",
              "jAlXq2n5VBxvjqqEABHQBwuy7MOC7lX28i4U3bz8FQNxm6cpVjl2+Pt4StkXuo1UkUybQRX7sqZw\n",
              "jLZipoN4Cdb12r02A9zILHIkG/J8c+Wxvt6dLRpvPbGYekDcplPeWmVE6hue6eZhwPE3d/hZnUl1\n",
              "HP313Ey/+D/qipkH0KkABfr45DGypuuDLsonrlu1oMMpe61wh+sZ2aiMNoOYonoV5cvgd0cWDQar\n",
              "9fvwJzOVEaw3xX6aHa9UYvRZHCmn0ipDUNkpGszpOFwEmyn4dZ6g2BXhMW0OjMjHtKcV+h0aBz54\n",
              "GtbZHXVG9e9U9X1iq6UGfI2Uxtqf/0tii+hzO3AAaHUvprbrYEJymQg7erQ0SQ/GewFDa8LGMPKr\n",
              "qj+YHbCyUyNg9rb0lzdzKI2He7mDhRcaL4sqmKEV0z8ZeOu4GswlrRMZijVd0pG1fPtMU7WAZsuN\n",
              "lazPxLlcbRJxQL91Gg5tai4lPRe7zCs9Gsf4nKtiaO9AEMfkz75NOLXm6MINspO1mlvDPmEM6+ej\n",
              "MyS2ISQqH4Bg+ZlT2C7aQnEefxgU+AL5m3U+EZMmUmqhFjMdPqxwMS4h5fpR+N7fFcJO+XEBLdpu\n",
              "uIyGzLO00+cSF1eFYcAABrgdhCsCd1cvjRQp+G1HxLZ+eANYJDGdx+uq7z77a/+kJgibpUROPeDv\n",
              "q0G4+zy20Bb0KuSiGKr65e1olfK5dv6oSM8AA67oLqeE7qdsmpbEFFnPKZUAYdWK0fafC2N3AAAF\n",
              "qVa+AAcJi425XPwZHCJqbpztRNOfBmxHxFhtle9BpTMz2KJIq9y2eX7fu83Ap/FuJIWAAAxWPL60\n",
              "p2ASTnToat4QCnpZvtqOP/CuaVhnMAQrfkok1Ty3wvNFOfJ+a1GWQBDrpBao0w/N240YTQ8F0DqA\n",
              "a2A/4q+5Eqb45x6gOWxf8wmOMhipiKKl+dTQ23ZeyfaGJ0eX0TReq3xP1sdKhTb1jL8YbwEEUF9A\n",
              "AAIIbwABQTAAjqlLcn5klozPGIzDZaKw84QaP2fGOsEXnKLgH+IC6BCkhFPkCHkZtC0a4NejBzth\n",
              "FX1t4u5VHYFUkxmAwzrrcXkNTn6lVcgAh7gZ/nDEIQW/T9gEBtWEwibUEVE33GeqquGFwr8NQgyu\n",
              "lCelRb5n6SiFH3uaY4BXAzynNky0pKQ6D92AAAuPgtPFXw7Rwd81V7McbTla5NQCmKYnL7AiOdnQ\n",
              "y0RwaRk+vBQvJW1+P7F8YYd5ciScAABzN0AA8E1tExfJEcgoNoGONTTLzmwT+9uYN/YyJfLKf5ca\n",
              "u9Qtk7tFIR2qNY4v3iQHsbrKv5gt+AABHkCCO8t3XHe7SsbRF4onvubcxy7rqXufdIQAwrLa0y5e\n",
              "KkFaAb5g8IQ0cF2n/JbsxbK5ya6wNYYoRjl3dk3QYIArOh7AAACcpAAAVEwAJ55Om86pQUQj9QnC\n",
              "jfqgxEeIZpWAw6VLQ0RCJKzl9yXi6UZqF4QdEqza74bsP/U9M/IcDcrQ+oCGMXF7deOU79H3IPz1\n",
              "SBoMiJAnufaQADKxrvtAsg7JSp41/x/7VPoPT0E1waYBNy9+CwE7s9x4ZPaUBGeUOXbqgZR/6q2F\n",
              "/MQNWtxox9rd0Pz84VrU3Ri3lIjSF3azqBZV8YFzO/CAAAOZyv5w/FvbTfxh4WpBn60zrre/18uC\n",
              "Ge3zYVY7+u6tq6JUYICCvhkyl53t6UYdCYQibyrQo59sYAAiFPnEsZ/GopIIbf/w9ZoL9ACyUhfH\n",
              "IBCumdXCzROOlmgMaOTP5960Oubx01nFWsKDRDPR/MNAK/Y1A9Ub2uASNj5CGejvqMlvFIw80hCz\n",
              "kAu69jqh/ufY/fUgdyJkoSoNMVPYhZLCLiWaQUK0b70vJgMBwktmjHUb6I/vQmuPDy59xoV00nN4\n",
              "nUnyIBHZtrNW6DW955CTvw8R+MMgiQXS8I52gu67L1XEq21wOQbXM+BIIZpXBNVOeiX52cuQgHf9\n",
              "u2bKtIqS4gdJSIyYh35lwGSM0hSmoHQLoYrxkCcXj2ANTPLgo48FM02ySBBbf+nhLHFls9RhcqP3\n",
              "Fc8n+KCgV4Z5OPus8aFJT31olwYeZFW/TPDa/5rBByiqm67rV3a5g4F+amHHTFP8oNOmK2wndlxn\n",
              "EGmsMZXkDe2Itj9CXk4HR7GcgA4PAfW5ekZmpsklyH5aDBBKrREgJpyW13x2W/CLB8jjw76nlu8/\n",
              "+iW93UIXgP3UbkZknsMjvOv+gSgvHIjY5Z5rI/1BOHsOXb4fk9gDBJHQ/YMgAxV8EeD/alK11Vbc\n",
              "wqSqxv1v/s6+BwXAkTfH2odQmpXRyIolD7HHc8VsEqfSaGK4mfAPLVRsAAMoIRNYm39gyFAilBf4\n",
              "xL16qn9877SfPX5gCyuEWHEbE5ZfW5yMwZccKuYmJk7ySXX8TsRNgRuIo8mSl01Pc+V7Dh3vjSoA\n",
              "Z+V1aqntVOD7zY1f32TrvCVI8O+WZIjyvN/GRM9p+uK9qBfJthq5g60h1pyclt/h5k/mkIGgn8to\n",
              "7d8i5nfIJRUpaD6bzZgjQj1M/W79jnjdVT9weU2Td4c0lmS9qZS1Z0qodw0JMbqlv9GA5qcOCQI0\n",
              "7F9oRsNKVygWtQf7/7/pwWx1FB7OffQ9zcONUiryqSHnFcGg8w/ZYgEX++ne/mpYtyG9/NUDzsLJ\n",
              "TfSxVaaphbUhF/r6vOgRzT9VGq7i+hlCmK35L9+Ubzr4TkkTOPGSEWcAvoFQPJbY+he40jVIAteo\n",
              "qEuKDLgvv7iQBF7tFRK4njEdQfInC0CrNBnqOsa9h3tAiM2PQnX/3VFtfhFs7mVeJpPrkiKPT27n\n",
              "koYgNhs8YsEnqQEgW3x8l9tcXsiFTmSx2M7KRhNqzp2rtmYdqwezuh9XTAvgVSJlPh5kE08ScNg9\n",
              "R1jjQC2ybVLH9ElnZRfgCv0PmY4VTZ1//7tXFw16sApFg7uj8lE1lOaM0gz1Olfv1GWMSPPOgYAs\n",
              "7jyHjc/aK6BemzEX5ogB1X7iNSyIvEqZoufbqJYvi2YZ4gEHcPB49YpKmgaSxF1g5kI9b09onzkg\n",
              "YUdM+9bAxFpFU2cLYcCNHnWto86mC/3Z9HesJUAP8aA3LBatBYJK/Spvw88vaNXrNXaRN/0PMbsF\n",
              "WrAgO6Oq+G8BAEdzw99L7wrDZ9mZnRjXWHNcgPwES+yOpbQ0XQS63ccwSRhAWIH5RenEkJr0kNAz\n",
              "f86vRQ3AHeHhQAjzH+wwHqYGHwg6R3QERupaJia6mXlM1gZthXTAvvsPkenRD7Z/O2UhjFOxWFJy\n",
              "z8TindZ3tgyai02OCfrgmmz4Mc+cwn1UeohHPaQ0KG5pYWed9uH8XFegEV2Lc5GCDhbFh0kTAgWu\n",
              "FxnySLSM4Fi/+9E2FBKh2H3l3fWE44KdZI/qPOtAYlhGeIjI6qJosK+aEioR4dTLcZb34nNGjNo1\n",
              "WNeeExolc7qzosOLm4HxVx4ES2/UN4bFQLFb4aXCSvFS1YIdowh6wxhFOTTN9anV8fyvTKG8IIas\n",
              "UtUq7zzoZVD4fciM6GWYQ8d77zS73KrzhcVAp+Spy2e7ysBhPNv0J96o1CiyHuDUKWs4eQXIPEL0\n",
              "J62m9qKzr000sOIMFS84+IlYWnwPOF+wR4quO6J4di+GdtZyzJNPcHIj71ftl1YOHBFKaIMwD2MY\n",
              "O+NAm/7X0Oihpp0cAWcAAAKhQZohbEK//jhAAAGHKKQIBq67//bwWbj/+DjF5JA2yNVJo7NMMhxR\n",
              "Zoiuie7Cg5vACd01dqU8nIQgRTpWoXb8McDM/5TGE3CTy5m0JjhEiPWyPIwG6iwRF6ZWlIsiyoTQ\n",
              "QgkU7L04uvgsYoAyliD4vZfc+vUOUygg8ZXbdNZ1FA/BADO0FVvgRaxfFD/SVcih7H849ZW5szAf\n",
              "cqIOa+cZbwzsnqkw5IWeGz0ZDukbpUekJFABHiDvKPNzOwHzIC7GcUftCduM72wTFAagF4i0WipF\n",
              "w0Bn/zWrBOyNdW8DUU0sQq/5WJS7eZIyNYtAgMtMgPdWzq4mlSJB3Tq0ySNEMtBl9avCBnDUM3PH\n",
              "HV41g8nISUVyH9hscTaKhztDDk/Wg7J4fdyaox7XfOxO3hrBREJRA3ZNbqs79/JsBZOWRqplB/mT\n",
              "FyEANSXoMF+Oxoxk9PzkW587qB6F+Pwx/85iSBtZBnQBpiRSrmgtbzr6lN4S9wpgjCb+MNgngArC\n",
              "KkqTAxxwLR3S3cQORLEwyV4idSuG+5DyKBmHyhnI2B5bs7wxVOAMXx4vNLwybwcOrnz/Xq0VOYcC\n",
              "Lk/DwnkcQSmGNNWD8YyZksj4B6yQEnKFUC6CrLu41ACKgCC4xwIKaPkZTBROClK0/l03oPNgWqma\n",
              "Hyeem+Gy/HJXb9pbqtCZQ4VPfHV6VALUaIG6/rUD6NeZkTpQ7ZA9GqJioZG9s7kOXnBqJSdJccIn\n",
              "2XPs5bG8NvH9m78CAszCGUK1zpdMzaTt9exg8lC2P0Z58EtFoUE6mTqSx3+yBArGRiE5EcFW3L1+\n",
              "thMDI8qXo2+r2WfG5UpsEPTaqnsW4Fx6/5Zqb7PTRVM7ICky20+51IdpqWH45ZVguLtO+FsbNqrD\n",
              "bwEo4YAm4AAAAMBBmkI8IZMphCv//jhAAAF19q/Mj7dfkF5oKAEJqYpgraECHWJuleTp9VU+pxsd\n",
              "xQF6en9xnZkhkIiQCdN3kNF9HzhtRIKcG4k/EMZ9Y5uf+5QExWT0FC53cdKXaFe6g/5oV7cI4IF7\n",
              "xQnY/qbWRokE6lfX5gxM+LdJP3cYD6fumeQpiUJNYMPEL5sN4ZBEYa3UtcqP5Qr9nh8zayVh5/iA\n",
              "kmKmhcDKN/rAq/YxGywEAYwAn/oxkQAozBACUq5pw48AAACcQZpjSeEPJlMCFf/+OEAAAU/uiSEC\n",
              "IBzAtCC41dyvnVbj///S0aRgmg9c4vxysDtio+7x2fZ6bugJpzxjOnnEdTFwNebDLy9x4zQ3j6L6\n",
              "10JVMeVa/H36r8TH71YQbxS3HnK5FD98tqN1y/sfguoBZe5/YB4TpbD6VeuNxGS1dGA4SZiRJUI7\n",
              "Mxea6F/8DF6WB50qJEQ+udHQoBVwAAABmUGahEnhDyZTAhX//jhAAAE/9rZa5cSuD8f+gATtrv5V\n",
              "I18gQB8yp8hgo6Z8oAElHczHRA6/g6yVtQyv1r2P0+q/Pd2Uasdh0i8uGquesyBi7WdwTSrBfL7R\n",
              "07fho3IevTcESgmtYcwjccadbaRW2jHNvumK+UvHvCEvk4RfnlX/7lSJXtSkHPNaIDoc7TBgzR3+\n",
              "tjnaKUCZTiGIq4n2fKY0D4CwcZUz6nUDJU6TszL3wSZjB6bE6C/XwOx1u5Ti4+tNzohvaq59UR7b\n",
              "AinNkdQZqWbqjKuSGRFohZrfIQNweBwnipHaQvS9ro7C+2s0kUwNRZsq3p51J0BSJkICYwNuRFDa\n",
              "TP1CEdDOYHY2bs6XzS7xctOwSo5bFnqsX6NmJRSysOmpn9bbjtS8l5mYf6SzRcqQ+600lgzpiSfC\n",
              "9yjQ/dB3Or/0iGef0nuQyn6Q1US2TspZuVLOoDqcr/sGFqk7/bEkkiJL68jKPKNmjqknloDYRJ2t\n",
              "uPJ+2tX9uZy+Rn2fSs3S3pyghFKd06AaiCRV2RbL4TIAMqEAAAELQZqlSeEPJlMCFf/+OEAAASb4\n",
              "HIUTk3vCa/BwAbUKvQpZYgIuP7eqK5dcAcRncVR8xlNKNDnqgr8GlNDF6ROOIkuYOdf8yDsf/n5V\n",
              "CsKTLF9EahM40DZT52UTe1bjCiB9nliTOJTMxIYic3IriKT/KTLk2AaqsKTF0zMZZ73NVvoqivHv\n",
              "xVi7sVJfOofwh6oFyAZpoQ8r0asn3XsMYvCV110Swcaho1j/M786RFFHIRZ2cUE4ZMGPtkVpjrlJ\n",
              "6pvw54v+hGTrNYzxLbOu+Po+mQ1U2+W8ocT2TknFnFBqOths4XFUNSXbMyiaz4Pd9OAQiMy80egr\n",
              "K1b/vUJyvEzkAGV5VSC49X+eQAspAAAAm0GaxknhDyZTAhX//jhAAAENPreT7An4iIV0ACH1L1e6\n",
              "IFpVbYLCcJ3E+8lrnV684RPwLkFpVILGY/amiHVBAxYEaeJS/Q8DjCPOqFoT6JI3AdHXopem+oi3\n",
              "Zevv2Pb63138AaOfZ2BEAUjd0MXB2UZHGvHHeXEc/niADjByOzlijpfgS/GN0dVe83z3PpwYqfiq\n",
              "6l3UkaD3qQIvAAAAmEGa50nhDyZTAhX//jhAAAD4HhPULbaIJzHQAhNKtgK6y+m+2CwnCdw0Te3V\n",
              "pL/q5ClYE99lg/ofvHDNLq0rJa8OHmipF95de1uUFUjwzTJdUm3RSv0Mf7VhhvDjclcskUUXzeo8\n",
              "XM2yGC8gFV7x9jnh+mMP1WA47EarW4ORoytF/EyAnpZz34G2FYSRhLQdspgjWF/5wBLxAAABC0Gb\n",
              "CEnhDyZTAhX//jhAAADnnhOGHpugAh/H/t1//bEHJcEcvCmdoakPRDD1sD2uvtflYRNWO9dkAQWW\n",
              "4q6Ytp76JZtkHQ2umRbkFzqCIZbCPbqG++RKVmSr4oUvzuujvXU3bKPE7YnGpPsOABLeDcFB2Kvc\n",
              "X4u4LWif04Mg/tUXuyKIkytUKedCq65G6kqMlrbS+YaasopF1JGTzOzbZEJ9xPr+KHbbdlSJ3fhI\n",
              "vlul4+jUJIETbUKkei/yhKmhkljTiZBMP39aX6ovO8CiPJhr7aQ+dOX/d8N4ngzf78wzgRtLCuTa\n",
              "DnLz7b7uQ6amabqI9wlwXq47aqaiobD/E8vrOL2KqNxtFgAb0AAAANhBmylJ4Q8mUwIV//44QAAA\n",
              "18801vugGHmc29+AEQbSzlb4bKDulkYuDIq44T//tlOY2rM/OyB8BMN0cSjGZnq4LiDD/gQCgZE2\n",
              "kpZlNARPlMLwjOA4xhdLg/qRRnqOlwIfHv32Ps3cfPmAy4nskcqBn+J+rH+5dtGK9zkvrnlZ6G4H\n",
              "NL4CyrWoqsZSXa7y17EDIW1SmH/3KiugllhmoPDXB2CRdAZkf1S/ot6OelbuPnJAVuCKlqK6HmND\n",
              "vI6WdbNffNXeY03flbHxzcdFE8fGbPjtQw2FA34AAAClQZtKSeEPJlMCFf/+OEAAAMn6keOTewF1\n",
              "BQAIg2mMHw1jZHa9J6FcLzsx6Dgz3WcHd9KVXrQb5UaIjhyMfRdRx+GwilQ7PtS1tXYwBKnnQ/0b\n",
              "mroChRGw0Agg1u87hFl6MzOS9G+ffQvzHl7+/Fl+nZYK4BTKT6jR6qdl3gF86Mk69grp+32ivBAS\n",
              "WjDQNlZ1KIib+U2yd89tAkaHDH8zIDN2u5LxAAAAlUGba0nhDyZTAhX//jhAAAC6+1vjk2mHgS/Y\n",
              "ANqT///H70jBNUroXvRVWgNmS+7yfJNCXOs/GScl5MaKime5LR1asbYhM6f7ty2kwuiW4y6VVfTw\n",
              "OKoKK5+ZVTOM3r+sZkB9/b/2RGYsGcAvlKpRw9W2zTwI+dKKemf6qsyWRn4slJByXRqFs2NR6SdW\n",
              "GdV17qqViBnwAAABF0GbjEnhDyZTAhX//jhAAACsd0PUSzhxBfzACWLn8qkZUoOzfm6vOwOJ8CV+\n",
              "I7Z7oR/80j0g4qb/8tHUosLNPA5p8k/WHYNLtbNWHtqL3S4zjNtPQtmSTe2m66XvBq/YDgrYtzMB\n",
              "uRO4I50De8RX3srtIukjo/YxJNZ6WvSM0oxoXn0oP96IPsu2o0O5GZow2diATMUknsXg0vhbOR3f\n",
              "6F6cpYK0uN5ClyqJUE/yRABiRRIDOMm4AAQTz/r+dGV9txfMmHxCukH8Lvx4TBIW2/I0bif5s5Rt\n",
              "zfD82yDP1tj4J/MSboXILxDuIUNNaQwykx8hdbTuNCJa2MY7xO7SMp8YZoFxWh2FjK3QqXjugBMj\n",
              "GtKYZrgDugAAANdBm61J4Q8mUwIV//44QAAAnvdD1Cwmbsf9BAAh9S9ClL4qafekYJz6qp9TjY7i\n",
              "gL09P7jOzJC8iymAPZ7UTS1EfmXN10arFqkBMGgPuneU+spdWnx//PljYjyfk9WiViKrvgMjdZ/c\n",
              "XaVNCG3JSn3mH++SQ8SML4NOLJ09+yuNAO4T+FDYa15jKR/crw5Lpccc7+x6NH9V1LXBIqJRmaYX\n",
              "7X53Q0a8JLSQuzV9IHJ7odjRdX7f5MQRvc6CAPW/LnxH+NRGMrqJo60XuilWjPXnP/rqQcEBWwAA\n",
              "ALhBm85J4Q8mUwIV//44QAAApHtb1kwpbJ+E1+DgBLUrtzDtHXjPHBQ6QN6s0iMtxwkWPbaAU413\n",
              "t0SQVjaHeiIo7Po12CY+5O8YPGXUkvgbURUwe0ARyCQ9QXB2O2DEcaAnUnYnEiBL+kmBIszCCP96\n",
              "mGM8IqkbX9nLKtc21kxh25FLWmxqQWA8Unyo93i34JJvbYtdbzV8ho4dbd/2w8g3jFYQD1AbMcnu\n",
              "WipmiWc5oniz9fyxEIH/AAAAwEGb70nhDyZTAhX//jhAAACKn1vJ9gT8JsN2ABO2u+UjRDuAHzKn\n",
              "yGCjpnygASUdzMdED859DUXBmQxqsBQglQ5LaEn9hK41fMsoEBRJksmVS1lTeb7NA7jFQMdKfcPY\n",
              "C90FnBUmJg0vB709pDlw01UApvQgXhQUqOlYv3J8osrxvxoxB7tnjJGWBRdLx9zfafgG8pEtsSXF\n",
              "HKdaAAbl964YDB0wkKSMdsRDEMVfy+5i8keww/GahOfgpb5Kl9A/wQAAAS5BmhBJ4Q8mUwIV//44\n",
              "QAAAfs7U5PsCfhNhuwAIg///cf2wWEe/j296Kqx9ZkrXdMXJKbalGqkg+wmow1pwHOSeYvkQFp3g\n",
              "jgeax/i2a0ARTIgW20xMKtI4hxcuana+UbTVk5X3jqiJUk0FQ96a58AUo6G7XEeoH9lsBIJttzdR\n",
              "be8uncB5pMIk1cLwShYnwr5YdnqUp1ZH987W42Rc4KM3l9Dq8VLqaFHee9WN0IU9OE2BN59bUbWT\n",
              "SrhEwovUvRbKyBQGLFdTb7/+uQx2Hm5CNXThxtz9gxfONJjyTQBTorFgP2f78xtmM5mYIG8JrgQ7\n",
              "fh1hSqjRO27re9NGwW6qK1BLv2RWN9Bh4ROYADN0H+UgyBBaB2BIuuhjI2j3o70DCT5yIJpsPrAJ\n",
              "lngJmAAAALpBmjFJ4Q8mUwIV//44QAAAdo8Ca33QDnkD2j4AQ+peuW2ADOx/bBYThO4n3ktc6vXn\n",
              "CJ+BcgtKoz2GyRp4hdEAoGbRpKZJTQHT5TH8IzwOMfXS5f6ksZ6vpcKHx799j7N3Hz5gMuJ7JHKg\n",
              "Z/ifqx/uXbRivc5L655Ycrqk69d8vT6Y3NW4pRhvz7B5li5OJYwHxvzqBcZLZAhffMTNZH0Vomnr\n",
              "RPmy92LqaatewGkLIhkb/Y32YEukFBAAAACUQZpSSeEPJlMCE//98QAAAwENNg8XVw0M/YAD9tS0\n",
              "JwxHCFLE6X9B0J3E4OBigh01o94stmJ/v5/zjvO3ujVSZ49N/VAgd4G3UK4nVsuTK/BCa0JVKluG\n",
              "agBUBxeSAYrukck0Ylia2Tau3i+7WvpZeZwNnZD0JFF/jgXXhzbu46YFV7u8zWwZGQLYO4TUiwrU\n",
              "noSmgQAAAJZBmnNJ4Q8mUwIR//3hAAADAZGGMHMvTx/XKAEsrf//0ulgl5BWBpZ5J1eVefLVYnE5\n",
              "Uqnj7uhyBRoIe6N8aXCNs3OHG5m7xGaQlQsE5DcAMiXNnRJUCqLZ6ryX1Xn6rLYcgDj0kcFeVqEk\n",
              "V/jAXQZK0eXab2vZ0Y9XHXV/k8gsj9qXjS0Wsn66g1lMKHd69pFCpwre2UMAAAOLbW9vdgAAAGxt\n",
              "dmhkAAAAAAAAAAAAAAAAAAAD6AAAAfQAAQAAAQAAAAAAAAAAAAAAAAEAAAAAAAAAAAAAAAAAAAAB\n",
              "AAAAAAAAAAAAAAAAAABAAAAAAAAAAAAAAAAAAAAAAAAAAAAAAAAAAAAAAAAAAgAAArV0cmFrAAAA\n",
              "XHRraGQAAAADAAAAAAAAAAAAAAABAAAAAAAAAfQAAAAAAAAAAAAAAAAAAAAAAAEAAAAAAAAAAAAA\n",
              "AAAAAAABAAAAAAAAAAAAAAAAAABAAAAABLAAAAK8AAAAAAAkZWR0cwAAABxlbHN0AAAAAAAAAAEA\n",
              "AAH0AAACAAABAAAAAAItbWRpYQAAACBtZGhkAAAAAAAAAAAAAAAAAAAoAAAAFABVxAAAAAAALWhk\n",
              "bHIAAAAAAAAAAHZpZGUAAAAAAAAAAAAAAABWaWRlb0hhbmRsZXIAAAAB2G1pbmYAAAAUdm1oZAAA\n",
              "AAEAAAAAAAAAAAAAACRkaW5mAAAAHGRyZWYAAAAAAAAAAQAAAAx1cmwgAAAAAQAAAZhzdGJsAAAA\n",
              "uHN0c2QAAAAAAAAAAQAAAKhhdmMxAAAAAAAAAAEAAAAAAAAAAAAAAAAAAAAABLACvABIAAAASAAA\n",
              "AAAAAAABAAAAAAAAAAAAAAAAAAAAAAAAAAAAAAAAAAAAAAAAAAAAGP//AAAANmF2Y0MBZAAg/+EA\n",
              "GWdkACCs2UBLBZ+4QAAAAwBAAAAUA8YMZYABAAZo6+PLIsD9+PgAAAAAHHV1aWRraEDyXyRPxbo5\n",
              "pRvPAyPzAAAAAAAAABhzdHRzAAAAAAAAAAEAAAAUAAABAAAAABRzdHNzAAAAAAAAAAEAAAABAAAA\n",
              "GGN0dHMAAAAAAAAAAQAAABQAAAIAAAAAHHN0c2MAAAAAAAAAAQAAAAEAAAAUAAAAAQAAAGRzdHN6\n",
              "AAAAAAAAAAAAAAAUAAAR5wAAAqUAAADEAAAAoAAAAZ0AAAEPAAAAnwAAAJwAAAEPAAAA3AAAAKkA\n",
              "AACZAAABGwAAANsAAAC8AAAAxAAAATIAAAC+AAAAmAAAAJoAAAAUc3RjbwAAAAAAAAABAAAAMAAA\n",
              "AGJ1ZHRhAAAAWm1ldGEAAAAAAAAAIWhkbHIAAAAAAAAAAG1kaXJhcHBsAAAAAAAAAAAAAAAALWls\n",
              "c3QAAAAlqXRvbwAAAB1kYXRhAAAAAQAAAABMYXZmNTguNzYuMTAw\n",
              "\">\n",
              "  Your browser does not support the video tag.\n",
              "</video>"
            ]
          },
          "metadata": {},
          "execution_count": 43
        },
        {
          "output_type": "display_data",
          "data": {
            "text/plain": [
              "<Figure size 1200x700 with 1 Axes>"
            ],
            "image/png": "[encoded data removed]"
          },
          "metadata": {}
        }
      ],
      "source": [
        "from IPython.display import HTML\n",
        "\n",
        "idx = 0\n",
        "\n",
        "fig, ax = plt.subplots(facecolor='w', figsize=(12, 7))\n",
        "labels=['0', '1', '2', '3', '4', '5', '6', '7', '8','9']\n",
        "print(f\"The target label is: {targets[idx]}\")\n",
        "\n",
        "# plt.rcParams['animation.ffmpeg_path'] = 'C:\\\\path\\\\to\\\\your\\\\ffmpeg.exe'\n",
        "\n",
        "#  Plot spike count histogram\n",
        "anim = splt.spike_count(spk_rec[:, idx].detach().cpu(), fig, ax, labels=labels,\n",
        "                        animate=True, interpolate=4)\n",
        "\n",
        "HTML(anim.to_html5_video())\n",
        "# anim.save(\"spike_bar.mp4\")"
      ]
    },
    {
      "cell_type": "code",
      "source": [
        "params = net.state_dict()\n",
        "for name, param in params.items():\n",
        "    print(f\"{name}: {param.shape}\")\n"
      ],
      "metadata": {
        "id": "qXlHZyT020dh",
        "outputId": "70cb395b-7edf-4c3c-9ca4-8307456a828f",
        "colab": {
          "base_uri": "https://localhost:8080/"
        }
      },
      "execution_count": 24,
      "outputs": [
        {
          "output_type": "stream",
          "name": "stdout",
          "text": [
            "1.weight: torch.Size([24, 784])\n",
            "1.bias: torch.Size([24])\n",
            "2.threshold: torch.Size([])\n",
            "2.graded_spikes_factor: torch.Size([])\n",
            "2.reset_mechanism_val: torch.Size([])\n",
            "2.beta: torch.Size([])\n",
            "3.weight: torch.Size([10, 24])\n",
            "3.bias: torch.Size([10])\n",
            "4.threshold: torch.Size([])\n",
            "4.graded_spikes_factor: torch.Size([])\n",
            "4.reset_mechanism_val: torch.Size([])\n",
            "4.beta: torch.Size([])\n"
          ]
        }
      ]
    },
    {
      "cell_type": "code",
      "source": [
        "weights_layer1 = net[1].weight.detach().cpu().numpy().flatten()\n",
        "weights_layer2 = net[3].weight.detach().cpu().numpy().flatten()\n",
        "\n",
        "with open(\"weights.txt\", \"w\") as f:\n",
        "    f.write(\"float weights_layer1[{}] = {{\".format(len(weights_layer1)))\n",
        "    for i, weight in enumerate(weights_layer1):\n",
        "        f.write(\" {:.6f}\".format(weight))\n",
        "        if i < len(weights_layer1) - 1:\n",
        "            f.write(\",\")\n",
        "    f.write(\"};\\n\")\n",
        "\n",
        "    f.write(\"float weights_layer2[{}] = {{\".format(len(weights_layer2)))\n",
        "    for i, weight in enumerate(weights_layer2):\n",
        "        f.write(\" {:.6f}\".format(weight))\n",
        "        if i < len(weights_layer2) - 1:\n",
        "            f.write(\",\")\n",
        "    f.write(\"};\")\n"
      ],
      "metadata": {
        "id": "YEgGRCQZPS8v"
      },
      "execution_count": 54,
      "outputs": []
    },
    {
      "cell_type": "code",
      "source": [
        "bias_terms = [param for name, param in net.named_parameters() if \"bias\" in name]\n",
        "for bias in bias_terms:\n",
        "    print(bias)\n"
      ],
      "metadata": {
        "id": "TwZIxXmZ3MqC",
        "outputId": "64f85e62-ca22-4cb1-9a74-412eeae070b6",
        "colab": {
          "base_uri": "https://localhost:8080/"
        }
      },
      "execution_count": 25,
      "outputs": [
        {
          "output_type": "stream",
          "name": "stdout",
          "text": [
            "Parameter containing:\n",
            "tensor([0., 0., 0., 0., 0., 0., 0., 0., 0., 0., 0., 0., 0., 0., 0., 0., 0., 0., 0., 0., 0., 0., 0., 0.],\n",
            "       device='cuda:0')\n",
            "Parameter containing:\n",
            "tensor([0., 0., 0., 0., 0., 0., 0., 0., 0., 0.], device='cuda:0')\n"
          ]
        }
      ]
    },
    {
      "cell_type": "code",
      "source": [
        "for name, param in net.named_parameters():\n",
        "    print(f\"{name}: {param}\")\n"
      ],
      "metadata": {
        "id": "GemfM9-b-UBL",
        "outputId": "82a4ea9f-1b9b-4175-d134-4b3a1564d980",
        "colab": {
          "base_uri": "https://localhost:8080/"
        }
      },
      "execution_count": 26,
      "outputs": [
        {
          "output_type": "stream",
          "name": "stdout",
          "text": [
            "1.weight: Parameter containing:\n",
            "tensor([[-0.0221, -0.0277,  0.0328,  ..., -0.0003,  0.0293,  0.0204],\n",
            "        [-0.0027,  0.0277, -0.0327,  ...,  0.0070,  0.0276,  0.0065],\n",
            "        [-0.0278,  0.0129, -0.0260,  ..., -0.0096,  0.0110, -0.0115],\n",
            "        ...,\n",
            "        [-0.0224,  0.0040, -0.0291,  ..., -0.0265, -0.0090, -0.0210],\n",
            "        [ 0.0036,  0.0287, -0.0020,  ..., -0.0012, -0.0141,  0.0191],\n",
            "        [ 0.0243,  0.0193,  0.0350,  ..., -0.0247, -0.0325, -0.0090]],\n",
            "       device='cuda:0', requires_grad=True)\n",
            "1.bias: Parameter containing:\n",
            "tensor([0., 0., 0., 0., 0., 0., 0., 0., 0., 0., 0., 0., 0., 0., 0., 0., 0., 0., 0., 0., 0., 0., 0., 0.],\n",
            "       device='cuda:0')\n",
            "3.weight: Parameter containing:\n",
            "tensor([[-5.0626e-01,  3.0068e-01,  3.5326e-01, -7.8994e-01,  3.9695e-01,\n",
            "         -1.2011e+00, -1.1331e+00, -5.1035e-01,  4.5839e-01, -1.8503e+00,\n",
            "         -5.8399e-01, -1.1316e+00,  1.8309e-02,  8.1206e-02, -1.2991e+00,\n",
            "          7.5655e-01,  1.1793e-01, -1.5149e+00, -1.5999e+00,  4.0696e-01,\n",
            "          9.2416e-01, -8.1590e-01, -1.0526e-01,  9.9931e-01],\n",
            "        [-5.9761e-02, -1.2075e+00, -5.9438e-01,  4.2960e-01, -6.7954e-01,\n",
            "          5.4333e-01,  2.8068e-01,  1.0983e+00,  5.7310e-01, -6.1725e-01,\n",
            "         -8.7564e-01, -6.7893e-01, -9.6304e-02, -1.1960e+00,  7.5871e-01,\n",
            "         -9.7997e-01, -2.3317e-03,  1.3222e+00,  1.1003e-01, -1.0094e+00,\n",
            "         -1.0444e+00, -5.4816e-01, -1.5125e+00, -1.4805e+00],\n",
            "        [ 8.2518e-01, -5.8018e-01, -2.1482e-01,  5.9548e-01,  5.5550e-02,\n",
            "         -4.3258e-01,  1.1550e+00,  6.0456e-01, -1.0470e+00, -8.7038e-01,\n",
            "          9.4534e-01, -1.5346e+00,  3.5434e-01, -4.8521e-01,  2.0075e-01,\n",
            "         -3.3916e-01, -1.9710e-01, -2.7473e+00, -9.3819e-01, -2.1191e-01,\n",
            "         -5.5914e-01, -1.1511e+00,  2.6289e-01,  5.4469e-01],\n",
            "        [ 4.3069e-01,  7.1320e-01,  2.5348e-01,  1.1157e+00, -8.0590e-01,\n",
            "          9.1712e-01, -3.3304e-01,  4.1436e-01, -1.0222e+00, -1.3049e+00,\n",
            "         -1.1140e+00, -8.2581e-01, -1.1490e+00,  3.2802e-01,  5.6527e-01,\n",
            "         -7.8229e-01,  6.1162e-01, -1.7051e+00,  3.2062e-01,  1.9887e-01,\n",
            "          8.6611e-01,  4.0936e-01, -3.0210e-01, -7.1178e-01],\n",
            "        [-6.3542e-01, -1.1497e+00, -3.4417e-01, -7.5495e-01,  2.3559e-01,\n",
            "          2.9585e-01, -1.1793e+00, -1.8619e+00,  6.5466e-02,  1.2030e+00,\n",
            "          7.0375e-02,  7.1404e-01,  1.1955e-01, -1.7472e+00, -8.2452e-02,\n",
            "         -2.9607e-01,  5.2830e-01,  1.7112e-01,  6.7175e-02, -3.3308e-01,\n",
            "         -1.7639e+00,  7.9833e-01,  1.4112e+00,  5.5501e-01],\n",
            "        [-1.1334e+00,  7.9051e-01, -7.7263e-01, -7.6312e-01,  1.5400e+00,\n",
            "         -1.3614e+00, -8.0105e-01, -1.6565e-01, -1.8121e-01, -8.0742e-01,\n",
            "         -8.1787e-02, -8.1397e-02, -2.8360e-01,  1.2344e-01,  4.9862e-01,\n",
            "         -8.8754e-02, -4.0257e-01,  9.4156e-01,  6.3828e-01, -6.0706e-01,\n",
            "          1.1209e+00, -9.2280e-02, -1.4375e-01, -2.3300e+00],\n",
            "        [-1.5672e+00, -8.7254e-01,  3.8661e-01,  3.4555e-01,  2.9382e-01,\n",
            "          2.6830e-01, -1.4738e+00,  1.2068e+00, -4.3361e-01, -1.8080e+00,\n",
            "         -7.4833e-01,  1.1627e+00,  4.8702e-01,  1.7471e-01, -1.2337e+00,\n",
            "         -3.3509e-01, -2.7892e-01,  5.2541e-01, -1.3124e+00, -1.6625e-01,\n",
            "         -8.2947e-01, -1.0476e+00,  4.9715e-01, -6.6796e-01],\n",
            "        [ 5.7834e-01,  6.6357e-01, -1.5445e+00, -6.1225e-02, -3.4687e-01,\n",
            "          4.1518e-01,  4.3129e-01, -8.0794e-01,  7.8577e-01,  8.6029e-01,\n",
            "         -8.1967e-01, -1.2314e+00, -8.3879e-01,  8.7480e-01, -5.1240e-01,\n",
            "          1.3755e+00, -6.6876e-01, -8.1799e-01,  4.0975e-01,  2.6694e-01,\n",
            "         -1.7914e+00, -9.6889e-01, -1.5241e-02, -4.8238e-01],\n",
            "        [-1.0448e+00, -2.0040e+00,  8.9652e-01,  6.1378e-01, -1.1198e+00,\n",
            "         -8.1228e-01,  3.1711e-01, -1.6717e+00, -1.3123e-01, -1.4764e+00,\n",
            "         -1.1564e+00, -2.7619e-01,  2.3523e-01, -4.5179e-01,  2.3638e-01,\n",
            "          4.7331e-01, -6.5344e-01,  4.5148e-01, -5.7728e-01, -1.4799e-01,\n",
            "          1.0168e+00,  2.4092e-01,  4.5672e-02, -1.3176e+00],\n",
            "        [-9.4639e-01, -7.9361e-01,  7.4462e-01, -1.3049e+00, -5.5948e-01,\n",
            "          1.1595e-01,  7.9853e-02, -2.2225e+00, -1.9335e-01,  4.0026e-01,\n",
            "          5.8596e-01,  8.8336e-01, -1.0560e-01,  6.0291e-01, -1.6359e-01,\n",
            "         -5.1207e-01,  6.3457e-01,  2.3883e-01, -1.1517e-01, -5.7659e-01,\n",
            "         -1.0261e+00,  6.3227e-01, -2.8962e+00,  6.5258e-01]], device='cuda:0',\n",
            "       requires_grad=True)\n",
            "3.bias: Parameter containing:\n",
            "tensor([0., 0., 0., 0., 0., 0., 0., 0., 0., 0.], device='cuda:0')\n"
          ]
        }
      ]
    },
    {
      "cell_type": "code",
      "source": [
        "for name, param in net.named_parameters():\n",
        "    print(f\"{name}: {param}\")\n",
        "\n"
      ],
      "metadata": {
        "id": "zv25FMoyNaa4",
        "outputId": "44420750-0c8d-4375-a560-77c88cda28c0",
        "colab": {
          "base_uri": "https://localhost:8080/"
        }
      },
      "execution_count": 27,
      "outputs": [
        {
          "output_type": "stream",
          "name": "stdout",
          "text": [
            "1.weight: Parameter containing:\n",
            "tensor([[-0.0221, -0.0277,  0.0328,  ..., -0.0003,  0.0293,  0.0204],\n",
            "        [-0.0027,  0.0277, -0.0327,  ...,  0.0070,  0.0276,  0.0065],\n",
            "        [-0.0278,  0.0129, -0.0260,  ..., -0.0096,  0.0110, -0.0115],\n",
            "        ...,\n",
            "        [-0.0224,  0.0040, -0.0291,  ..., -0.0265, -0.0090, -0.0210],\n",
            "        [ 0.0036,  0.0287, -0.0020,  ..., -0.0012, -0.0141,  0.0191],\n",
            "        [ 0.0243,  0.0193,  0.0350,  ..., -0.0247, -0.0325, -0.0090]],\n",
            "       device='cuda:0', requires_grad=True)\n",
            "1.bias: Parameter containing:\n",
            "tensor([0., 0., 0., 0., 0., 0., 0., 0., 0., 0., 0., 0., 0., 0., 0., 0., 0., 0., 0., 0., 0., 0., 0., 0.],\n",
            "       device='cuda:0')\n",
            "3.weight: Parameter containing:\n",
            "tensor([[-5.0626e-01,  3.0068e-01,  3.5326e-01, -7.8994e-01,  3.9695e-01,\n",
            "         -1.2011e+00, -1.1331e+00, -5.1035e-01,  4.5839e-01, -1.8503e+00,\n",
            "         -5.8399e-01, -1.1316e+00,  1.8309e-02,  8.1206e-02, -1.2991e+00,\n",
            "          7.5655e-01,  1.1793e-01, -1.5149e+00, -1.5999e+00,  4.0696e-01,\n",
            "          9.2416e-01, -8.1590e-01, -1.0526e-01,  9.9931e-01],\n",
            "        [-5.9761e-02, -1.2075e+00, -5.9438e-01,  4.2960e-01, -6.7954e-01,\n",
            "          5.4333e-01,  2.8068e-01,  1.0983e+00,  5.7310e-01, -6.1725e-01,\n",
            "         -8.7564e-01, -6.7893e-01, -9.6304e-02, -1.1960e+00,  7.5871e-01,\n",
            "         -9.7997e-01, -2.3317e-03,  1.3222e+00,  1.1003e-01, -1.0094e+00,\n",
            "         -1.0444e+00, -5.4816e-01, -1.5125e+00, -1.4805e+00],\n",
            "        [ 8.2518e-01, -5.8018e-01, -2.1482e-01,  5.9548e-01,  5.5550e-02,\n",
            "         -4.3258e-01,  1.1550e+00,  6.0456e-01, -1.0470e+00, -8.7038e-01,\n",
            "          9.4534e-01, -1.5346e+00,  3.5434e-01, -4.8521e-01,  2.0075e-01,\n",
            "         -3.3916e-01, -1.9710e-01, -2.7473e+00, -9.3819e-01, -2.1191e-01,\n",
            "         -5.5914e-01, -1.1511e+00,  2.6289e-01,  5.4469e-01],\n",
            "        [ 4.3069e-01,  7.1320e-01,  2.5348e-01,  1.1157e+00, -8.0590e-01,\n",
            "          9.1712e-01, -3.3304e-01,  4.1436e-01, -1.0222e+00, -1.3049e+00,\n",
            "         -1.1140e+00, -8.2581e-01, -1.1490e+00,  3.2802e-01,  5.6527e-01,\n",
            "         -7.8229e-01,  6.1162e-01, -1.7051e+00,  3.2062e-01,  1.9887e-01,\n",
            "          8.6611e-01,  4.0936e-01, -3.0210e-01, -7.1178e-01],\n",
            "        [-6.3542e-01, -1.1497e+00, -3.4417e-01, -7.5495e-01,  2.3559e-01,\n",
            "          2.9585e-01, -1.1793e+00, -1.8619e+00,  6.5466e-02,  1.2030e+00,\n",
            "          7.0375e-02,  7.1404e-01,  1.1955e-01, -1.7472e+00, -8.2452e-02,\n",
            "         -2.9607e-01,  5.2830e-01,  1.7112e-01,  6.7175e-02, -3.3308e-01,\n",
            "         -1.7639e+00,  7.9833e-01,  1.4112e+00,  5.5501e-01],\n",
            "        [-1.1334e+00,  7.9051e-01, -7.7263e-01, -7.6312e-01,  1.5400e+00,\n",
            "         -1.3614e+00, -8.0105e-01, -1.6565e-01, -1.8121e-01, -8.0742e-01,\n",
            "         -8.1787e-02, -8.1397e-02, -2.8360e-01,  1.2344e-01,  4.9862e-01,\n",
            "         -8.8754e-02, -4.0257e-01,  9.4156e-01,  6.3828e-01, -6.0706e-01,\n",
            "          1.1209e+00, -9.2280e-02, -1.4375e-01, -2.3300e+00],\n",
            "        [-1.5672e+00, -8.7254e-01,  3.8661e-01,  3.4555e-01,  2.9382e-01,\n",
            "          2.6830e-01, -1.4738e+00,  1.2068e+00, -4.3361e-01, -1.8080e+00,\n",
            "         -7.4833e-01,  1.1627e+00,  4.8702e-01,  1.7471e-01, -1.2337e+00,\n",
            "         -3.3509e-01, -2.7892e-01,  5.2541e-01, -1.3124e+00, -1.6625e-01,\n",
            "         -8.2947e-01, -1.0476e+00,  4.9715e-01, -6.6796e-01],\n",
            "        [ 5.7834e-01,  6.6357e-01, -1.5445e+00, -6.1225e-02, -3.4687e-01,\n",
            "          4.1518e-01,  4.3129e-01, -8.0794e-01,  7.8577e-01,  8.6029e-01,\n",
            "         -8.1967e-01, -1.2314e+00, -8.3879e-01,  8.7480e-01, -5.1240e-01,\n",
            "          1.3755e+00, -6.6876e-01, -8.1799e-01,  4.0975e-01,  2.6694e-01,\n",
            "         -1.7914e+00, -9.6889e-01, -1.5241e-02, -4.8238e-01],\n",
            "        [-1.0448e+00, -2.0040e+00,  8.9652e-01,  6.1378e-01, -1.1198e+00,\n",
            "         -8.1228e-01,  3.1711e-01, -1.6717e+00, -1.3123e-01, -1.4764e+00,\n",
            "         -1.1564e+00, -2.7619e-01,  2.3523e-01, -4.5179e-01,  2.3638e-01,\n",
            "          4.7331e-01, -6.5344e-01,  4.5148e-01, -5.7728e-01, -1.4799e-01,\n",
            "          1.0168e+00,  2.4092e-01,  4.5672e-02, -1.3176e+00],\n",
            "        [-9.4639e-01, -7.9361e-01,  7.4462e-01, -1.3049e+00, -5.5948e-01,\n",
            "          1.1595e-01,  7.9853e-02, -2.2225e+00, -1.9335e-01,  4.0026e-01,\n",
            "          5.8596e-01,  8.8336e-01, -1.0560e-01,  6.0291e-01, -1.6359e-01,\n",
            "         -5.1207e-01,  6.3457e-01,  2.3883e-01, -1.1517e-01, -5.7659e-01,\n",
            "         -1.0261e+00,  6.3227e-01, -2.8962e+00,  6.5258e-01]], device='cuda:0',\n",
            "       requires_grad=True)\n",
            "3.bias: Parameter containing:\n",
            "tensor([0., 0., 0., 0., 0., 0., 0., 0., 0., 0.], device='cuda:0')\n",
            "Threshold: 1.0\n",
            "Beta: 0.5\n",
            "Threshold: 1.0\n",
            "Beta: 0.5\n"
          ]
        }
      ]
    },
    {
      "cell_type": "markdown",
      "metadata": {
        "id": "s0dAgWUt2o6E"
      },
      "source": [
        "# Conclusion\n",
        "You should now have a grasp of the basic features of snnTorch and be able to start running your own experiments. [In the next tutorial](https://snntorch.readthedocs.io/en/latest/tutorials/index.html), we will train a network using a neuromorphic dataset.\n",
        "\n",
        "A special thanks to [Gianfrancesco Angelini](https://github.com/gianfa) for providing valuable feedback on the tutorial.\n",
        "\n",
        "If you like this project, please consider starring ⭐ the repo on GitHub as it is the easiest and best way to support it."
      ]
    },
    {
      "cell_type": "markdown",
      "metadata": {
        "id": "q8eFeW-yeGci"
      },
      "source": [
        "# Additional Resources\n",
        "* [Check out the snnTorch GitHub project here.](https://github.com/jeshraghian/snntorch)"
      ]
    }
  ],
  "metadata": {
    "accelerator": "GPU",
    "colab": {
      "name": "snntorch_tutorial_6.ipynb",
      "provenance": [],
      "include_colab_link": true
    },
    "kernelspec": {
      "display_name": "Python 3",
      "language": "python",
      "name": "python3"
    },
    "language_info": {
      "codemirror_mode": {
        "name": "ipython",
        "version": 3
      },
      "file_extension": ".py",
      "mimetype": "text/x-python",
      "name": "python",
      "nbconvert_exporter": "python",
      "pygments_lexer": "ipython2",
      "version": "3.11.1 (v3.11.1:a7a450f84a, Dec  6 2022, 15:24:06) [Clang 13.0.0 (clang-1300.0.29.30)]"
    },
    "vscode": {
      "interpreter": {
        "hash": "aee8b7b246df8f9039afb4144a1f6fd8d2ca17a180786b69acc140d282b71a49"
      }
    }
  },
  "nbformat": 4,
  "nbformat_minor": 0
}