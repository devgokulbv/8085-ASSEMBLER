{
  "cells": [
    {
      "cell_type": "markdown",
      "metadata": {
        "id": "view-in-github",
        "colab_type": "text"
      },
      "source": [
        "<a href=\"https://colab.research.google.com/github/devgokulbv/8085-ASSEMBLER/blob/main/examples/MotorControlSNN_2out.ipynb\" target=\"_parent\"><img src=\"https://colab.research.google.com/assets/colab-badge.svg\" alt=\"Open In Colab\"/></a>"
      ]
    },
    {
      "cell_type": "markdown",
      "metadata": {
        "id": "oGgzXoJkyZiM"
      },
      "source": [
        "<a href=\"https://colab.research.google.com/github/jeshraghian/snntorch/blob/master/examples/tutorial_regression_1.ipynb\" target=\"_parent\"><img src=\"https://colab.research.google.com/assets/colab-badge.svg\" alt=\"Open In Colab\"/></a>"
      ]
    },
    {
      "cell_type": "markdown",
      "metadata": {
        "id": "RBNKFLJIobYt"
      },
      "source": [
        "[<img src='https://github.com/jeshraghian/snntorch/blob/master/docs/_static/img/snntorch_alpha_w.png?raw=true' width=\"400\">](https://github.com/jeshraghian/snntorch/)\n",
        "\n",
        "# Regression with SNNs: Part I\n",
        "## Learning Membrane Potentials with LIF Neurons\n",
        "## By Alexander Henkes (https://orcid.org/0000-0003-4615-9271) and Jason K. Eshraghian (www.ncg.ucsc.edu)\n",
        "\n",
        "\n",
        "<a href=\"https://colab.research.google.com/github/jeshraghian/snntorch/blob/master/examples/tutorial_regression_1.ipynb\">\n",
        "  <img src=\"https://colab.research.google.com/assets/colab-badge.svg\" alt=\"Open In Colab\"/>\n",
        "</a>\n",
        "\n",
        "[<img src='https://github.com/jeshraghian/snntorch/blob/master/docs/_static/img/GitHub-Mark-Light-120px-plus.png?raw=true' width=\"28\">](https://github.com/jeshraghian/snntorch/) [<img src='https://github.com/jeshraghian/snntorch/blob/master/docs/_static/img/GitHub_Logo_White.png?raw=true' width=\"80\">](https://github.com/jeshraghian/snntorch/)\n"
      ]
    },
    {
      "cell_type": "markdown",
      "metadata": {
        "id": "4blpfg4y44uO"
      },
      "source": [
        "This tutorial is based on the following papers on nonlinear regression and spiking neural networks. If you find these resources or code useful in your work, please consider citing the following sources:\n",
        "\n",
        "> <cite> [Alexander Henkes, Jason K. Eshraghian, and Henning Wessels. “Spiking neural networks for nonlinear regression\", arXiv preprint arXiv:2210.03515, October 2022.](https://arxiv.org/abs/2210.03515) </cite>\n",
        "\n",
        "> <cite> [Jason K. Eshraghian, Max Ward, Emre Neftci, Xinxin Wang, Gregor Lenz, Girish Dwivedi, Mohammed Bennamoun, Doo Seok Jeong, and Wei D. Lu. \"Training Spiking Neural Networks Using Lessons From Deep Learning\". Proceedings of the IEEE, 111(9) September 2023.](https://ieeexplore.ieee.org/abstract/document/10242251) </cite>"
      ]
    },
    {
      "cell_type": "markdown",
      "metadata": {
        "id": "lnF_PEo5obYv",
        "pycharm": {
          "name": "#%% md\n"
        }
      },
      "source": [
        "In the regression tutorial series, you will learn how to use snnTorch to perform regression using a variety of spiking neuron models, including:\n",
        "\n",
        "* Leaky Integrate-and-Fire (LIF) Neurons\n",
        "* Recurrent LIF Neurons\n",
        "* Spiking LSTMs\n",
        "\n",
        "An overview of the regression tutorial series:\n",
        "\n",
        "* Part I (this tutorial) will train the membrane potential of a LIF neuron to follow a given trajectory over time.\n",
        "* Part II will use LIF neurons with recurrent feedback to perform classification using regression-based loss functions\n",
        "* Part III will use a more complex spiking LSTM network instead to train the firing time of a neuron.\n",
        "\n",
        "\n",
        "If running in Google Colab:\n",
        "* You may connect to GPU by checking `Runtime` > `Change runtime type` > `Hardware accelerator: GPU`\n",
        "* Next, install the latest PyPi distribution of snnTorch and Tonic by clicking into the following cell and pressing `Shift+Enter`."
      ]
    },
    {
      "cell_type": "code",
      "execution_count": 1,
      "metadata": {
        "id": "6xe4AoIgyZik",
        "outputId": "dc1a953f-39fb-42ac-bbc5-90692ec3d9cc",
        "colab": {
          "base_uri": "https://localhost:8080/"
        }
      },
      "outputs": [
        {
          "output_type": "stream",
          "name": "stdout",
          "text": [
            "\u001b[?25l   \u001b[90m━━━━━━━━━━━━━━━━━━━━━━━━━━━━━━━━━━━━━━━━\u001b[0m \u001b[32m0.0/125.6 kB\u001b[0m \u001b[31m?\u001b[0m eta \u001b[36m-:--:--\u001b[0m\r\u001b[2K   \u001b[90m━━━━━━━━━━━━━━━━━━━━━━━━━━━━━━━━━━━━━━━━\u001b[0m \u001b[32m125.6/125.6 kB\u001b[0m \u001b[31m4.7 MB/s\u001b[0m eta \u001b[36m0:00:00\u001b[0m\n",
            "\u001b[?25h"
          ]
        }
      ],
      "source": [
        "!pip install snntorch --quiet"
      ]
    },
    {
      "cell_type": "code",
      "source": [
        "import pandas as pd\n",
        "\n",
        "# Load the original CSV file\n",
        "df = pd.read_csv('MotorTrainVal.csv')\n",
        "\n",
        "# Create a new DataFrame with the desired columns\n",
        "new_df = pd.DataFrame()\n",
        "\n",
        "# Loop through the rows in chunks of 9\n",
        "for i in range(10000):\n",
        "    chunk = df.iloc[i:i+9, :]\n",
        "    new_row = pd.concat([chunk.iloc[j, :4] for j in range(9)], axis=0).to_frame().T\n",
        "    new_row['col37'] = chunk.iloc[8, 4]\n",
        "    new_row['col38'] = chunk.iloc[8, 5]\n",
        "    new_df = pd.concat([new_df, new_row], ignore_index=True)\n",
        "\n",
        "# Save the new DataFrame to a CSV file\n",
        "new_df.to_csv('new.csv', index=False)\n"
      ],
      "metadata": {
        "id": "UH6Kfyo6z0Nr"
      },
      "execution_count": 128,
      "outputs": []
    },
    {
      "cell_type": "code",
      "execution_count": 129,
      "metadata": {
        "id": "wE-J7Gi0yZip"
      },
      "outputs": [],
      "source": [
        "# imports\n",
        "import snntorch as snn\n",
        "from snntorch import surrogate\n",
        "from snntorch import functional as SF\n",
        "from snntorch import utils\n",
        "\n",
        "import torch\n",
        "import torch.nn as nn\n",
        "from torch.utils.data import DataLoader\n",
        "from torchvision import datasets, transforms\n",
        "import torch.nn.functional as F\n",
        "\n",
        "import matplotlib.pyplot as plt\n",
        "import numpy as np\n",
        "import itertools\n",
        "import random\n",
        "import statistics\n",
        "import tqdm"
      ]
    },
    {
      "cell_type": "markdown",
      "metadata": {
        "id": "9cufZenAyZir"
      },
      "source": [
        "Fix the random seed:"
      ]
    },
    {
      "cell_type": "code",
      "execution_count": 130,
      "metadata": {
        "id": "KJY63SGXyZiv"
      },
      "outputs": [],
      "source": [
        "# Seed\n",
        "torch.manual_seed(0)\n",
        "random.seed(0)\n",
        "np.random.seed(0)"
      ]
    },
    {
      "cell_type": "markdown",
      "metadata": {
        "id": "peyaw6VvyZix"
      },
      "source": [
        "# 1. Spiking Regression\n",
        "## 1.1 A Quick Background on Linear and Nonlinear Regression"
      ]
    },
    {
      "cell_type": "markdown",
      "metadata": {
        "id": "rQGVWEEnyZiz"
      },
      "source": [
        "The tutorials so far have focused on multi-class classification problems. But if you've made it this far, then it's probably safe to say that your brain can do more than distinguish cats and dogs. You're amazing and we believe in you.\n",
        "\n",
        "An alternative problem is regression, where multiple input features $x_i$ are used to estimate an output on a continuous number line $y \\in \\mathbb{R}$.\n",
        "A classic example is estimating the price of a house, given a bunch of inputs such as land size, number of rooms, and the local demand for avocado toast.\n",
        "\n",
        "The objective of a regression problem is often the mean-square error:\n",
        "\n",
        "$$\\mathcal{L}_{MSE} = \\frac{1}{n}\\sum_{i=1}^n(y_i-\\hat{y_i})^2$$\n",
        "\n",
        "or the mean absolute error:\n",
        "\n",
        "$$\\mathcal{L}_{L1} = \\frac{1}{n}\\sum_{i=1}^n|y_i-\\hat{y_i}|$$\n",
        "\n",
        "\n",
        "where $y$ is the target and $\\hat{y}$ is the predicted value.\n",
        "\n",
        "One of the challenges of linear regression is that it can only use linear weightings of input features in predicting the output.\n",
        "Using a neural network trained using the mean-square error as the cost function allows us to perform nonlinear regression on more complex data."
      ]
    },
    {
      "cell_type": "markdown",
      "metadata": {
        "id": "QN-6Uhq6yZi0"
      },
      "source": [
        "## 1.2 Spiking Neurons in Regression\n",
        "\n",
        "Spikes are a type of nonlinearity that can also be used to learn more complex regression tasks.\n",
        "But if spiking neurons only emit spikes that are represented with 1's and 0's, then how might we perform regression? I'm glad you asked! Here are a few ideas:\n",
        "\n",
        "* Use the total number of spikes (a rate-based code)\n",
        "* Use the time of the spike (a temporal/latency-based code)\n",
        "* Use the distance between pairs of spikes (i.e., using the interspike interval)\n",
        "\n",
        "Or perhaps you pierce the neuron membrane with an electrical probe and decide to use the membrane potential instead, which is a continuous value.\n",
        "\n",
        "> Note: is it cheating to directly access the membrane potential, i.e., something that is meant to be a 'hidden state'? At this time, there isn't much consensus in the neuromorphic community. Despite being a high precision variable in many models (and thus computationally expensive), the membrane potential is commonly used in loss functions as it is a more 'continuous' variable compared to discrete time steps or spike counts. While it costs more in terms of power and latency to operate on higher-precision values, the impact might be minor if you have a small output layer, or if the output does not need to be scaled by weights. It really is a task-specific and hardware-specific question."
      ]
    },
    {
      "cell_type": "markdown",
      "metadata": {
        "id": "gLvhYqUfyZi1"
      },
      "source": [
        "# 2. Setting up the Regression Problem\n",
        "\n",
        "## 2.1 Create Dataset\n",
        "\n",
        "Let's construct a simple toy problem. The following class returns the function we are hoping to learn. If `mode = \"linear\"`, a straight line with a random slope is generated. If `mode = \"sqrt\"`, then the square root of this straight line is taken instead.\n",
        "\n",
        "Our goal: train a leaky integrate-and-fire neuron such that its membrane potential follows the sample over time."
      ]
    },
    {
      "cell_type": "code",
      "source": [
        "import torch\n",
        "from torch.utils.data import Dataset, DataLoader\n",
        "import numpy as np\n",
        "import pandas as pd\n",
        "\n",
        "class CustomDataset(Dataset):\n",
        "    \"\"\"Simple regression dataset.\"\"\"\n",
        "\n",
        "    def __init__(self, dataset, labels):\n",
        "        \"\"\"Linear relation between input and output\"\"\"\n",
        "        self.dataset = dataset\n",
        "        self.labels = labels\n",
        "\n",
        "    def __len__(self):\n",
        "        \"\"\"Number of samples.\"\"\"\n",
        "        return self.dataset.shape[0]\n",
        "\n",
        "    def __getitem__(self, idx):\n",
        "        \"\"\"General implementation, but we only have one sample.\"\"\"\n",
        "        return self.dataset[idx, :], self.labels[idx, :]\n",
        "\n",
        "# Load the data from the CSV file\n",
        "data = pd.read_csv('MotorTrainVal.csv')\n",
        "\n",
        "# Get the input features and the label\n",
        "input_features = data.iloc[:, :4].values.astype(np.float32)\n",
        "label = data.iloc[:, 4:6].values.astype(np.float32)\n",
        "\n",
        "# Create custom dataset instance\n",
        "dataset = CustomDataset(input_features, label)\n",
        "\n",
        "# Create DataLoader instance\n",
        "batch_size = 100\n",
        "dataloader = DataLoader(dataset=dataset, batch_size=batch_size, drop_last=True)\n"
      ],
      "metadata": {
        "id": "GoGyMiabSdNm"
      },
      "execution_count": 149,
      "outputs": []
    },
    {
      "cell_type": "code",
      "source": [],
      "metadata": {
        "id": "aswkBPtSs4y7"
      },
      "execution_count": null,
      "outputs": []
    },
    {
      "cell_type": "markdown",
      "metadata": {
        "id": "vYT-mHT3yZi3"
      },
      "source": [
        "To see what a random sample looks like, run the following code-block:"
      ]
    },
    {
      "cell_type": "markdown",
      "metadata": {
        "id": "pDWzT_KLyZi5"
      },
      "source": [
        "## 2.2 Create DataLoader\n",
        "\n",
        "The Dataset objects created above load data into memory, and the DataLoader will serve it up in batches. DataLoaders in PyTorch are a handy interface for passing data into a network. They return an iterator divided up into mini-batches of size ``batch_size``."
      ]
    },
    {
      "cell_type": "markdown",
      "metadata": {
        "id": "uyIKnkENyZi6"
      },
      "source": [
        "# 3. Construct Model\n",
        "\n",
        "Let us try a simple network using only leaky integrate-and-fire layers without recurrence.\n",
        "Subsequent tutorials will show how to use more complex neuron types with higher-order recurrence.\n",
        "These architectures should work just fine, if there is no strong time dependency in the data, i.e., the next time step has weak dependence on the previous one.\n",
        "\n",
        "A few notes on the architecture below:\n",
        "\n",
        "* Setting `learn_beta=True` enables the decay rate `beta` to be a learnable parameter\n",
        "* Each neuron has a unique, and randomly initialized threshold and decay rate\n",
        "* The output layer has the reset mechanism disabled by setting `reset_mechanism=\"none\"` as we will not use any output spikes"
      ]
    },
    {
      "cell_type": "code",
      "execution_count": 198,
      "metadata": {
        "id": "ByMjZOutyZi6"
      },
      "outputs": [],
      "source": [
        "# Define Network\n",
        "beta = 0.5\n",
        "spike_grad = surrogate.fast_sigmoid(slope=25)\n",
        "class Net(nn.Module):\n",
        "    def __init__(self):\n",
        "        super().__init__()\n",
        "\n",
        "        # Initialize layers\n",
        "        self.fc1 = nn.Linear(4, 128)\n",
        "        self.lif1 = snn.Leaky(beta=beta, threshold =0.05,spike_grad=spike_grad,reset_mechanism = \"subtract\")\n",
        "        self.fc2 = nn.Linear(128, 2)\n",
        "        self.lif2 = snn.Leaky(beta=beta, threshold = 0.05,spike_grad=spike_grad,reset_mechanism = \"none\")\n",
        "\n",
        "    def forward(self, x):\n",
        "\n",
        "        # Initialize hidden states and outputs at t=0\n",
        "        mem1 = self.lif1.init_leaky()\n",
        "        mem2 = self.lif2.init_leaky()\n",
        "\n",
        "        cur1 = self.fc1(x)\n",
        "        spk1, mem1 = self.lif1(cur1, mem1)\n",
        "\n",
        "        cur2 = self.fc2(spk1)\n",
        "        spk2, mem2 = self.lif2(cur2, mem2)\n",
        "        return spk2, mem2\n",
        "\n",
        "\n",
        "\n"
      ]
    },
    {
      "cell_type": "markdown",
      "metadata": {
        "id": "ImfXEzZ6yZi7"
      },
      "source": [
        "Instantiate the network below:"
      ]
    },
    {
      "cell_type": "code",
      "execution_count": 199,
      "metadata": {
        "id": "k1eHFqsuyZi8"
      },
      "outputs": [],
      "source": [
        "device = torch.device(\"cuda\") if torch.cuda.is_available() else torch.device(\"cpu\")\n",
        "model = Net().to(device)\n",
        "for module in model.modules():\n",
        "    if isinstance(module, nn.Conv2d):\n",
        "        module.bias.requires_grad = False\n",
        "        module.bias.data.zero_()\n",
        "    elif isinstance(module, nn.Linear):\n",
        "        module.bias.requires_grad = False\n",
        "        module.bias.data.zero_()"
      ]
    },
    {
      "cell_type": "code",
      "source": [
        "print(model.fc1.weight)\n",
        "print(model.fc1.bias)\n",
        "print(model.fc2.bias)\n",
        "\n"
      ],
      "metadata": {
        "id": "Q5SGpHDT4erU",
        "outputId": "e3ad6a13-42c5-4210-ef2e-ef3df596cb39",
        "colab": {
          "base_uri": "https://localhost:8080/"
        }
      },
      "execution_count": 200,
      "outputs": [
        {
          "output_type": "stream",
          "name": "stdout",
          "text": [
            "Parameter containing:\n",
            "tensor([[-1.0035e-01, -1.2593e-01, -5.8852e-02, -1.5380e-02],\n",
            "        [-1.7410e-01,  3.3486e-01,  2.5067e-01,  4.9339e-01],\n",
            "        [-4.7866e-01, -4.3260e-01, -2.5021e-01,  9.7824e-03],\n",
            "        [ 9.3413e-02,  2.8712e-01, -4.4519e-01, -3.0999e-01],\n",
            "        [ 3.0274e-01, -7.2507e-02, -3.9211e-01, -4.2882e-01],\n",
            "        [ 4.6951e-01, -2.0558e-02,  3.1259e-01, -4.3537e-01],\n",
            "        [-2.7867e-02,  1.3380e-01, -3.9256e-01,  1.1296e-01],\n",
            "        [-3.9958e-01, -4.8487e-01,  1.2278e-02,  3.1111e-01],\n",
            "        [ 1.9612e-03, -1.2691e-01,  2.6936e-01,  3.2230e-01],\n",
            "        [-2.4642e-02,  2.4276e-01, -2.6856e-01, -4.1692e-01],\n",
            "        [ 4.4243e-02, -2.7273e-01,  2.6815e-01, -9.8222e-02],\n",
            "        [-7.9230e-02, -3.2376e-01, -7.2872e-02,  9.1011e-02],\n",
            "        [ 2.8613e-01, -2.6809e-01, -1.1190e-01, -3.0279e-01],\n",
            "        [-4.9505e-02, -1.3347e-01,  2.0667e-01,  2.5071e-02],\n",
            "        [ 2.4653e-01,  2.7778e-01, -4.8821e-01,  1.2975e-01],\n",
            "        [-1.0894e-01, -1.7366e-02,  8.8068e-03,  3.8681e-01],\n",
            "        [-9.4410e-02, -4.8238e-01,  8.9880e-02, -1.2526e-01],\n",
            "        [ 4.2488e-02, -3.7173e-01, -2.3869e-01,  5.0325e-02],\n",
            "        [ 4.9686e-01, -4.8655e-01,  3.0413e-01,  1.6708e-01],\n",
            "        [-3.4128e-01,  4.8794e-01, -2.4496e-01, -9.7116e-02],\n",
            "        [ 1.0700e-01,  2.7418e-01, -9.3955e-02,  4.3651e-01],\n",
            "        [-1.4746e-01, -3.4713e-01, -3.2733e-01,  6.7214e-02],\n",
            "        [-3.6291e-01,  3.0725e-01, -3.8535e-01,  8.6162e-02],\n",
            "        [-1.1691e-01,  4.0753e-01,  2.8656e-01,  1.0139e-04],\n",
            "        [ 1.5476e-02, -1.4957e-01, -1.7133e-01,  3.7113e-01],\n",
            "        [-2.2191e-01,  4.7978e-01, -4.4834e-01,  1.3390e-01],\n",
            "        [-2.1727e-01,  4.0703e-01, -2.0696e-02,  5.5967e-02],\n",
            "        [ 3.2808e-01, -9.3080e-02, -4.3839e-01,  3.6171e-01],\n",
            "        [ 1.1542e-01, -2.8579e-02, -2.3159e-01,  1.4311e-01],\n",
            "        [ 2.8014e-01, -3.0611e-01, -1.4817e-01,  1.7772e-01],\n",
            "        [-3.0806e-01,  4.1586e-01,  4.5359e-01, -1.2255e-01],\n",
            "        [ 4.0306e-01, -3.2747e-01,  4.8458e-02, -3.1159e-01],\n",
            "        [ 2.0511e-01,  3.3509e-01, -3.2257e-01, -3.3129e-01],\n",
            "        [ 2.6503e-01,  2.9324e-01, -3.6044e-01, -1.6857e-02],\n",
            "        [-3.3684e-01,  1.1128e-01, -3.1886e-01,  2.7195e-01],\n",
            "        [-1.7991e-01,  4.4744e-01, -1.9659e-01, -2.8599e-01],\n",
            "        [-9.7627e-02,  4.1713e-01,  2.3723e-01, -4.1912e-02],\n",
            "        [-3.1180e-01, -1.1377e-01,  4.7106e-01,  1.1066e-01],\n",
            "        [ 3.9007e-01,  3.1340e-01,  3.8702e-02, -3.6958e-01],\n",
            "        [ 4.4404e-01,  5.0953e-02,  1.0723e-01, -3.1107e-01],\n",
            "        [ 1.2767e-01, -9.3884e-02, -3.8535e-01,  4.4641e-01],\n",
            "        [-1.2379e-01, -2.9211e-01, -3.7617e-01,  4.9366e-01],\n",
            "        [ 4.4116e-01,  4.7593e-01,  4.8027e-01, -2.8946e-01],\n",
            "        [-4.7909e-01,  3.5609e-01, -4.0001e-01, -1.1488e-01],\n",
            "        [-9.4408e-03, -1.7975e-01, -2.5426e-01, -1.7047e-01],\n",
            "        [ 3.3329e-01,  4.8873e-01,  1.5687e-01, -3.8926e-01],\n",
            "        [-2.4898e-01, -5.4759e-02,  1.5581e-01, -3.5931e-01],\n",
            "        [ 4.7786e-01, -1.9503e-01, -2.9547e-01, -4.6853e-01],\n",
            "        [-3.8829e-01,  1.4691e-01, -2.7723e-01, -2.9336e-01],\n",
            "        [ 9.3538e-02,  4.3614e-01,  2.1845e-01,  4.1518e-01],\n",
            "        [ 9.7768e-02, -2.8791e-01,  1.4546e-01,  2.2893e-01],\n",
            "        [-3.0578e-01,  4.4030e-04,  3.7968e-01, -2.4246e-01],\n",
            "        [ 3.5361e-01,  3.4299e-01, -2.1240e-01,  3.3829e-01],\n",
            "        [ 4.3588e-01,  1.3175e-01, -1.5442e-01, -2.6440e-01],\n",
            "        [ 2.1714e-01, -4.2506e-01,  9.1935e-02, -3.7614e-01],\n",
            "        [ 1.6141e-01,  2.8589e-01,  3.6802e-01,  4.0725e-01],\n",
            "        [-4.8627e-01,  4.8129e-01,  2.5851e-01, -3.2943e-01],\n",
            "        [ 4.8804e-01, -3.7103e-01,  3.5606e-01,  2.4488e-01],\n",
            "        [-3.7921e-01,  7.5522e-02, -2.5921e-01, -4.6201e-01],\n",
            "        [ 1.6837e-01, -2.1525e-01, -2.7795e-01,  2.5744e-01],\n",
            "        [-1.3017e-01,  2.2311e-01, -1.8640e-01, -2.4234e-01],\n",
            "        [ 2.6175e-01,  2.5852e-01, -3.5092e-01,  8.7620e-02],\n",
            "        [ 2.1417e-01, -1.5536e-01, -2.4682e-01,  4.0814e-01],\n",
            "        [ 4.1268e-01,  1.2728e-01,  3.6534e-01, -3.3434e-01],\n",
            "        [-8.8881e-02,  4.9259e-01, -2.7308e-01, -8.4534e-02],\n",
            "        [-3.0289e-01, -3.3711e-01,  1.7313e-01, -4.6431e-01],\n",
            "        [ 4.7643e-01, -6.7146e-02, -4.2155e-01, -3.2547e-01],\n",
            "        [-3.2570e-01,  3.9268e-01,  4.8746e-01,  2.2215e-01],\n",
            "        [-2.7009e-02,  7.7850e-04, -2.3463e-01,  3.9886e-01],\n",
            "        [ 2.6724e-01,  1.6530e-01,  2.6743e-01,  4.7342e-01],\n",
            "        [-3.4418e-01, -1.3622e-01, -2.4765e-01, -2.3027e-01],\n",
            "        [ 5.1616e-02,  4.6847e-01,  2.9642e-01, -1.4115e-01],\n",
            "        [-4.8873e-01,  1.0152e-01,  3.4943e-01,  3.6371e-01],\n",
            "        [-3.3955e-01,  3.1916e-01, -4.1038e-01,  1.0068e-03],\n",
            "        [-4.6702e-01, -2.0089e-01, -2.3544e-01, -4.0663e-01],\n",
            "        [-2.5212e-01,  3.0375e-01, -2.4623e-01,  5.2838e-02],\n",
            "        [-4.6909e-01,  1.0459e-01,  3.0808e-01,  9.8350e-02],\n",
            "        [ 2.8039e-01, -1.0913e-01,  1.8078e-01, -1.3288e-01],\n",
            "        [ 3.3546e-01, -2.3646e-01,  1.6718e-01, -5.6685e-02],\n",
            "        [ 1.6625e-01,  6.3846e-02,  4.4863e-01,  2.2597e-01],\n",
            "        [ 2.6694e-01,  1.2145e-01,  1.6082e-01, -2.2333e-01],\n",
            "        [ 2.6040e-01,  9.8933e-02, -1.3042e-01,  3.7301e-02],\n",
            "        [ 6.2683e-02,  4.5221e-01,  2.9181e-01, -2.9212e-01],\n",
            "        [ 4.6363e-01, -5.6403e-02,  3.4451e-01, -2.4787e-01],\n",
            "        [-6.1514e-02, -5.9545e-02,  3.8195e-01, -2.3099e-01],\n",
            "        [-4.1785e-01, -4.1687e-01,  4.3939e-01,  4.1117e-01],\n",
            "        [-3.5624e-02,  2.2051e-01, -1.1195e-01, -2.6031e-01],\n",
            "        [-4.3616e-01,  2.5262e-02,  2.8295e-01,  2.3826e-02],\n",
            "        [ 4.6011e-01, -4.5542e-01, -4.5758e-01,  4.7222e-01],\n",
            "        [ 7.9121e-02,  4.4105e-02, -4.3417e-01,  4.5060e-01],\n",
            "        [ 4.2677e-01, -2.8751e-02,  2.6252e-01,  3.4448e-01],\n",
            "        [-3.0965e-02, -3.6502e-01, -4.6778e-02,  4.0581e-01],\n",
            "        [-1.5843e-01, -3.2645e-01, -4.5732e-01,  4.3744e-01],\n",
            "        [ 3.5847e-01,  3.7468e-01, -1.0722e-01,  3.3489e-01],\n",
            "        [-3.8986e-01,  3.7337e-01,  6.7563e-02, -2.6538e-01],\n",
            "        [-3.8948e-01, -2.6191e-01, -3.8531e-01,  2.1299e-01],\n",
            "        [ 3.8662e-02,  3.3541e-01, -3.3531e-01, -3.6964e-01],\n",
            "        [-6.4932e-02,  4.1052e-01, -1.5893e-01,  4.9424e-01],\n",
            "        [ 4.1435e-01,  2.5287e-01,  4.3725e-01, -4.3442e-01],\n",
            "        [ 3.3907e-01, -4.5808e-01, -4.7596e-01,  9.2776e-02],\n",
            "        [ 1.0697e-01, -2.3582e-01,  3.5618e-01,  2.6679e-01],\n",
            "        [-2.3125e-01,  4.6796e-01,  3.9350e-01, -4.4907e-01],\n",
            "        [-1.6482e-01, -3.3691e-01,  3.0229e-01,  1.1735e-01],\n",
            "        [-1.1599e-01,  9.0160e-02, -3.9060e-01, -2.1070e-01],\n",
            "        [ 2.3998e-01, -4.4063e-02,  7.8898e-02,  1.8183e-01],\n",
            "        [ 2.6889e-01, -2.8183e-02,  3.8531e-01, -5.7243e-02],\n",
            "        [-3.5347e-01,  1.5656e-01, -1.3410e-01, -4.1900e-01],\n",
            "        [-4.3585e-02, -3.7869e-01,  2.4226e-01,  3.3133e-01],\n",
            "        [ 2.4960e-01,  2.7515e-01,  4.0551e-01,  1.6279e-01],\n",
            "        [ 2.4276e-01,  3.9792e-01, -2.1520e-01, -2.4953e-01],\n",
            "        [ 1.6244e-01,  2.3765e-01,  3.4326e-01,  4.4104e-01],\n",
            "        [-4.9315e-01, -4.7252e-01,  3.3415e-01, -3.6113e-01],\n",
            "        [ 2.2910e-01,  1.1890e-01,  4.8272e-01, -1.1051e-01],\n",
            "        [ 3.8493e-01,  1.6741e-01, -2.4151e-01, -2.5974e-01],\n",
            "        [-3.5504e-01,  7.9006e-02, -3.8576e-01, -2.3753e-01],\n",
            "        [-4.8702e-02,  3.2476e-01, -4.2637e-01, -2.7164e-01],\n",
            "        [-3.5603e-01, -4.0327e-01, -2.6792e-01,  3.0264e-01],\n",
            "        [-9.2144e-02, -1.3236e-01, -2.4270e-02, -2.4044e-01],\n",
            "        [ 4.6351e-01, -1.5521e-01, -3.7940e-01, -9.6639e-02],\n",
            "        [ 1.1379e-01, -4.7312e-01,  3.1199e-01, -1.4859e-01],\n",
            "        [-2.7290e-01, -3.3239e-01,  2.9169e-01, -1.4478e-01],\n",
            "        [-1.7596e-01,  1.2008e-01,  4.5272e-01,  2.7086e-01],\n",
            "        [ 3.8987e-01, -4.0467e-01, -1.1052e-01, -1.2951e-01],\n",
            "        [ 4.3996e-01,  4.6935e-01, -1.9206e-01, -3.9352e-01],\n",
            "        [ 3.9301e-01, -1.8613e-01, -4.3925e-01,  4.8387e-01],\n",
            "        [ 3.7682e-01,  6.2249e-02, -1.3524e-01,  2.8691e-01],\n",
            "        [-4.7593e-01,  9.2646e-02, -1.3341e-01, -9.9339e-02],\n",
            "        [ 1.4367e-01,  2.7659e-01, -1.7989e-01,  2.2561e-01]], device='cuda:0',\n",
            "       requires_grad=True)\n",
            "Parameter containing:\n",
            "tensor([0., 0., 0., 0., 0., 0., 0., 0., 0., 0., 0., 0., 0., 0., 0., 0., 0., 0., 0., 0., 0., 0., 0., 0.,\n",
            "        0., 0., 0., 0., 0., 0., 0., 0., 0., 0., 0., 0., 0., 0., 0., 0., 0., 0., 0., 0., 0., 0., 0., 0.,\n",
            "        0., 0., 0., 0., 0., 0., 0., 0., 0., 0., 0., 0., 0., 0., 0., 0., 0., 0., 0., 0., 0., 0., 0., 0.,\n",
            "        0., 0., 0., 0., 0., 0., 0., 0., 0., 0., 0., 0., 0., 0., 0., 0., 0., 0., 0., 0., 0., 0., 0., 0.,\n",
            "        0., 0., 0., 0., 0., 0., 0., 0., 0., 0., 0., 0., 0., 0., 0., 0., 0., 0., 0., 0., 0., 0., 0., 0.,\n",
            "        0., 0., 0., 0., 0., 0., 0., 0.], device='cuda:0')\n",
            "Parameter containing:\n",
            "tensor([0., 0.], device='cuda:0')\n"
          ]
        }
      ]
    },
    {
      "cell_type": "markdown",
      "metadata": {
        "id": "cbfoMYMWyZi9"
      },
      "source": [
        "Let's observe the behavior of the output neuron before it has been trained and how it compares to the target function:"
      ]
    },
    {
      "cell_type": "markdown",
      "metadata": {
        "id": "iiV6JXH7yZjA"
      },
      "source": [
        "As the network has not yet been trained, it is unsurprising the membrane potential follows a senseless evolution."
      ]
    },
    {
      "cell_type": "markdown",
      "metadata": {
        "id": "c9cyn5Y3yZjB"
      },
      "source": [
        "# 4. Construct Training Loop\n",
        "\n",
        "We call `torch.nn.MSELoss()` to minimize the mean square error between the membrane potential and the target evolution.\n",
        "\n",
        "We iterate over the same sample of data."
      ]
    },
    {
      "cell_type": "code",
      "execution_count": 207,
      "metadata": {
        "colab": {
          "base_uri": "https://localhost:8080/",
          "height": 550
        },
        "id": "cLbiGhFXyZjC",
        "outputId": "b80eee63-ebaf-426c-a953-a9c4ff94edb5"
      },
      "outputs": [
        {
          "output_type": "stream",
          "name": "stdout",
          "text": [
            "Loss after epoch 1: Train - 1.800e-03\n",
            "Loss after epoch 2: Train - 2.007e-03\n",
            "Loss after epoch 3: Train - 2.011e-03\n",
            "Loss after epoch 4: Train - 2.132e-03\n",
            "Loss after epoch 5: Train - 2.083e-03\n",
            "Loss after epoch 6: Train - 2.125e-03\n",
            "Loss after epoch 7: Train - 2.016e-03\n"
          ]
        },
        {
          "output_type": "error",
          "ename": "KeyboardInterrupt",
          "evalue": "",
          "traceback": [
            "\u001b[0;31m---------------------------------------------------------------------------\u001b[0m",
            "\u001b[0;31mKeyboardInterrupt\u001b[0m                         Traceback (most recent call last)",
            "\u001b[0;32m<ipython-input-207-2052769bbdcb>\u001b[0m in \u001b[0;36m<cell line: 0>\u001b[0;34m()\u001b[0m\n\u001b[1;32m     35\u001b[0m \u001b[0;34m\u001b[0m\u001b[0m\n\u001b[1;32m     36\u001b[0m         \u001b[0;31m# Calculate gradients\u001b[0m\u001b[0;34m\u001b[0m\u001b[0;34m\u001b[0m\u001b[0m\n\u001b[0;32m---> 37\u001b[0;31m         \u001b[0mloss_val\u001b[0m\u001b[0;34m.\u001b[0m\u001b[0mbackward\u001b[0m\u001b[0;34m(\u001b[0m\u001b[0;34m)\u001b[0m\u001b[0;34m\u001b[0m\u001b[0;34m\u001b[0m\u001b[0m\n\u001b[0m\u001b[1;32m     38\u001b[0m \u001b[0;34m\u001b[0m\u001b[0m\n\u001b[1;32m     39\u001b[0m         \u001b[0;31m# Update weights\u001b[0m\u001b[0;34m\u001b[0m\u001b[0;34m\u001b[0m\u001b[0m\n",
            "\u001b[0;32m/usr/local/lib/python3.11/dist-packages/torch/_tensor.py\u001b[0m in \u001b[0;36mbackward\u001b[0;34m(self, gradient, retain_graph, create_graph, inputs)\u001b[0m\n\u001b[1;32m    624\u001b[0m                 \u001b[0minputs\u001b[0m\u001b[0;34m=\u001b[0m\u001b[0minputs\u001b[0m\u001b[0;34m,\u001b[0m\u001b[0;34m\u001b[0m\u001b[0;34m\u001b[0m\u001b[0m\n\u001b[1;32m    625\u001b[0m             )\n\u001b[0;32m--> 626\u001b[0;31m         torch.autograd.backward(\n\u001b[0m\u001b[1;32m    627\u001b[0m             \u001b[0mself\u001b[0m\u001b[0;34m,\u001b[0m \u001b[0mgradient\u001b[0m\u001b[0;34m,\u001b[0m \u001b[0mretain_graph\u001b[0m\u001b[0;34m,\u001b[0m \u001b[0mcreate_graph\u001b[0m\u001b[0;34m,\u001b[0m \u001b[0minputs\u001b[0m\u001b[0;34m=\u001b[0m\u001b[0minputs\u001b[0m\u001b[0;34m\u001b[0m\u001b[0;34m\u001b[0m\u001b[0m\n\u001b[1;32m    628\u001b[0m         )\n",
            "\u001b[0;32m/usr/local/lib/python3.11/dist-packages/torch/autograd/__init__.py\u001b[0m in \u001b[0;36mbackward\u001b[0;34m(tensors, grad_tensors, retain_graph, create_graph, grad_variables, inputs)\u001b[0m\n\u001b[1;32m    345\u001b[0m     \u001b[0;31m# some Python versions print out the first line of a multi-line function\u001b[0m\u001b[0;34m\u001b[0m\u001b[0;34m\u001b[0m\u001b[0m\n\u001b[1;32m    346\u001b[0m     \u001b[0;31m# calls in the traceback and some print out the last line\u001b[0m\u001b[0;34m\u001b[0m\u001b[0;34m\u001b[0m\u001b[0m\n\u001b[0;32m--> 347\u001b[0;31m     _engine_run_backward(\n\u001b[0m\u001b[1;32m    348\u001b[0m         \u001b[0mtensors\u001b[0m\u001b[0;34m,\u001b[0m\u001b[0;34m\u001b[0m\u001b[0;34m\u001b[0m\u001b[0m\n\u001b[1;32m    349\u001b[0m         \u001b[0mgrad_tensors_\u001b[0m\u001b[0;34m,\u001b[0m\u001b[0;34m\u001b[0m\u001b[0;34m\u001b[0m\u001b[0m\n",
            "\u001b[0;32m/usr/local/lib/python3.11/dist-packages/torch/autograd/graph.py\u001b[0m in \u001b[0;36m_engine_run_backward\u001b[0;34m(t_outputs, *args, **kwargs)\u001b[0m\n\u001b[1;32m    821\u001b[0m         \u001b[0munregister_hooks\u001b[0m \u001b[0;34m=\u001b[0m \u001b[0m_register_logging_hooks_on_whole_graph\u001b[0m\u001b[0;34m(\u001b[0m\u001b[0mt_outputs\u001b[0m\u001b[0;34m)\u001b[0m\u001b[0;34m\u001b[0m\u001b[0;34m\u001b[0m\u001b[0m\n\u001b[1;32m    822\u001b[0m     \u001b[0;32mtry\u001b[0m\u001b[0;34m:\u001b[0m\u001b[0;34m\u001b[0m\u001b[0;34m\u001b[0m\u001b[0m\n\u001b[0;32m--> 823\u001b[0;31m         return Variable._execution_engine.run_backward(  # Calls into the C++ engine to run the backward pass\n\u001b[0m\u001b[1;32m    824\u001b[0m             \u001b[0mt_outputs\u001b[0m\u001b[0;34m,\u001b[0m \u001b[0;34m*\u001b[0m\u001b[0margs\u001b[0m\u001b[0;34m,\u001b[0m \u001b[0;34m**\u001b[0m\u001b[0mkwargs\u001b[0m\u001b[0;34m\u001b[0m\u001b[0;34m\u001b[0m\u001b[0m\n\u001b[1;32m    825\u001b[0m         )  # Calls into the C++ engine to run the backward pass\n",
            "\u001b[0;31mKeyboardInterrupt\u001b[0m: "
          ]
        }
      ],
      "source": [
        "num_iter = 1000 # train for 10 epochs\n",
        "optimizer = torch.optim.Adam(params=model.parameters(), lr=1e-3)\n",
        "loss_function = torch.nn.MSELoss()\n",
        "\n",
        "loss_hist_train = [] # record loss for training set\n",
        "loss_hist_val = [] # record loss for validation set\n",
        "\n",
        "# training loop\n",
        "for epoch in range(num_iter):\n",
        "    train_batch = iter(dataloader)\n",
        "\n",
        "    minibatch_counter_train = 0\n",
        "    minibatch_counter_val = 0\n",
        "    loss_epoch_train = []\n",
        "    loss_epoch_val = []\n",
        "\n",
        "    # Training\n",
        "    for feature, label in train_batch:\n",
        "        # prepare data\n",
        "        feature = feature.to(device, dtype=torch.float32)  # Convert to Float32\n",
        "        label = label.to(device, dtype=torch.float32)  # Convert to Float32\n",
        "\n",
        "        # Run the model on the feature\n",
        "        output, mem = model(feature)\n",
        "\n",
        "        # Calculate loss for both values\n",
        "        loss_val1 = loss_function(mem[:, 0], label[:, 0])\n",
        "        loss_val2 = loss_function(mem[:, 1], label[:, 1])\n",
        "\n",
        "        # Calculate total loss\n",
        "        loss_val = loss_val1 + loss_val2\n",
        "\n",
        "        # Zero out gradients\n",
        "        optimizer.zero_grad()\n",
        "\n",
        "        # Calculate gradients\n",
        "        loss_val.backward()\n",
        "\n",
        "        # Update weights\n",
        "        optimizer.step()\n",
        "\n",
        "        # Store loss\n",
        "        loss_hist_train.append(loss_val.item())\n",
        "        loss_epoch_train.append(loss_val.item())\n",
        "        minibatch_counter_train += 1\n",
        "\n",
        "\n",
        "    model.train() # set model back to training mode\n",
        "\n",
        "    avg_batch_loss_train = sum(loss_epoch_train) / minibatch_counter_train # calculate average loss p/epoch for training set\n",
        "    print(\"Loss after epoch {}: Train - %.3e\".format(epoch+1) % (avg_batch_loss_train)) # print loss p/batch\n",
        ",m"
      ]
    },
    {
      "cell_type": "code",
      "source": [
        "!pip install neurobench --quiet\n",
        "\n",
        "from neurobench.models import SNNTorchModel\n",
        "from neurobench.processors.postprocessors import ChooseMaxCount\n",
        "from neurobench.benchmarks import Benchmark\n",
        "from neurobench.metrics.workload import (\n",
        "    ActivationSparsity,\n",
        "    SynapticOperations,\n",
        "    ClassificationAccuracy, # Remove this line\n",
        "    #MeanSquaredError, # Add this line for regression\n",
        ")\n",
        "from neurobench.metrics.static import (\n",
        "    Footprint,\n",
        "    ConnectionSparsity,\n",
        ")\n",
        "\n",
        "# ... (your existing code) ...\n",
        "\n",
        "# Create a SNNTorchModel instance\n",
        "# Wrap your model in a custom class to handle the input shape\n",
        "class CustomSNNTorchModel(SNNTorchModel):\n",
        "    def __call__(self, data):\n",
        "        # Reshape the input data to match your model's expected shape (batch_size, num_features)\n",
        "        data = data.squeeze(1)  # remove the timestep dimension\n",
        "        # Call the original forward method of your model\n",
        "        spk_out, mem_out = self.net(data)  # Get membrane potential\n",
        "\n",
        "        # Return membrane potential for regression metrics\n",
        "        #spikes = torch.stack([spk_out]).transpose(0, 1)\n",
        "        return mem_out  # Return membrane potential instead of spikes\n",
        "\n",
        "model1 = CustomSNNTorchModel(model)\n",
        "\n",
        "# Define preprocessors and postprocessors\n",
        "preprocessors = []\n",
        "#postprocessors = [ChooseMaxCount()]  # Consider removing or replacing for regression\n",
        "postprocessors = []  # Consider removing or replacing for regression\n",
        "\n",
        "\n",
        "\n",
        "static_metrics = [Footprint, ConnectionSparsity]\n",
        "workload_metrics = [ActivationSparsity,SynapticOperations]\n",
        "\n",
        "benchmark = Benchmark(model1, train_dataloader, preprocessors, postprocessors, [static_metrics, workload_metrics])\n",
        "results = benchmark.run(device=device)\n",
        "print(results)\n",
        "\n"
      ],
      "metadata": {
        "colab": {
          "base_uri": "https://localhost:8080/",
          "height": 1000
        },
        "id": "HNs9nSeFiYwd",
        "outputId": "2a2276a8-c466-4e6a-dc6d-b336d2a73a84"
      },
      "execution_count": 139,
      "outputs": [
        {
          "output_type": "stream",
          "name": "stdout",
          "text": [
            "\u001b[?25l     \u001b[90m━━━━━━━━━━━━━━━━━━━━━━━━━━━━━━━━━━━━━━━━\u001b[0m \u001b[32m0.0/61.0 kB\u001b[0m \u001b[31m?\u001b[0m eta \u001b[36m-:--:--\u001b[0m\r\u001b[2K     \u001b[90m━━━━━━━━━━━━━━━━━━━━━━━━━━━━━━━━━━━━━━━━\u001b[0m \u001b[32m61.0/61.0 kB\u001b[0m \u001b[31m3.2 MB/s\u001b[0m eta \u001b[36m0:00:00\u001b[0m\n",
            "\u001b[?25hTraceback (most recent call last):\n",
            "  File \"/usr/local/lib/python3.11/dist-packages/pip/_internal/cli/base_command.py\", line 179, in exc_logging_wrapper\n",
            "    status = run_func(*args)\n",
            "             ^^^^^^^^^^^^^^^\n",
            "  File \"/usr/local/lib/python3.11/dist-packages/pip/_internal/cli/req_command.py\", line 67, in wrapper\n",
            "    return func(self, options, args)\n",
            "           ^^^^^^^^^^^^^^^^^^^^^^^^^\n",
            "  File \"/usr/local/lib/python3.11/dist-packages/pip/_internal/commands/install.py\", line 377, in run\n",
            "    requirement_set = resolver.resolve(\n",
            "                      ^^^^^^^^^^^^^^^^^\n",
            "  File \"/usr/local/lib/python3.11/dist-packages/pip/_internal/resolution/resolvelib/resolver.py\", line 95, in resolve\n",
            "    result = self._result = resolver.resolve(\n",
            "                            ^^^^^^^^^^^^^^^^^\n",
            "  File \"/usr/local/lib/python3.11/dist-packages/pip/_vendor/resolvelib/resolvers.py\", line 546, in resolve\n",
            "    state = resolution.resolve(requirements, max_rounds=max_rounds)\n",
            "            ^^^^^^^^^^^^^^^^^^^^^^^^^^^^^^^^^^^^^^^^^^^^^^^^^^^^^^^\n",
            "  File \"/usr/local/lib/python3.11/dist-packages/pip/_vendor/resolvelib/resolvers.py\", line 427, in resolve\n",
            "    failure_causes = self._attempt_to_pin_criterion(name)\n",
            "                     ^^^^^^^^^^^^^^^^^^^^^^^^^^^^^^^^^^^^\n",
            "  File \"/usr/local/lib/python3.11/dist-packages/pip/_vendor/resolvelib/resolvers.py\", line 239, in _attempt_to_pin_criterion\n",
            "    criteria = self._get_updated_criteria(candidate)\n",
            "               ^^^^^^^^^^^^^^^^^^^^^^^^^^^^^^^^^^^^^\n",
            "  File \"/usr/local/lib/python3.11/dist-packages/pip/_vendor/resolvelib/resolvers.py\", line 230, in _get_updated_criteria\n",
            "    self._add_to_criteria(criteria, requirement, parent=candidate)\n",
            "  File \"/usr/local/lib/python3.11/dist-packages/pip/_vendor/resolvelib/resolvers.py\", line 173, in _add_to_criteria\n",
            "    if not criterion.candidates:\n",
            "  File \"/usr/local/lib/python3.11/dist-packages/pip/_vendor/resolvelib/structs.py\", line 156, in __bool__\n",
            "    return bool(self._sequence)\n",
            "           ^^^^^^^^^^^^^^^^^^^^\n",
            "  File \"/usr/local/lib/python3.11/dist-packages/pip/_internal/resolution/resolvelib/found_candidates.py\", line 174, in __bool__\n",
            "    return any(self)\n",
            "           ^^^^^^^^^\n",
            "  File \"/usr/local/lib/python3.11/dist-packages/pip/_internal/resolution/resolvelib/found_candidates.py\", line 162, in <genexpr>\n",
            "    return (c for c in iterator if id(c) not in self._incompatible_ids)\n",
            "           ^^^^^^^^^^^^^^^^^^^^^^^^^^^^^^^^^^^^^^^^^^^^^^^^^^^^^^^^^^^^\n",
            "  File \"/usr/local/lib/python3.11/dist-packages/pip/_internal/resolution/resolvelib/found_candidates.py\", line 49, in _iter_built\n",
            "    for version, func in infos:\n",
            "  File \"/usr/local/lib/python3.11/dist-packages/pip/_internal/resolution/resolvelib/factory.py\", line 300, in iter_index_candidate_infos\n",
            "    result = self._finder.find_best_candidate(\n",
            "             ^^^^^^^^^^^^^^^^^^^^^^^^^^^^^^^^^\n",
            "  File \"/usr/local/lib/python3.11/dist-packages/pip/_internal/index/package_finder.py\", line 884, in find_best_candidate\n",
            "    candidates = self.find_all_candidates(project_name)\n",
            "                 ^^^^^^^^^^^^^^^^^^^^^^^^^^^^^^^^^^^^^^\n",
            "  File \"/usr/local/lib/python3.11/dist-packages/pip/_internal/index/package_finder.py\", line 825, in find_all_candidates\n",
            "    page_candidates = list(page_candidates_it)\n",
            "                      ^^^^^^^^^^^^^^^^^^^^^^^^\n",
            "  File \"/usr/local/lib/python3.11/dist-packages/pip/_internal/index/sources.py\", line 194, in page_candidates\n",
            "    yield from self._candidates_from_page(self._link)\n",
            "               ^^^^^^^^^^^^^^^^^^^^^^^^^^^^^^^^^^^^^^\n",
            "  File \"/usr/local/lib/python3.11/dist-packages/pip/_internal/index/package_finder.py\", line 792, in process_project_url\n",
            "    package_links = self.evaluate_links(\n",
            "                    ^^^^^^^^^^^^^^^^^^^^\n",
            "  File \"/usr/local/lib/python3.11/dist-packages/pip/_internal/index/package_finder.py\", line 772, in evaluate_links\n",
            "    candidate = self.get_install_candidate(link_evaluator, link)\n",
            "                ^^^^^^^^^^^^^^^^^^^^^^^^^^^^^^^^^^^^^^^^^^^^^^^^\n",
            "  File \"/usr/local/lib/python3.11/dist-packages/pip/_internal/index/package_finder.py\", line 752, in get_install_candidate\n",
            "    self._log_skipped_link(link, result, detail)\n",
            "  File \"/usr/local/lib/python3.11/dist-packages/pip/_internal/index/package_finder.py\", line 740, in _log_skipped_link\n",
            "    logger.debug(\"Skipping link: %s: %s\", detail, link)\n",
            "  File \"/usr/lib/python3.11/logging/__init__.py\", line 1477, in debug\n",
            "    self._log(DEBUG, msg, args, **kwargs)\n",
            "  File \"/usr/lib/python3.11/logging/__init__.py\", line 1634, in _log\n",
            "    self.handle(record)\n",
            "  File \"/usr/lib/python3.11/logging/__init__.py\", line 1644, in handle\n",
            "    self.callHandlers(record)\n",
            "  File \"/usr/lib/python3.11/logging/__init__.py\", line 1706, in callHandlers\n",
            "    hdlr.handle(record)\n",
            "  File \"/usr/lib/python3.11/logging/__init__.py\", line 978, in handle\n",
            "    self.emit(record)\n",
            "  File \"/usr/lib/python3.11/logging/handlers.py\", line 75, in emit\n",
            "    logging.FileHandler.emit(self, record)\n",
            "  File \"/usr/lib/python3.11/logging/__init__.py\", line 1230, in emit\n",
            "    StreamHandler.emit(self, record)\n",
            "  File \"/usr/lib/python3.11/logging/__init__.py\", line 1114, in emit\n",
            "    self.flush()\n",
            "  File \"/usr/lib/python3.11/logging/__init__.py\", line 1093, in flush\n",
            "    if self.stream and hasattr(self.stream, \"flush\"):\n",
            "                       ^^^^^^^^^^^^^^^^^^^^^^^^^^^^^\n",
            "KeyboardInterrupt\n",
            "\n",
            "During handling of the above exception, another exception occurred:\n",
            "\n",
            "Traceback (most recent call last):\n",
            "  File \"/usr/local/bin/pip3\", line 10, in <module>\n",
            "    sys.exit(main())\n",
            "             ^^^^^^\n",
            "  File \"/usr/local/lib/python3.11/dist-packages/pip/_internal/cli/main.py\", line 80, in main\n",
            "    return command.main(cmd_args)\n",
            "           ^^^^^^^^^^^^^^^^^^^^^^\n",
            "  File \"/usr/local/lib/python3.11/dist-packages/pip/_internal/cli/base_command.py\", line 100, in main\n",
            "    return self._main(args)\n",
            "           ^^^^^^^^^^^^^^^^\n",
            "  File \"/usr/local/lib/python3.11/dist-packages/pip/_internal/cli/base_command.py\", line 232, in _main\n",
            "    return run(options, args)\n",
            "           ^^^^^^^^^^^^^^^^^^\n",
            "  File \"/usr/local/lib/python3.11/dist-packages/pip/_internal/cli/base_command.py\", line 215, in exc_logging_wrapper\n",
            "    logger.critical(\"Operation cancelled by user\")\n",
            "  File \"/usr/lib/python3.11/logging/__init__.py\", line 1536, in critical\n",
            "    self._log(CRITICAL, msg, args, **kwargs)\n",
            "  File \"/usr/lib/python3.11/logging/__init__.py\", line 1634, in _log\n",
            "    self.handle(record)\n",
            "  File \"/usr/lib/python3.11/logging/__init__.py\", line 1644, in handle\n",
            "    self.callHandlers(record)\n",
            "  File \"/usr/lib/python3.11/logging/__init__.py\", line 1706, in callHandlers\n",
            "    hdlr.handle(record)\n",
            "  File \"/usr/lib/python3.11/logging/__init__.py\", line 978, in handle\n",
            "    self.emit(record)\n",
            "  File \"/usr/local/lib/python3.11/dist-packages/pip/_internal/utils/logging.py\", line 172, in emit\n",
            "    style = Style(color=\"red\")\n",
            "            ^^^^^^^^^^^^^^^^^^\n",
            "  File \"/usr/local/lib/python3.11/dist-packages/pip/_vendor/rich/style.py\", line 146, in __init__\n",
            "    def _make_color(color: Union[Color, str]) -> Color:\n",
            "                           ~~~~~^^^^^^^^^^^^\n",
            "  File \"/usr/lib/python3.11/typing.py\", line 376, in inner\n",
            "    return cached(*args, **kwds)\n",
            "           ^^^^^^^^^^^^^^^^^^^^^\n",
            "  File \"/usr/lib/python3.11/typing.py\", line 502, in __getitem__\n",
            "    return self._getitem(self, parameters)\n",
            "           ^^^^^^^^^^^^^^^^^^^^^^^^^^^^^^^\n",
            "  File \"/usr/lib/python3.11/typing.py\", line 721, in Union\n",
            "    return _UnionGenericAlias(self, parameters)\n",
            "           ^^^^^^^^^^^^^^^^^^^^^^^^^^^^^^^^^^^^\n",
            "  File \"/usr/lib/python3.11/typing.py\", line 1386, in __init__\n",
            "    self.__module__ = origin.__module__\n",
            "    ^^^^^^^^^^^^^^^\n",
            "  File \"/usr/lib/python3.11/typing.py\", line 1323, in __setattr__\n",
            "    super().__setattr__(attr, val)\n",
            "KeyboardInterrupt\n",
            "^C\n"
          ]
        },
        {
          "output_type": "error",
          "ename": "ModuleNotFoundError",
          "evalue": "No module named 'neurobench'",
          "traceback": [
            "\u001b[0;31m---------------------------------------------------------------------------\u001b[0m",
            "\u001b[0;31mModuleNotFoundError\u001b[0m                       Traceback (most recent call last)",
            "\u001b[0;32m<ipython-input-139-c69643bdce6c>\u001b[0m in \u001b[0;36m<cell line: 0>\u001b[0;34m()\u001b[0m\n\u001b[1;32m      1\u001b[0m \u001b[0mget_ipython\u001b[0m\u001b[0;34m(\u001b[0m\u001b[0;34m)\u001b[0m\u001b[0;34m.\u001b[0m\u001b[0msystem\u001b[0m\u001b[0;34m(\u001b[0m\u001b[0;34m'pip install neurobench --quiet'\u001b[0m\u001b[0;34m)\u001b[0m\u001b[0;34m\u001b[0m\u001b[0;34m\u001b[0m\u001b[0m\n\u001b[1;32m      2\u001b[0m \u001b[0;34m\u001b[0m\u001b[0m\n\u001b[0;32m----> 3\u001b[0;31m \u001b[0;32mfrom\u001b[0m \u001b[0mneurobench\u001b[0m\u001b[0;34m.\u001b[0m\u001b[0mmodels\u001b[0m \u001b[0;32mimport\u001b[0m \u001b[0mSNNTorchModel\u001b[0m\u001b[0;34m\u001b[0m\u001b[0;34m\u001b[0m\u001b[0m\n\u001b[0m\u001b[1;32m      4\u001b[0m \u001b[0;32mfrom\u001b[0m \u001b[0mneurobench\u001b[0m\u001b[0;34m.\u001b[0m\u001b[0mprocessors\u001b[0m\u001b[0;34m.\u001b[0m\u001b[0mpostprocessors\u001b[0m \u001b[0;32mimport\u001b[0m \u001b[0mChooseMaxCount\u001b[0m\u001b[0;34m\u001b[0m\u001b[0;34m\u001b[0m\u001b[0m\n\u001b[1;32m      5\u001b[0m \u001b[0;32mfrom\u001b[0m \u001b[0mneurobench\u001b[0m\u001b[0;34m.\u001b[0m\u001b[0mbenchmarks\u001b[0m \u001b[0;32mimport\u001b[0m \u001b[0mBenchmark\u001b[0m\u001b[0;34m\u001b[0m\u001b[0;34m\u001b[0m\u001b[0m\n",
            "\u001b[0;31mModuleNotFoundError\u001b[0m: No module named 'neurobench'",
            "",
            "\u001b[0;31m---------------------------------------------------------------------------\u001b[0;32m\nNOTE: If your import is failing due to a missing package, you can\nmanually install dependencies using either !pip or !apt.\n\nTo view examples of installing some common dependencies, click the\n\"Open Examples\" button below.\n\u001b[0;31m---------------------------------------------------------------------------\u001b[0m\n"
          ],
          "errorDetails": {
            "actions": [
              {
                "action": "open_url",
                "actionText": "Open Examples",
                "url": "/notebooks/snippets/importing_libraries.ipynb"
              }
            ]
          }
        }
      ]
    },
    {
      "cell_type": "code",
      "source": [
        "print(results)"
      ],
      "metadata": {
        "colab": {
          "base_uri": "https://localhost:8080/"
        },
        "id": "vJ6waDFHtU45",
        "outputId": "bd939189-9c69-4d98-e53c-1ea2ca3af450"
      },
      "execution_count": null,
      "outputs": [
        {
          "output_type": "stream",
          "name": "stdout",
          "text": [
            "{'Footprint': 7728, 'ConnectionSparsity': 0.0, 'ActivationSparsity': 0.8223888259895945, 'SynapticOperations': {'Effective_MACs': 1536.0, 'Effective_ACs': 22.081661388858556, 'Dense': 1664.0}}\n"
          ]
        }
      ]
    },
    {
      "cell_type": "code",
      "source": [
        "# Reshape the input data\n",
        "test_features = test_features.reshape(-1, 12)\n",
        "\n",
        "# Create a custom dataset instance\n",
        "test_dataset = CustomDataset(test_features, test_labels)\n",
        "\n",
        "# Create a DataLoader instance\n",
        "test_dataloader = DataLoader(dataset=test_dataset, batch_size=1, drop_last=True)\n",
        "\n",
        "# Create a SNNTorchModel instance\n",
        "model = SNNTorchModel(net)\n",
        "\n",
        "# Define preprocessors and postprocessors\n",
        "preprocessors = []\n",
        "postprocessors = [ChooseMaxCount()]\n",
        "\n",
        "# Define metrics\n",
        "static_metrics = [Footprint, ConnectionSparsity]\n",
        "workload_metrics = [ClassificationAccuracy, ActivationSparsity, SynapticOperations]\n",
        "\n",
        "# Create a Benchmark instance\n",
        "benchmark = Benchmark(model, test_dataloader, preprocessors, postprocessors, [static_metrics, workload_metrics])\n",
        "\n",
        "# Run the benchmark\n",
        "results = benchmark.run(device=\"cuda\")\n",
        "print(results)\n"
      ],
      "metadata": {
        "colab": {
          "base_uri": "https://localhost:8080/",
          "height": 345
        },
        "id": "NOhhvTCcbWYk",
        "outputId": "0ec89b0c-eabb-452f-c625-79978d6cc1a1"
      },
      "execution_count": null,
      "outputs": [
        {
          "output_type": "error",
          "ename": "AttributeError",
          "evalue": "'SNNTorchModel' object has no attribute 'eval'",
          "traceback": [
            "\u001b[0;31m---------------------------------------------------------------------------\u001b[0m",
            "\u001b[0;31mAttributeError\u001b[0m                            Traceback (most recent call last)",
            "\u001b[0;32m<ipython-input-37-39aecb6ec671>\u001b[0m in \u001b[0;36m<cell line: 0>\u001b[0;34m()\u001b[0m\n\u001b[1;32m      9\u001b[0m \u001b[0;34m\u001b[0m\u001b[0m\n\u001b[1;32m     10\u001b[0m \u001b[0;31m# Create a SNNTorchModel instance\u001b[0m\u001b[0;34m\u001b[0m\u001b[0;34m\u001b[0m\u001b[0m\n\u001b[0;32m---> 11\u001b[0;31m \u001b[0mmodel\u001b[0m \u001b[0;34m=\u001b[0m \u001b[0mSNNTorchModel\u001b[0m\u001b[0;34m(\u001b[0m\u001b[0mmodel\u001b[0m\u001b[0;34m)\u001b[0m\u001b[0;34m\u001b[0m\u001b[0;34m\u001b[0m\u001b[0m\n\u001b[0m\u001b[1;32m     12\u001b[0m \u001b[0;34m\u001b[0m\u001b[0m\n\u001b[1;32m     13\u001b[0m \u001b[0;31m# Define preprocessors and postprocessors\u001b[0m\u001b[0;34m\u001b[0m\u001b[0;34m\u001b[0m\u001b[0m\n",
            "\u001b[0;32m/usr/local/lib/python3.11/dist-packages/neurobench/models/snntorch_models.py\u001b[0m in \u001b[0;36m__init__\u001b[0;34m(self, net, custom_forward)\u001b[0m\n\u001b[1;32m     20\u001b[0m \u001b[0;34m\u001b[0m\u001b[0m\n\u001b[1;32m     21\u001b[0m         \u001b[0mself\u001b[0m\u001b[0;34m.\u001b[0m\u001b[0mnet\u001b[0m \u001b[0;34m=\u001b[0m \u001b[0mnet\u001b[0m\u001b[0;34m\u001b[0m\u001b[0;34m\u001b[0m\u001b[0m\n\u001b[0;32m---> 22\u001b[0;31m         \u001b[0mself\u001b[0m\u001b[0;34m.\u001b[0m\u001b[0mnet\u001b[0m\u001b[0;34m.\u001b[0m\u001b[0meval\u001b[0m\u001b[0;34m(\u001b[0m\u001b[0;34m)\u001b[0m\u001b[0;34m\u001b[0m\u001b[0;34m\u001b[0m\u001b[0m\n\u001b[0m\u001b[1;32m     23\u001b[0m \u001b[0;34m\u001b[0m\u001b[0m\n\u001b[1;32m     24\u001b[0m         \u001b[0;31m# add snntorch neuron layers as activation modules\u001b[0m\u001b[0;34m\u001b[0m\u001b[0;34m\u001b[0m\u001b[0m\n",
            "\u001b[0;31mAttributeError\u001b[0m: 'SNNTorchModel' object has no attribute 'eval'"
          ]
        }
      ]
    },
    {
      "cell_type": "code",
      "source": [
        "print(model.fc1.weight)\n",
        "print(model.fc2.weight)\n",
        "\n"
      ],
      "metadata": {
        "id": "tvcrREbD4LG4",
        "outputId": "f4f64995-663d-4804-da86-5b04097b9b9b",
        "colab": {
          "base_uri": "https://localhost:8080/",
          "height": 1000
        }
      },
      "execution_count": null,
      "outputs": [
        {
          "output_type": "stream",
          "name": "stdout",
          "text": [
            "Parameter containing:\n",
            "tensor([[-2.5043e-03, -1.1231e-02,  5.4316e-01,  ..., -1.6706e-01,\n",
            "          8.7534e-01, -4.5387e-01],\n",
            "        [ 1.7947e-01, -1.9556e-02,  1.0241e+00,  ...,  8.7854e-02,\n",
            "          2.9016e-01,  1.0045e+00],\n",
            "        [-3.8089e+00,  6.1794e-01, -3.7936e-01,  ...,  2.9451e-01,\n",
            "         -8.8330e-01,  2.0454e+00],\n",
            "        ...,\n",
            "        [-2.7458e+00,  2.8686e-01, -3.4865e+00,  ...,  4.0762e-02,\n",
            "         -3.8345e+00,  9.7601e-01],\n",
            "        [-6.2000e-01,  3.5391e-01, -1.4976e+00,  ..., -7.8688e-03,\n",
            "         -1.6293e+00,  1.2347e+00],\n",
            "        [ 1.1386e+00,  3.3705e-01,  8.0553e+00,  ...,  5.4486e-02,\n",
            "          8.0096e+00,  2.6376e+00]], device='cuda:0', requires_grad=True)\n",
            "Parameter containing:\n",
            "tensor([[-0.0834,  0.0541,  0.6336,  0.0750, -0.2751, -0.0662,  0.2778,  0.2541,\n",
            "          0.0754,  0.0886,  0.2910, -0.1417,  0.1975,  0.1577,  0.2380, -0.1074,\n",
            "         -0.9951,  0.1862,  0.0925,  0.4374,  0.4182,  0.1217,  0.0367, -0.0824,\n",
            "          0.0926,  0.1512, -0.6263, -0.0532,  0.1667, -0.0659,  0.0917, -0.1423,\n",
            "          0.0747,  0.0774,  0.0924,  0.0550,  0.1785,  0.0378,  0.2976,  0.2692,\n",
            "          0.2745, -0.1004, -0.1353,  0.2251,  0.2613, -0.0856,  0.2016,  0.1021,\n",
            "          0.3878, -0.7680, -0.0538, -0.0892, -0.2858,  0.0031,  0.6813, -0.1235,\n",
            "         -0.2743, -0.0935,  0.2465,  0.2413,  0.3579,  0.3567, -0.0377, -0.1043,\n",
            "         -0.2039,  0.2088,  0.5012,  0.5624, -0.0483,  0.2055,  0.2421,  0.7846,\n",
            "         -0.0923, -0.3683,  0.2238, -0.2167, -0.1869,  0.1026, -0.1546, -0.0148,\n",
            "         -0.0858,  0.0597, -0.0829,  0.2570,  0.0333,  0.2701,  0.2580, -0.0448,\n",
            "          0.0709, -0.0785,  0.0177, -0.0966,  0.0771,  0.1187,  0.2434,  0.4214,\n",
            "         -0.0402,  0.1434,  0.2436,  0.2515,  0.2356,  0.0704,  0.1663, -0.0824,\n",
            "         -0.0022, -0.0967,  0.1467, -0.0714, -0.0810, -0.0762,  0.1536, -0.1464,\n",
            "          0.2322,  0.1405, -0.0594, -0.0172, -0.5425, -0.3311,  0.2232,  0.0368,\n",
            "          0.0886, -0.0997,  0.0651, -0.2392,  0.0590, -0.8387, -0.1592,  0.6261]],\n",
            "       device='cuda:0', requires_grad=True)\n",
            "Parameter containing:\n",
            "tensor([0., 0., 0., 0., 0., 0., 0., 0., 0., 0., 0., 0., 0., 0., 0., 0., 0., 0., 0., 0., 0., 0., 0., 0.,\n",
            "        0., 0., 0., 0., 0., 0., 0., 0., 0., 0., 0., 0., 0., 0., 0., 0., 0., 0., 0., 0., 0., 0., 0., 0.,\n",
            "        0., 0., 0., 0., 0., 0., 0., 0., 0., 0., 0., 0., 0., 0., 0., 0., 0., 0., 0., 0., 0., 0., 0., 0.,\n",
            "        0., 0., 0., 0., 0., 0., 0., 0., 0., 0., 0., 0., 0., 0., 0., 0., 0., 0., 0., 0., 0., 0., 0., 0.,\n",
            "        0., 0., 0., 0., 0., 0., 0., 0., 0., 0., 0., 0., 0., 0., 0., 0., 0., 0., 0., 0., 0., 0., 0., 0.,\n",
            "        0., 0., 0., 0., 0., 0., 0., 0.], device='cuda:0')\n"
          ]
        },
        {
          "output_type": "error",
          "ename": "AttributeError",
          "evalue": "'Net' object has no attribute 'fc'",
          "traceback": [
            "\u001b[0;31m---------------------------------------------------------------------------\u001b[0m",
            "\u001b[0;31mAttributeError\u001b[0m                            Traceback (most recent call last)",
            "\u001b[0;32m<ipython-input-78-3723efcbd572>\u001b[0m in \u001b[0;36m<cell line: 0>\u001b[0;34m()\u001b[0m\n\u001b[1;32m      2\u001b[0m \u001b[0mprint\u001b[0m\u001b[0;34m(\u001b[0m\u001b[0mmodel\u001b[0m\u001b[0;34m.\u001b[0m\u001b[0mfc2\u001b[0m\u001b[0;34m.\u001b[0m\u001b[0mweight\u001b[0m\u001b[0;34m)\u001b[0m\u001b[0;34m\u001b[0m\u001b[0;34m\u001b[0m\u001b[0m\n\u001b[1;32m      3\u001b[0m \u001b[0mprint\u001b[0m\u001b[0;34m(\u001b[0m\u001b[0mmodel\u001b[0m\u001b[0;34m.\u001b[0m\u001b[0mfc1\u001b[0m\u001b[0;34m.\u001b[0m\u001b[0mbias\u001b[0m\u001b[0;34m)\u001b[0m\u001b[0;34m\u001b[0m\u001b[0;34m\u001b[0m\u001b[0m\n\u001b[0;32m----> 4\u001b[0;31m \u001b[0mprint\u001b[0m\u001b[0;34m(\u001b[0m\u001b[0mmodel\u001b[0m\u001b[0;34m.\u001b[0m\u001b[0mfc\u001b[0m\u001b[0;34m.\u001b[0m\u001b[0mbias\u001b[0m\u001b[0;34m)\u001b[0m\u001b[0;34m\u001b[0m\u001b[0;34m\u001b[0m\u001b[0m\n\u001b[0m\u001b[1;32m      5\u001b[0m \u001b[0;34m\u001b[0m\u001b[0m\n",
            "\u001b[0;32m/usr/local/lib/python3.11/dist-packages/torch/nn/modules/module.py\u001b[0m in \u001b[0;36m__getattr__\u001b[0;34m(self, name)\u001b[0m\n\u001b[1;32m   1926\u001b[0m             \u001b[0;32mif\u001b[0m \u001b[0mname\u001b[0m \u001b[0;32min\u001b[0m \u001b[0mmodules\u001b[0m\u001b[0;34m:\u001b[0m\u001b[0;34m\u001b[0m\u001b[0;34m\u001b[0m\u001b[0m\n\u001b[1;32m   1927\u001b[0m                 \u001b[0;32mreturn\u001b[0m \u001b[0mmodules\u001b[0m\u001b[0;34m[\u001b[0m\u001b[0mname\u001b[0m\u001b[0;34m]\u001b[0m\u001b[0;34m\u001b[0m\u001b[0;34m\u001b[0m\u001b[0m\n\u001b[0;32m-> 1928\u001b[0;31m         raise AttributeError(\n\u001b[0m\u001b[1;32m   1929\u001b[0m             \u001b[0;34mf\"'{type(self).__name__}' object has no attribute '{name}'\"\u001b[0m\u001b[0;34m\u001b[0m\u001b[0;34m\u001b[0m\u001b[0m\n\u001b[1;32m   1930\u001b[0m         )\n",
            "\u001b[0;31mAttributeError\u001b[0m: 'Net' object has no attribute 'fc'"
          ]
        }
      ]
    },
    {
      "cell_type": "markdown",
      "metadata": {
        "id": "HnpHG9b-yZjD"
      },
      "source": [
        "# 5. Evaluation"
      ]
    },
    {
      "cell_type": "code",
      "execution_count": 210,
      "metadata": {
        "colab": {
          "base_uri": "https://localhost:8080/",
          "height": 392
        },
        "id": "yPWLbIDeyZjD",
        "outputId": "1bcfedaf-01c9-4010-95e0-efeb54cb82ea"
      },
      "outputs": [
        {
          "output_type": "display_data",
          "data": {
            "text/plain": [
              "<Figure size 1000x600 with 1 Axes>"
            ],
            "image/png": "[encoded data removed]"
          },
          "metadata": {}
        }
      ],
      "source": [
        "import matplotlib.pyplot as plt\n",
        "\n",
        "train_batch = iter(dataloader)\n",
        "\n",
        "with torch.no_grad():\n",
        "    labels1 = []\n",
        "    labels2 = []\n",
        "    predictions1 = []\n",
        "    predictions2 = []\n",
        "    for _ in range(10):  # Changed from 1 to 100\n",
        "        batch = next(train_batch)\n",
        "        feature, label = batch\n",
        "        feature = feature.to(device, dtype=torch.float32)  # Convert to Float32\n",
        "        label = label.to(device)\n",
        "        output, mem = model(feature)\n",
        "        labels1.append(label[:, 0].cpu().numpy())\n",
        "        labels2.append(label[:, 1].cpu().numpy())\n",
        "        predictions1.append(mem[:, 0].cpu().numpy())\n",
        "        predictions2.append(mem[:, 1].cpu().numpy())\n",
        "\n",
        "    # Plot label and prediction\n",
        "    plt.figure(figsize=(10, 6))\n",
        "    plt.plot(np.concatenate(labels1), label='Label 1')\n",
        "    plt.plot(np.concatenate(predictions1), label='Prediction 1')\n",
        "    plt.plot(np.concatenate(labels2), label='Label 2')\n",
        "    plt.plot(np.concatenate(predictions2), label='Prediction 2')\n",
        "    plt.legend()\n",
        "    plt.show()\n"
      ]
    },
    {
      "cell_type": "code",
      "source": [
        "import torch\n",
        "from torch.utils.data import Dataset, DataLoader\n",
        "import numpy as np\n",
        "import pandas as pd\n",
        "from sklearn.model_selection import train_test_split\n",
        "import matplotlib.pyplot as plt\n",
        "\n",
        "# Load the data from the CSV file\n",
        "data = pd.read_csv('data.csv')\n",
        "\n",
        "# Get the input features and the label\n",
        "input_features = data.iloc[:, :12].values.astype(np.float32)\n",
        "label = data.iloc[:, 12].values.astype(np.float32)\n",
        "\n",
        "# Reshape the label to match the output shape of the model\n",
        "label = label.reshape((input_features.shape[0], 1))\n",
        "\n",
        "# Split the data into training, testing, and validation sets\n",
        "train_features, val_test_features, train_labels, val_test_labels = train_test_split(input_features, label, test_size=0.4, random_state=42)\n",
        "val_features, test_features, val_labels, test_labels = train_test_split(val_test_features, val_test_labels, test_size=0.5, random_state=42)\n",
        "\n",
        "# Create custom dataset instances for each set\n",
        "train_dataset = CustomDataset(train_features, train_labels)\n",
        "val_dataset = CustomDataset(val_features, val_labels)\n",
        "test_dataset = CustomDataset(test_features, test_labels)\n",
        "\n",
        "# Create DataLoader instances for each set\n",
        "batch_size = 32\n",
        "train_dataloader = DataLoader(dataset=train_dataset, batch_size=batch_size, drop_last=True)\n",
        "val_dataloader = DataLoader(dataset=val_dataset, batch_size=batch_size, drop_last=True)\n",
        "test_dataloader = DataLoader(dataset=test_dataset, batch_size=batch_size, drop_last=True)\n",
        "\n",
        "# Import a set of continuous rows\n",
        "continuous_rows = 100\n",
        "continuous_features = input_features[:continuous_rows, :]\n",
        "continuous_labels = label[:continuous_rows, :]\n",
        "\n",
        "# Create a custom dataset instance for the continuous rows\n",
        "continuous_dataset = CustomDataset(continuous_features, continuous_labels)\n",
        "\n",
        "# Create a DataLoader instance for the continuous rows\n",
        "continuous_dataloader = DataLoader(dataset=continuous_dataset, batch_size=batch_size, drop_last=True)\n",
        "\n",
        "# Use the continuous rows to predict and plot\n",
        "\n",
        "\n",
        "# Use the continuous rows to predict and plot\n",
        "continuous_batch = iter(continuous_dataloader)\n",
        "\n",
        "with torch.no_grad():\n",
        "    for _ in range(len(continuous_dataloader)):\n",
        "        batch = next(continuous_batch)\n",
        "        features, labels = batch\n",
        "        features = features.to(device, dtype=torch.float32)\n",
        "        labels = labels.to(device)\n",
        "        outputs, _ = model(features)\n",
        "        predictions = outputs.cpu().numpy()\n",
        "        labels = labels.cpu().numpy()\n",
        "\n",
        "        plt.plot(labels, label='Labels')\n",
        "        plt.plot(predictions, label='Predictions')\n",
        "        plt.legend()\n",
        "        plt.show()"
      ],
      "metadata": {
        "id": "xwxMf_vys6ff",
        "outputId": "59ceb955-c775-400d-a966-a1c49f77557d",
        "colab": {
          "base_uri": "https://localhost:8080/",
          "height": 1000
        }
      },
      "execution_count": 12,
      "outputs": [
        {
          "output_type": "display_data",
          "data": {
            "text/plain": [
              "<Figure size 640x480 with 1 Axes>"
            ],
            "image/png": "[encoded data removed]"
          },
          "metadata": {}
        },
        {
          "output_type": "display_data",
          "data": {
            "text/plain": [
              "<Figure size 640x480 with 1 Axes>"
            ],
            "image/png": "[encoded data removed]"
          },
          "metadata": {}
        },
        {
          "output_type": "display_data",
          "data": {
            "text/plain": [
              "<Figure size 640x480 with 1 Axes>"
            ],
            "image/png": "[encoded data removed]"
          },
          "metadata": {}
        }
      ]
    },
    {
      "cell_type": "code",
      "source": [
        "import numpy as np\n",
        "\n",
        "# Create a numpy array with the 12 values\n",
        "input_values = np.array([\n",
        "    0.400165915, -1.274127364, 0.057144079, -0.1130144,\n",
        "    0.431862235, -1.264977455, 0.060369313, -0.111537278,\n",
        "    0.459596455, -1.244390249, 0.059304267, -0.111418493\n",
        "]).reshape(1, 12)\n",
        "\n",
        "# Make a prediction with the model\n",
        "input_values = torch.tensor(input_values, dtype=torch.float32).to(device)\n",
        "output, mem = model(input_values)\n",
        "\n",
        "# Print the prediction\n",
        "print(\"Prediction:\", mem.item())\n"
      ],
      "metadata": {
        "id": "Yh-uZ-pZ_g5r",
        "outputId": "e320260c-3ea8-452f-d4a5-4b9ffb9fee0f",
        "colab": {
          "base_uri": "https://localhost:8080/"
        }
      },
      "execution_count": null,
      "outputs": [
        {
          "output_type": "stream",
          "name": "stdout",
          "text": [
            "Prediction: 3.7566916942596436\n"
          ]
        }
      ]
    },
    {
      "cell_type": "code",
      "source": [
        "# Get the weights of the model\n",
        "layer1_weights = model.fc1.weight.detach().cpu().numpy().flatten()\n",
        "layer2_weights = model.fc2.weight.detach().cpu().numpy().flatten()\n",
        "\n",
        "# Store the weights in a text file\n",
        "with open(\"weights.txt\", \"w\") as f:\n",
        "    f.write(\"const float weights_layer1[{}] = {{\\n\".format(len(layer1_weights)))\n",
        "    for i in range(len(layer1_weights)):\n",
        "        f.write(\"  {:.6f}\".format(layer1_weights[i]))\n",
        "        if i < len(layer1_weights) - 1:\n",
        "            f.write(\",\")\n",
        "       # f.write(\"\\n\")\n",
        "    f.write(\"};\\n\")\n",
        "\n",
        "    f.write(\"const float weights_layer2[{}] = {{\\n\".format(len(layer2_weights)))\n",
        "    for i in range(len(layer2_weights)):\n",
        "        f.write(\"  {:.6f}\".format(layer2_weights[i]))\n",
        "        if i < len(layer2_weights) - 1:\n",
        "            f.write(\",\")\n",
        "       # f.write(\"\\n\")\n",
        "    f.write(\"};\\n\")\n"
      ],
      "metadata": {
        "id": "YXmA3i9e_69P"
      },
      "execution_count": null,
      "outputs": []
    },
    {
      "cell_type": "markdown",
      "metadata": {
        "id": "hTVkbZdFyZjE"
      },
      "source": [
        "Let's plot our results for some visual intuition:"
      ]
    },
    {
      "cell_type": "markdown",
      "metadata": {
        "id": "OVOLe0fWyZjF"
      },
      "source": [
        "It is a little jagged, but it's not looking too bad.\n",
        "\n",
        "You might try to improve the curve fit by expanding the size of the hidden layer, increasing the number of iterations, adding extra time steps, hyperparameter fine-tuning, or using a completely different neuron type."
      ]
    },
    {
      "cell_type": "markdown",
      "metadata": {
        "id": "DmIK2fqcyZjG"
      },
      "source": [
        "# Conclusion\n",
        "\n",
        "The next regression tutorials will test more powerful spiking neurons, such as Recurrent LIF neurons and spiking LSTMs, to see how they compare.\n",
        "\n",
        "If you like this project, please consider starring ⭐ the repo on GitHub as it is the easiest and best way to support it.\n"
      ]
    },
    {
      "cell_type": "markdown",
      "metadata": {
        "id": "71_3CodSyZjH"
      },
      "source": [
        "# Additional Resources\n",
        "* [Check out the snnTorch GitHub project here.](https://github.com/jeshraghian/snntorch)\n",
        "* More detail on nonlinear regression with SNNs can be found in our corresponding preprint here: [Henkes, A.; Eshraghian, J. K.; and Wessels, H.  “Spiking neural networks for nonlinear regression\", arXiv preprint arXiv:2210.03515, Oct. 2022.](https://arxiv.org/abs/2210.03515)"
      ]
    }
  ],
  "metadata": {
    "accelerator": "GPU",
    "celltoolbar": "Raw Cell Format",
    "colab": {
      "collapsed_sections": [
        "9QXsrr6Mp5e_",
        "1EWDw3bip8Ie",
        "vFM8UV9CreIX",
        "xXkTAJ9ws1Y6",
        "OgkWg605tE1y",
        "OBt0WDzyujnk",
        "xC96eesMqYo-",
        "mszPTrYOluym",
        "VTHK-wAWV57B"
      ],
      "name": "snntorch_regression_1.ipynb",
      "provenance": [],
      "include_colab_link": true
    },
    "kernelspec": {
      "display_name": "torch-gpu",
      "language": "python",
      "name": "python3"
    },
    "language_info": {
      "codemirror_mode": {
        "name": "ipython",
        "version": 3
      },
      "file_extension": ".py",
      "mimetype": "text/x-python",
      "name": "python",
      "nbconvert_exporter": "python",
      "pygments_lexer": "ipython3",
      "version": "3.8.15"
    },
    "vscode": {
      "interpreter": {
        "hash": "2a3056c17c3c31a88ffeb08a28ff32bf922ba3f6fa0343ca62cc95241e30c809"
      }
    }
  },
  "nbformat": 4,
  "nbformat_minor": 0
}